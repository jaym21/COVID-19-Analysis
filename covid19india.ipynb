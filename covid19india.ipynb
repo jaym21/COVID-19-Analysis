{
 "cells": [
  {
   "cell_type": "code",
   "execution_count": 1,
   "metadata": {},
   "outputs": [],
   "source": [
    "import numpy as np\n",
    "import pandas as pd\n",
    "import matplotlib.pyplot as plt \n",
    "import seaborn as sns"
   ]
  },
  {
   "cell_type": "code",
   "execution_count": 7,
   "metadata": {},
   "outputs": [],
   "source": [
    "# importing plotly for interactive plots\n",
    "from plotly import __version__\n",
    "from plotly.offline import download_plotlyjs, init_notebook_mode, plot, iplot\n",
    "import plotly.graph_objects as go\n",
    "import plotly.express as px"
   ]
  },
  {
   "cell_type": "code",
   "execution_count": 4,
   "metadata": {},
   "outputs": [],
   "source": [
    "day_wise_global = pd.read_csv('day_wise.csv')\n",
    "day_wise_global['Date'] = pd.to_datetime(day_wise_global['Date'])"
   ]
  },
  {
   "cell_type": "code",
   "execution_count": 6,
   "metadata": {},
   "outputs": [],
   "source": [
    "# storing the last row,which will be the total cases globally, in temp df   \n",
    "overall_global_temp = day_wise_global[['Date', 'Deaths', 'Recovered', 'Active']].tail(1)\n",
    "# changing the index to Date\n",
    "overall_global_temp = overall_global_temp.melt(id_vars='Date', value_vars=['Active', 'Deaths', 'Recovered'])"
   ]
  },
  {
   "cell_type": "code",
   "execution_count": 14,
   "metadata": {},
   "outputs": [
    {
     "output_type": "display_data",
     "data": {
      "application/vnd.plotly.v1+json": {
       "config": {
        "plotlyServerURL": "https://plot.ly"
       },
       "data": [
        {
         "branchvalues": "total",
         "domain": {
          "x": [
           0,
           1
          ],
          "y": [
           0,
           1
          ]
         },
         "hovertemplate": "labels=%{label}<br>value=%{value}<br>parent=%{parent}<br>id=%{id}<extra></extra>",
         "ids": [
          "Active",
          "Deaths",
          "Recovered"
         ],
         "labels": [
          "Active",
          "Deaths",
          "Recovered"
         ],
         "name": "",
         "parents": [
          "",
          "",
          ""
         ],
         "textinfo": "label+text+value",
         "type": "treemap",
         "values": [
          5376411,
          573026,
          7153112
         ]
        }
       ],
       "layout": {
        "height": 225,
        "legend": {
         "tracegroupgap": 0
        },
        "margin": {
         "t": 60
        },
        "template": {
         "data": {
          "bar": [
           {
            "error_x": {
             "color": "#2a3f5f"
            },
            "error_y": {
             "color": "#2a3f5f"
            },
            "marker": {
             "line": {
              "color": "#E5ECF6",
              "width": 0.5
             }
            },
            "type": "bar"
           }
          ],
          "barpolar": [
           {
            "marker": {
             "line": {
              "color": "#E5ECF6",
              "width": 0.5
             }
            },
            "type": "barpolar"
           }
          ],
          "carpet": [
           {
            "aaxis": {
             "endlinecolor": "#2a3f5f",
             "gridcolor": "white",
             "linecolor": "white",
             "minorgridcolor": "white",
             "startlinecolor": "#2a3f5f"
            },
            "baxis": {
             "endlinecolor": "#2a3f5f",
             "gridcolor": "white",
             "linecolor": "white",
             "minorgridcolor": "white",
             "startlinecolor": "#2a3f5f"
            },
            "type": "carpet"
           }
          ],
          "choropleth": [
           {
            "colorbar": {
             "outlinewidth": 0,
             "ticks": ""
            },
            "type": "choropleth"
           }
          ],
          "contour": [
           {
            "colorbar": {
             "outlinewidth": 0,
             "ticks": ""
            },
            "colorscale": [
             [
              0,
              "#0d0887"
             ],
             [
              0.1111111111111111,
              "#46039f"
             ],
             [
              0.2222222222222222,
              "#7201a8"
             ],
             [
              0.3333333333333333,
              "#9c179e"
             ],
             [
              0.4444444444444444,
              "#bd3786"
             ],
             [
              0.5555555555555556,
              "#d8576b"
             ],
             [
              0.6666666666666666,
              "#ed7953"
             ],
             [
              0.7777777777777778,
              "#fb9f3a"
             ],
             [
              0.8888888888888888,
              "#fdca26"
             ],
             [
              1,
              "#f0f921"
             ]
            ],
            "type": "contour"
           }
          ],
          "contourcarpet": [
           {
            "colorbar": {
             "outlinewidth": 0,
             "ticks": ""
            },
            "type": "contourcarpet"
           }
          ],
          "heatmap": [
           {
            "colorbar": {
             "outlinewidth": 0,
             "ticks": ""
            },
            "colorscale": [
             [
              0,
              "#0d0887"
             ],
             [
              0.1111111111111111,
              "#46039f"
             ],
             [
              0.2222222222222222,
              "#7201a8"
             ],
             [
              0.3333333333333333,
              "#9c179e"
             ],
             [
              0.4444444444444444,
              "#bd3786"
             ],
             [
              0.5555555555555556,
              "#d8576b"
             ],
             [
              0.6666666666666666,
              "#ed7953"
             ],
             [
              0.7777777777777778,
              "#fb9f3a"
             ],
             [
              0.8888888888888888,
              "#fdca26"
             ],
             [
              1,
              "#f0f921"
             ]
            ],
            "type": "heatmap"
           }
          ],
          "heatmapgl": [
           {
            "colorbar": {
             "outlinewidth": 0,
             "ticks": ""
            },
            "colorscale": [
             [
              0,
              "#0d0887"
             ],
             [
              0.1111111111111111,
              "#46039f"
             ],
             [
              0.2222222222222222,
              "#7201a8"
             ],
             [
              0.3333333333333333,
              "#9c179e"
             ],
             [
              0.4444444444444444,
              "#bd3786"
             ],
             [
              0.5555555555555556,
              "#d8576b"
             ],
             [
              0.6666666666666666,
              "#ed7953"
             ],
             [
              0.7777777777777778,
              "#fb9f3a"
             ],
             [
              0.8888888888888888,
              "#fdca26"
             ],
             [
              1,
              "#f0f921"
             ]
            ],
            "type": "heatmapgl"
           }
          ],
          "histogram": [
           {
            "marker": {
             "colorbar": {
              "outlinewidth": 0,
              "ticks": ""
             }
            },
            "type": "histogram"
           }
          ],
          "histogram2d": [
           {
            "colorbar": {
             "outlinewidth": 0,
             "ticks": ""
            },
            "colorscale": [
             [
              0,
              "#0d0887"
             ],
             [
              0.1111111111111111,
              "#46039f"
             ],
             [
              0.2222222222222222,
              "#7201a8"
             ],
             [
              0.3333333333333333,
              "#9c179e"
             ],
             [
              0.4444444444444444,
              "#bd3786"
             ],
             [
              0.5555555555555556,
              "#d8576b"
             ],
             [
              0.6666666666666666,
              "#ed7953"
             ],
             [
              0.7777777777777778,
              "#fb9f3a"
             ],
             [
              0.8888888888888888,
              "#fdca26"
             ],
             [
              1,
              "#f0f921"
             ]
            ],
            "type": "histogram2d"
           }
          ],
          "histogram2dcontour": [
           {
            "colorbar": {
             "outlinewidth": 0,
             "ticks": ""
            },
            "colorscale": [
             [
              0,
              "#0d0887"
             ],
             [
              0.1111111111111111,
              "#46039f"
             ],
             [
              0.2222222222222222,
              "#7201a8"
             ],
             [
              0.3333333333333333,
              "#9c179e"
             ],
             [
              0.4444444444444444,
              "#bd3786"
             ],
             [
              0.5555555555555556,
              "#d8576b"
             ],
             [
              0.6666666666666666,
              "#ed7953"
             ],
             [
              0.7777777777777778,
              "#fb9f3a"
             ],
             [
              0.8888888888888888,
              "#fdca26"
             ],
             [
              1,
              "#f0f921"
             ]
            ],
            "type": "histogram2dcontour"
           }
          ],
          "mesh3d": [
           {
            "colorbar": {
             "outlinewidth": 0,
             "ticks": ""
            },
            "type": "mesh3d"
           }
          ],
          "parcoords": [
           {
            "line": {
             "colorbar": {
              "outlinewidth": 0,
              "ticks": ""
             }
            },
            "type": "parcoords"
           }
          ],
          "pie": [
           {
            "automargin": true,
            "type": "pie"
           }
          ],
          "scatter": [
           {
            "marker": {
             "colorbar": {
              "outlinewidth": 0,
              "ticks": ""
             }
            },
            "type": "scatter"
           }
          ],
          "scatter3d": [
           {
            "line": {
             "colorbar": {
              "outlinewidth": 0,
              "ticks": ""
             }
            },
            "marker": {
             "colorbar": {
              "outlinewidth": 0,
              "ticks": ""
             }
            },
            "type": "scatter3d"
           }
          ],
          "scattercarpet": [
           {
            "marker": {
             "colorbar": {
              "outlinewidth": 0,
              "ticks": ""
             }
            },
            "type": "scattercarpet"
           }
          ],
          "scattergeo": [
           {
            "marker": {
             "colorbar": {
              "outlinewidth": 0,
              "ticks": ""
             }
            },
            "type": "scattergeo"
           }
          ],
          "scattergl": [
           {
            "marker": {
             "colorbar": {
              "outlinewidth": 0,
              "ticks": ""
             }
            },
            "type": "scattergl"
           }
          ],
          "scattermapbox": [
           {
            "marker": {
             "colorbar": {
              "outlinewidth": 0,
              "ticks": ""
             }
            },
            "type": "scattermapbox"
           }
          ],
          "scatterpolar": [
           {
            "marker": {
             "colorbar": {
              "outlinewidth": 0,
              "ticks": ""
             }
            },
            "type": "scatterpolar"
           }
          ],
          "scatterpolargl": [
           {
            "marker": {
             "colorbar": {
              "outlinewidth": 0,
              "ticks": ""
             }
            },
            "type": "scatterpolargl"
           }
          ],
          "scatterternary": [
           {
            "marker": {
             "colorbar": {
              "outlinewidth": 0,
              "ticks": ""
             }
            },
            "type": "scatterternary"
           }
          ],
          "surface": [
           {
            "colorbar": {
             "outlinewidth": 0,
             "ticks": ""
            },
            "colorscale": [
             [
              0,
              "#0d0887"
             ],
             [
              0.1111111111111111,
              "#46039f"
             ],
             [
              0.2222222222222222,
              "#7201a8"
             ],
             [
              0.3333333333333333,
              "#9c179e"
             ],
             [
              0.4444444444444444,
              "#bd3786"
             ],
             [
              0.5555555555555556,
              "#d8576b"
             ],
             [
              0.6666666666666666,
              "#ed7953"
             ],
             [
              0.7777777777777778,
              "#fb9f3a"
             ],
             [
              0.8888888888888888,
              "#fdca26"
             ],
             [
              1,
              "#f0f921"
             ]
            ],
            "type": "surface"
           }
          ],
          "table": [
           {
            "cells": {
             "fill": {
              "color": "#EBF0F8"
             },
             "line": {
              "color": "white"
             }
            },
            "header": {
             "fill": {
              "color": "#C8D4E3"
             },
             "line": {
              "color": "white"
             }
            },
            "type": "table"
           }
          ]
         },
         "layout": {
          "annotationdefaults": {
           "arrowcolor": "#2a3f5f",
           "arrowhead": 0,
           "arrowwidth": 1
          },
          "coloraxis": {
           "colorbar": {
            "outlinewidth": 0,
            "ticks": ""
           }
          },
          "colorscale": {
           "diverging": [
            [
             0,
             "#8e0152"
            ],
            [
             0.1,
             "#c51b7d"
            ],
            [
             0.2,
             "#de77ae"
            ],
            [
             0.3,
             "#f1b6da"
            ],
            [
             0.4,
             "#fde0ef"
            ],
            [
             0.5,
             "#f7f7f7"
            ],
            [
             0.6,
             "#e6f5d0"
            ],
            [
             0.7,
             "#b8e186"
            ],
            [
             0.8,
             "#7fbc41"
            ],
            [
             0.9,
             "#4d9221"
            ],
            [
             1,
             "#276419"
            ]
           ],
           "sequential": [
            [
             0,
             "#0d0887"
            ],
            [
             0.1111111111111111,
             "#46039f"
            ],
            [
             0.2222222222222222,
             "#7201a8"
            ],
            [
             0.3333333333333333,
             "#9c179e"
            ],
            [
             0.4444444444444444,
             "#bd3786"
            ],
            [
             0.5555555555555556,
             "#d8576b"
            ],
            [
             0.6666666666666666,
             "#ed7953"
            ],
            [
             0.7777777777777778,
             "#fb9f3a"
            ],
            [
             0.8888888888888888,
             "#fdca26"
            ],
            [
             1,
             "#f0f921"
            ]
           ],
           "sequentialminus": [
            [
             0,
             "#0d0887"
            ],
            [
             0.1111111111111111,
             "#46039f"
            ],
            [
             0.2222222222222222,
             "#7201a8"
            ],
            [
             0.3333333333333333,
             "#9c179e"
            ],
            [
             0.4444444444444444,
             "#bd3786"
            ],
            [
             0.5555555555555556,
             "#d8576b"
            ],
            [
             0.6666666666666666,
             "#ed7953"
            ],
            [
             0.7777777777777778,
             "#fb9f3a"
            ],
            [
             0.8888888888888888,
             "#fdca26"
            ],
            [
             1,
             "#f0f921"
            ]
           ]
          },
          "colorway": [
           "#636efa",
           "#EF553B",
           "#00cc96",
           "#ab63fa",
           "#FFA15A",
           "#19d3f3",
           "#FF6692",
           "#B6E880",
           "#FF97FF",
           "#FECB52"
          ],
          "font": {
           "color": "#2a3f5f"
          },
          "geo": {
           "bgcolor": "white",
           "lakecolor": "white",
           "landcolor": "#E5ECF6",
           "showlakes": true,
           "showland": true,
           "subunitcolor": "white"
          },
          "hoverlabel": {
           "align": "left"
          },
          "hovermode": "closest",
          "mapbox": {
           "style": "light"
          },
          "paper_bgcolor": "white",
          "plot_bgcolor": "#E5ECF6",
          "polar": {
           "angularaxis": {
            "gridcolor": "white",
            "linecolor": "white",
            "ticks": ""
           },
           "bgcolor": "#E5ECF6",
           "radialaxis": {
            "gridcolor": "white",
            "linecolor": "white",
            "ticks": ""
           }
          },
          "scene": {
           "xaxis": {
            "backgroundcolor": "#E5ECF6",
            "gridcolor": "white",
            "gridwidth": 2,
            "linecolor": "white",
            "showbackground": true,
            "ticks": "",
            "zerolinecolor": "white"
           },
           "yaxis": {
            "backgroundcolor": "#E5ECF6",
            "gridcolor": "white",
            "gridwidth": 2,
            "linecolor": "white",
            "showbackground": true,
            "ticks": "",
            "zerolinecolor": "white"
           },
           "zaxis": {
            "backgroundcolor": "#E5ECF6",
            "gridcolor": "white",
            "gridwidth": 2,
            "linecolor": "white",
            "showbackground": true,
            "ticks": "",
            "zerolinecolor": "white"
           }
          },
          "shapedefaults": {
           "line": {
            "color": "#2a3f5f"
           }
          },
          "ternary": {
           "aaxis": {
            "gridcolor": "white",
            "linecolor": "white",
            "ticks": ""
           },
           "baxis": {
            "gridcolor": "white",
            "linecolor": "white",
            "ticks": ""
           },
           "bgcolor": "#E5ECF6",
           "caxis": {
            "gridcolor": "white",
            "linecolor": "white",
            "ticks": ""
           }
          },
          "title": {
           "x": 0.05
          },
          "xaxis": {
           "automargin": true,
           "gridcolor": "white",
           "linecolor": "white",
           "ticks": "",
           "title": {
            "standoff": 15
           },
           "zerolinecolor": "white",
           "zerolinewidth": 2
          },
          "yaxis": {
           "automargin": true,
           "gridcolor": "white",
           "linecolor": "white",
           "ticks": "",
           "title": {
            "standoff": 15
           },
           "zerolinecolor": "white",
           "zerolinewidth": 2
          }
         }
        },
        "treemapcolorway": [
         "#21bf73",
         "#fe9801",
         "#ff2e46"
        ]
       }
      }
     },
     "metadata": {}
    }
   ],
   "source": [
    "# now plotting a tree map\n",
    "fig = px.treemap(overall_global_temp, path=['variable'], values='value', height=225, color_discrete_sequence=['#21bf73', '#fe9801', '#ff2e46'])\n",
    "#adding the data to be displayed\n",
    "fig.data[0].textinfo='label+text+value'\n",
    "fig.show()"
   ]
  },
  {
   "cell_type": "code",
   "execution_count": 5,
   "metadata": {},
   "outputs": [],
   "source": [
    "states_cases = pd.read_html(\"https://en.wikipedia.org/wiki/COVID-19_pandemic_in_India\",\"Recoveries\")[1]"
   ]
  },
  {
   "cell_type": "code",
   "execution_count": 6,
   "metadata": {},
   "outputs": [],
   "source": [
    "states_cases.columns = ['States', 'Total Cases', 'Deaths', 'Recoveries', 'Active', ' a', 'b', 'c', 'd']"
   ]
  },
  {
   "cell_type": "code",
   "execution_count": 7,
   "metadata": {},
   "outputs": [],
   "source": [
    "states_cases.drop([36,37], inplace=True)"
   ]
  },
  {
   "cell_type": "code",
   "execution_count": 8,
   "metadata": {},
   "outputs": [],
   "source": [
    "states_cases.dropna(axis=1, inplace=True, how='all')"
   ]
  },
  {
   "cell_type": "code",
   "execution_count": 9,
   "metadata": {},
   "outputs": [
    {
     "output_type": "execute_result",
     "data": {
      "text/plain": "                                      States Total Cases Deaths Recoveries  \\\n0                Andaman and Nicobar Islands         163      0         93   \n1                             Andhra Pradesh       29168    328      15412   \n2                          Arunachal Pradesh         359      2        138   \n3                                      Assam   16,071[b]     35      10426   \n4                                      Bihar       16642    143      11498   \n5                                 Chandigarh         559      8        417   \n6                               Chhattisgarh        4059     19       3153   \n7   Dadra and Nagar Haveli and Daman and Diu         479      0        245   \n8                                      Delhi      112494   3371      89968   \n9                                        Goa        2453     14       1487   \n10                                   Gujarat       41820   2045      29162   \n11                                   Haryana       21240    301      15983   \n12                          Himachal Pradesh        1213     11        929   \n13                         Jammu and Kashmir       10513    179       5979   \n14                                 Jharkhand        3756     30       2308   \n15                                 Karnataka       38843    684      15409   \n16                                    Kerala        7873  31[c]       4095   \n17                                    Ladakh        1086      1        928   \n18                               Lakshadweep           0      0          0   \n19                            Madhya Pradesh       17632    653      12876   \n20                               Maharashtra      254427  10289     140325   \n21                                   Manipur        1609      0        896   \n22                                 Meghalaya         306      2         66   \n23                                   Mizoram         231      0        150   \n24                                  Nagaland         774      0        327   \n25                                    Odisha       13121     64       8750   \n26                                Puducherry        1418     18        739   \n27                                    Punjab        7821    199       5392   \n28                                 Rajasthan       24392    510      18103   \n29                                    Sikkim         153      0         81   \n30                                Tamil Nadu      138470   1966      89532   \n31                                 Telangana       34671    356      22482   \n32                                   Tripura        2054      2       1421   \n33                               Uttarakhand        3537     47       2786   \n34                             Uttar Pradesh       36476    934      23334   \n35                               West Bengal       30013    932      18581   \n\n    Active  \n0       70  \n1    13428  \n2      219  \n3     5610  \n4     5001  \n5      134  \n6      887  \n7      234  \n8    19155  \n9      952  \n10   10613  \n11    4956  \n12     273  \n13    4355  \n14    1418  \n15   22750  \n16    3747  \n17     157  \n18       0  \n19    4103  \n20  103813  \n21     713  \n22     238  \n23      81  \n24     447  \n25    4307  \n26     661  \n27    2230  \n28    5779  \n29      72  \n30   46972  \n31   11833  \n32     631  \n33     704  \n34   12208  \n35   10500  ",
      "text/html": "<div>\n<style scoped>\n    .dataframe tbody tr th:only-of-type {\n        vertical-align: middle;\n    }\n\n    .dataframe tbody tr th {\n        vertical-align: top;\n    }\n\n    .dataframe thead th {\n        text-align: right;\n    }\n</style>\n<table border=\"1\" class=\"dataframe\">\n  <thead>\n    <tr style=\"text-align: right;\">\n      <th></th>\n      <th>States</th>\n      <th>Total Cases</th>\n      <th>Deaths</th>\n      <th>Recoveries</th>\n      <th>Active</th>\n    </tr>\n  </thead>\n  <tbody>\n    <tr>\n      <th>0</th>\n      <td>Andaman and Nicobar Islands</td>\n      <td>163</td>\n      <td>0</td>\n      <td>93</td>\n      <td>70</td>\n    </tr>\n    <tr>\n      <th>1</th>\n      <td>Andhra Pradesh</td>\n      <td>29168</td>\n      <td>328</td>\n      <td>15412</td>\n      <td>13428</td>\n    </tr>\n    <tr>\n      <th>2</th>\n      <td>Arunachal Pradesh</td>\n      <td>359</td>\n      <td>2</td>\n      <td>138</td>\n      <td>219</td>\n    </tr>\n    <tr>\n      <th>3</th>\n      <td>Assam</td>\n      <td>16,071[b]</td>\n      <td>35</td>\n      <td>10426</td>\n      <td>5610</td>\n    </tr>\n    <tr>\n      <th>4</th>\n      <td>Bihar</td>\n      <td>16642</td>\n      <td>143</td>\n      <td>11498</td>\n      <td>5001</td>\n    </tr>\n    <tr>\n      <th>5</th>\n      <td>Chandigarh</td>\n      <td>559</td>\n      <td>8</td>\n      <td>417</td>\n      <td>134</td>\n    </tr>\n    <tr>\n      <th>6</th>\n      <td>Chhattisgarh</td>\n      <td>4059</td>\n      <td>19</td>\n      <td>3153</td>\n      <td>887</td>\n    </tr>\n    <tr>\n      <th>7</th>\n      <td>Dadra and Nagar Haveli and Daman and Diu</td>\n      <td>479</td>\n      <td>0</td>\n      <td>245</td>\n      <td>234</td>\n    </tr>\n    <tr>\n      <th>8</th>\n      <td>Delhi</td>\n      <td>112494</td>\n      <td>3371</td>\n      <td>89968</td>\n      <td>19155</td>\n    </tr>\n    <tr>\n      <th>9</th>\n      <td>Goa</td>\n      <td>2453</td>\n      <td>14</td>\n      <td>1487</td>\n      <td>952</td>\n    </tr>\n    <tr>\n      <th>10</th>\n      <td>Gujarat</td>\n      <td>41820</td>\n      <td>2045</td>\n      <td>29162</td>\n      <td>10613</td>\n    </tr>\n    <tr>\n      <th>11</th>\n      <td>Haryana</td>\n      <td>21240</td>\n      <td>301</td>\n      <td>15983</td>\n      <td>4956</td>\n    </tr>\n    <tr>\n      <th>12</th>\n      <td>Himachal Pradesh</td>\n      <td>1213</td>\n      <td>11</td>\n      <td>929</td>\n      <td>273</td>\n    </tr>\n    <tr>\n      <th>13</th>\n      <td>Jammu and Kashmir</td>\n      <td>10513</td>\n      <td>179</td>\n      <td>5979</td>\n      <td>4355</td>\n    </tr>\n    <tr>\n      <th>14</th>\n      <td>Jharkhand</td>\n      <td>3756</td>\n      <td>30</td>\n      <td>2308</td>\n      <td>1418</td>\n    </tr>\n    <tr>\n      <th>15</th>\n      <td>Karnataka</td>\n      <td>38843</td>\n      <td>684</td>\n      <td>15409</td>\n      <td>22750</td>\n    </tr>\n    <tr>\n      <th>16</th>\n      <td>Kerala</td>\n      <td>7873</td>\n      <td>31[c]</td>\n      <td>4095</td>\n      <td>3747</td>\n    </tr>\n    <tr>\n      <th>17</th>\n      <td>Ladakh</td>\n      <td>1086</td>\n      <td>1</td>\n      <td>928</td>\n      <td>157</td>\n    </tr>\n    <tr>\n      <th>18</th>\n      <td>Lakshadweep</td>\n      <td>0</td>\n      <td>0</td>\n      <td>0</td>\n      <td>0</td>\n    </tr>\n    <tr>\n      <th>19</th>\n      <td>Madhya Pradesh</td>\n      <td>17632</td>\n      <td>653</td>\n      <td>12876</td>\n      <td>4103</td>\n    </tr>\n    <tr>\n      <th>20</th>\n      <td>Maharashtra</td>\n      <td>254427</td>\n      <td>10289</td>\n      <td>140325</td>\n      <td>103813</td>\n    </tr>\n    <tr>\n      <th>21</th>\n      <td>Manipur</td>\n      <td>1609</td>\n      <td>0</td>\n      <td>896</td>\n      <td>713</td>\n    </tr>\n    <tr>\n      <th>22</th>\n      <td>Meghalaya</td>\n      <td>306</td>\n      <td>2</td>\n      <td>66</td>\n      <td>238</td>\n    </tr>\n    <tr>\n      <th>23</th>\n      <td>Mizoram</td>\n      <td>231</td>\n      <td>0</td>\n      <td>150</td>\n      <td>81</td>\n    </tr>\n    <tr>\n      <th>24</th>\n      <td>Nagaland</td>\n      <td>774</td>\n      <td>0</td>\n      <td>327</td>\n      <td>447</td>\n    </tr>\n    <tr>\n      <th>25</th>\n      <td>Odisha</td>\n      <td>13121</td>\n      <td>64</td>\n      <td>8750</td>\n      <td>4307</td>\n    </tr>\n    <tr>\n      <th>26</th>\n      <td>Puducherry</td>\n      <td>1418</td>\n      <td>18</td>\n      <td>739</td>\n      <td>661</td>\n    </tr>\n    <tr>\n      <th>27</th>\n      <td>Punjab</td>\n      <td>7821</td>\n      <td>199</td>\n      <td>5392</td>\n      <td>2230</td>\n    </tr>\n    <tr>\n      <th>28</th>\n      <td>Rajasthan</td>\n      <td>24392</td>\n      <td>510</td>\n      <td>18103</td>\n      <td>5779</td>\n    </tr>\n    <tr>\n      <th>29</th>\n      <td>Sikkim</td>\n      <td>153</td>\n      <td>0</td>\n      <td>81</td>\n      <td>72</td>\n    </tr>\n    <tr>\n      <th>30</th>\n      <td>Tamil Nadu</td>\n      <td>138470</td>\n      <td>1966</td>\n      <td>89532</td>\n      <td>46972</td>\n    </tr>\n    <tr>\n      <th>31</th>\n      <td>Telangana</td>\n      <td>34671</td>\n      <td>356</td>\n      <td>22482</td>\n      <td>11833</td>\n    </tr>\n    <tr>\n      <th>32</th>\n      <td>Tripura</td>\n      <td>2054</td>\n      <td>2</td>\n      <td>1421</td>\n      <td>631</td>\n    </tr>\n    <tr>\n      <th>33</th>\n      <td>Uttarakhand</td>\n      <td>3537</td>\n      <td>47</td>\n      <td>2786</td>\n      <td>704</td>\n    </tr>\n    <tr>\n      <th>34</th>\n      <td>Uttar Pradesh</td>\n      <td>36476</td>\n      <td>934</td>\n      <td>23334</td>\n      <td>12208</td>\n    </tr>\n    <tr>\n      <th>35</th>\n      <td>West Bengal</td>\n      <td>30013</td>\n      <td>932</td>\n      <td>18581</td>\n      <td>10500</td>\n    </tr>\n  </tbody>\n</table>\n</div>"
     },
     "metadata": {},
     "execution_count": 9
    }
   ],
   "source": [
    "states_cases"
   ]
  },
  {
   "cell_type": "code",
   "execution_count": 10,
   "metadata": {},
   "outputs": [],
   "source": [
    "states_cases['Total Cases'][3] = states_cases['Total Cases'][3].replace(',','')"
   ]
  },
  {
   "cell_type": "code",
   "execution_count": 11,
   "metadata": {},
   "outputs": [],
   "source": [
    "states_cases['Total Cases'][3] = states_cases['Total Cases'][3].strip('[]b')\n",
    "states_cases['Deaths'][16] = states_cases['Deaths'][16].strip('[]c')"
   ]
  },
  {
   "cell_type": "code",
   "execution_count": 12,
   "metadata": {},
   "outputs": [
    {
     "output_type": "execute_result",
     "data": {
      "text/plain": "                                      States Total Cases Deaths Recoveries  \\\n0                Andaman and Nicobar Islands         163      0         93   \n1                             Andhra Pradesh       29168    328      15412   \n2                          Arunachal Pradesh         359      2        138   \n3                                      Assam       16071     35      10426   \n4                                      Bihar       16642    143      11498   \n5                                 Chandigarh         559      8        417   \n6                               Chhattisgarh        4059     19       3153   \n7   Dadra and Nagar Haveli and Daman and Diu         479      0        245   \n8                                      Delhi      112494   3371      89968   \n9                                        Goa        2453     14       1487   \n10                                   Gujarat       41820   2045      29162   \n11                                   Haryana       21240    301      15983   \n12                          Himachal Pradesh        1213     11        929   \n13                         Jammu and Kashmir       10513    179       5979   \n14                                 Jharkhand        3756     30       2308   \n15                                 Karnataka       38843    684      15409   \n16                                    Kerala        7873     31       4095   \n17                                    Ladakh        1086      1        928   \n18                               Lakshadweep           0      0          0   \n19                            Madhya Pradesh       17632    653      12876   \n20                               Maharashtra      254427  10289     140325   \n21                                   Manipur        1609      0        896   \n22                                 Meghalaya         306      2         66   \n23                                   Mizoram         231      0        150   \n24                                  Nagaland         774      0        327   \n25                                    Odisha       13121     64       8750   \n26                                Puducherry        1418     18        739   \n27                                    Punjab        7821    199       5392   \n28                                 Rajasthan       24392    510      18103   \n29                                    Sikkim         153      0         81   \n30                                Tamil Nadu      138470   1966      89532   \n31                                 Telangana       34671    356      22482   \n32                                   Tripura        2054      2       1421   \n33                               Uttarakhand        3537     47       2786   \n34                             Uttar Pradesh       36476    934      23334   \n35                               West Bengal       30013    932      18581   \n\n    Active  \n0       70  \n1    13428  \n2      219  \n3     5610  \n4     5001  \n5      134  \n6      887  \n7      234  \n8    19155  \n9      952  \n10   10613  \n11    4956  \n12     273  \n13    4355  \n14    1418  \n15   22750  \n16    3747  \n17     157  \n18       0  \n19    4103  \n20  103813  \n21     713  \n22     238  \n23      81  \n24     447  \n25    4307  \n26     661  \n27    2230  \n28    5779  \n29      72  \n30   46972  \n31   11833  \n32     631  \n33     704  \n34   12208  \n35   10500  ",
      "text/html": "<div>\n<style scoped>\n    .dataframe tbody tr th:only-of-type {\n        vertical-align: middle;\n    }\n\n    .dataframe tbody tr th {\n        vertical-align: top;\n    }\n\n    .dataframe thead th {\n        text-align: right;\n    }\n</style>\n<table border=\"1\" class=\"dataframe\">\n  <thead>\n    <tr style=\"text-align: right;\">\n      <th></th>\n      <th>States</th>\n      <th>Total Cases</th>\n      <th>Deaths</th>\n      <th>Recoveries</th>\n      <th>Active</th>\n    </tr>\n  </thead>\n  <tbody>\n    <tr>\n      <th>0</th>\n      <td>Andaman and Nicobar Islands</td>\n      <td>163</td>\n      <td>0</td>\n      <td>93</td>\n      <td>70</td>\n    </tr>\n    <tr>\n      <th>1</th>\n      <td>Andhra Pradesh</td>\n      <td>29168</td>\n      <td>328</td>\n      <td>15412</td>\n      <td>13428</td>\n    </tr>\n    <tr>\n      <th>2</th>\n      <td>Arunachal Pradesh</td>\n      <td>359</td>\n      <td>2</td>\n      <td>138</td>\n      <td>219</td>\n    </tr>\n    <tr>\n      <th>3</th>\n      <td>Assam</td>\n      <td>16071</td>\n      <td>35</td>\n      <td>10426</td>\n      <td>5610</td>\n    </tr>\n    <tr>\n      <th>4</th>\n      <td>Bihar</td>\n      <td>16642</td>\n      <td>143</td>\n      <td>11498</td>\n      <td>5001</td>\n    </tr>\n    <tr>\n      <th>5</th>\n      <td>Chandigarh</td>\n      <td>559</td>\n      <td>8</td>\n      <td>417</td>\n      <td>134</td>\n    </tr>\n    <tr>\n      <th>6</th>\n      <td>Chhattisgarh</td>\n      <td>4059</td>\n      <td>19</td>\n      <td>3153</td>\n      <td>887</td>\n    </tr>\n    <tr>\n      <th>7</th>\n      <td>Dadra and Nagar Haveli and Daman and Diu</td>\n      <td>479</td>\n      <td>0</td>\n      <td>245</td>\n      <td>234</td>\n    </tr>\n    <tr>\n      <th>8</th>\n      <td>Delhi</td>\n      <td>112494</td>\n      <td>3371</td>\n      <td>89968</td>\n      <td>19155</td>\n    </tr>\n    <tr>\n      <th>9</th>\n      <td>Goa</td>\n      <td>2453</td>\n      <td>14</td>\n      <td>1487</td>\n      <td>952</td>\n    </tr>\n    <tr>\n      <th>10</th>\n      <td>Gujarat</td>\n      <td>41820</td>\n      <td>2045</td>\n      <td>29162</td>\n      <td>10613</td>\n    </tr>\n    <tr>\n      <th>11</th>\n      <td>Haryana</td>\n      <td>21240</td>\n      <td>301</td>\n      <td>15983</td>\n      <td>4956</td>\n    </tr>\n    <tr>\n      <th>12</th>\n      <td>Himachal Pradesh</td>\n      <td>1213</td>\n      <td>11</td>\n      <td>929</td>\n      <td>273</td>\n    </tr>\n    <tr>\n      <th>13</th>\n      <td>Jammu and Kashmir</td>\n      <td>10513</td>\n      <td>179</td>\n      <td>5979</td>\n      <td>4355</td>\n    </tr>\n    <tr>\n      <th>14</th>\n      <td>Jharkhand</td>\n      <td>3756</td>\n      <td>30</td>\n      <td>2308</td>\n      <td>1418</td>\n    </tr>\n    <tr>\n      <th>15</th>\n      <td>Karnataka</td>\n      <td>38843</td>\n      <td>684</td>\n      <td>15409</td>\n      <td>22750</td>\n    </tr>\n    <tr>\n      <th>16</th>\n      <td>Kerala</td>\n      <td>7873</td>\n      <td>31</td>\n      <td>4095</td>\n      <td>3747</td>\n    </tr>\n    <tr>\n      <th>17</th>\n      <td>Ladakh</td>\n      <td>1086</td>\n      <td>1</td>\n      <td>928</td>\n      <td>157</td>\n    </tr>\n    <tr>\n      <th>18</th>\n      <td>Lakshadweep</td>\n      <td>0</td>\n      <td>0</td>\n      <td>0</td>\n      <td>0</td>\n    </tr>\n    <tr>\n      <th>19</th>\n      <td>Madhya Pradesh</td>\n      <td>17632</td>\n      <td>653</td>\n      <td>12876</td>\n      <td>4103</td>\n    </tr>\n    <tr>\n      <th>20</th>\n      <td>Maharashtra</td>\n      <td>254427</td>\n      <td>10289</td>\n      <td>140325</td>\n      <td>103813</td>\n    </tr>\n    <tr>\n      <th>21</th>\n      <td>Manipur</td>\n      <td>1609</td>\n      <td>0</td>\n      <td>896</td>\n      <td>713</td>\n    </tr>\n    <tr>\n      <th>22</th>\n      <td>Meghalaya</td>\n      <td>306</td>\n      <td>2</td>\n      <td>66</td>\n      <td>238</td>\n    </tr>\n    <tr>\n      <th>23</th>\n      <td>Mizoram</td>\n      <td>231</td>\n      <td>0</td>\n      <td>150</td>\n      <td>81</td>\n    </tr>\n    <tr>\n      <th>24</th>\n      <td>Nagaland</td>\n      <td>774</td>\n      <td>0</td>\n      <td>327</td>\n      <td>447</td>\n    </tr>\n    <tr>\n      <th>25</th>\n      <td>Odisha</td>\n      <td>13121</td>\n      <td>64</td>\n      <td>8750</td>\n      <td>4307</td>\n    </tr>\n    <tr>\n      <th>26</th>\n      <td>Puducherry</td>\n      <td>1418</td>\n      <td>18</td>\n      <td>739</td>\n      <td>661</td>\n    </tr>\n    <tr>\n      <th>27</th>\n      <td>Punjab</td>\n      <td>7821</td>\n      <td>199</td>\n      <td>5392</td>\n      <td>2230</td>\n    </tr>\n    <tr>\n      <th>28</th>\n      <td>Rajasthan</td>\n      <td>24392</td>\n      <td>510</td>\n      <td>18103</td>\n      <td>5779</td>\n    </tr>\n    <tr>\n      <th>29</th>\n      <td>Sikkim</td>\n      <td>153</td>\n      <td>0</td>\n      <td>81</td>\n      <td>72</td>\n    </tr>\n    <tr>\n      <th>30</th>\n      <td>Tamil Nadu</td>\n      <td>138470</td>\n      <td>1966</td>\n      <td>89532</td>\n      <td>46972</td>\n    </tr>\n    <tr>\n      <th>31</th>\n      <td>Telangana</td>\n      <td>34671</td>\n      <td>356</td>\n      <td>22482</td>\n      <td>11833</td>\n    </tr>\n    <tr>\n      <th>32</th>\n      <td>Tripura</td>\n      <td>2054</td>\n      <td>2</td>\n      <td>1421</td>\n      <td>631</td>\n    </tr>\n    <tr>\n      <th>33</th>\n      <td>Uttarakhand</td>\n      <td>3537</td>\n      <td>47</td>\n      <td>2786</td>\n      <td>704</td>\n    </tr>\n    <tr>\n      <th>34</th>\n      <td>Uttar Pradesh</td>\n      <td>36476</td>\n      <td>934</td>\n      <td>23334</td>\n      <td>12208</td>\n    </tr>\n    <tr>\n      <th>35</th>\n      <td>West Bengal</td>\n      <td>30013</td>\n      <td>932</td>\n      <td>18581</td>\n      <td>10500</td>\n    </tr>\n  </tbody>\n</table>\n</div>"
     },
     "metadata": {},
     "execution_count": 12
    }
   ],
   "source": [
    "states_cases"
   ]
  },
  {
   "cell_type": "code",
   "execution_count": 22,
   "metadata": {},
   "outputs": [],
   "source": [
    "states_cases['Total Cases'] = states_cases['Total Cases'].astype(int)\n",
    "states_cases['Recoveries'] = states_cases['Recoveries'].astype(int)\n",
    "states_cases['Deaths'] = states_cases['Deaths'].astype(int)\n",
    "states_cases['Active'] = states_cases['Active'].astype(int)"
   ]
  },
  {
   "cell_type": "code",
   "execution_count": 23,
   "metadata": {},
   "outputs": [],
   "source": [
    "#As the values are all strings, so we need to first convert them to integers\n",
    "TotalCases = pd.Series(map(int,states_cases['Total Cases']))\n",
    "Deaths = pd.Series(map(int,states_cases['Deaths']))\n",
    "Recoveries = pd.Series(map(int,states_cases['Recoveries']))\n",
    "Active = pd.Series(map(int,states_cases['Active']))"
   ]
  },
  {
   "cell_type": "code",
   "execution_count": 24,
   "metadata": {},
   "outputs": [
    {
     "output_type": "display_data",
     "data": {
      "text/plain": "<Figure size 1080x432 with 1 Axes>",
      "image/svg+xml": "<?xml version=\"1.0\" encoding=\"utf-8\" standalone=\"no\"?>\r\n<!DOCTYPE svg PUBLIC \"-//W3C//DTD SVG 1.1//EN\"\r\n  \"http://www.w3.org/Graphics/SVG/1.1/DTD/svg11.dtd\">\r\n<!-- Created with matplotlib (https://matplotlib.org/) -->\r\n<svg height=\"676.828125pt\" version=\"1.1\" viewBox=\"0 0 1139.575 676.828125\" width=\"1139.575pt\" xmlns=\"http://www.w3.org/2000/svg\" xmlns:xlink=\"http://www.w3.org/1999/xlink\">\r\n <defs>\r\n  <style type=\"text/css\">\r\n*{stroke-linecap:butt;stroke-linejoin:round;}\r\n  </style>\r\n </defs>\r\n <g id=\"figure_1\">\r\n  <g id=\"patch_1\">\r\n   <path d=\"M 0 676.828125 \r\nL 1139.575 676.828125 \r\nL 1139.575 0 \r\nL 0 0 \r\nz\r\n\" style=\"fill:none;\"/>\r\n  </g>\r\n  <g id=\"axes_1\">\r\n   <g id=\"patch_2\">\r\n    <path d=\"M 52.375 439.2 \r\nL 1132.375 439.2 \r\nL 1132.375 7.2 \r\nL 52.375 7.2 \r\nz\r\n\" style=\"fill:#ffffff;\"/>\r\n   </g>\r\n   <g id=\"patch_3\">\r\n    <path clip-path=\"url(#pd00d95e72a)\" d=\"M 101.465909 439.2 \r\nL 106.950927 439.2 \r\nL 106.950927 438.936416 \r\nL 101.465909 438.936416 \r\nz\r\n\" style=\"fill:#0000ff;\"/>\r\n   </g>\r\n   <g id=\"patch_4\">\r\n    <path clip-path=\"url(#pd00d95e72a)\" d=\"M 128.890998 439.2 \r\nL 134.376016 439.2 \r\nL 134.376016 392.033038 \r\nL 128.890998 392.033038 \r\nz\r\n\" style=\"fill:#0000ff;\"/>\r\n   </g>\r\n   <g id=\"patch_5\">\r\n    <path clip-path=\"url(#pd00d95e72a)\" d=\"M 156.316087 439.2 \r\nL 161.801105 439.2 \r\nL 161.801105 438.619469 \r\nL 156.316087 438.619469 \r\nz\r\n\" style=\"fill:#0000ff;\"/>\r\n   </g>\r\n   <g id=\"patch_6\">\r\n    <path clip-path=\"url(#pd00d95e72a)\" d=\"M 183.741176 439.2 \r\nL 189.226193 439.2 \r\nL 189.226193 413.211923 \r\nL 183.741176 413.211923 \r\nz\r\n\" style=\"fill:#0000ff;\"/>\r\n   </g>\r\n   <g id=\"patch_7\">\r\n    <path clip-path=\"url(#pd00d95e72a)\" d=\"M 211.166265 439.2 \r\nL 216.651282 439.2 \r\nL 216.651282 412.28857 \r\nL 211.166265 412.28857 \r\nz\r\n\" style=\"fill:#0000ff;\"/>\r\n   </g>\r\n   <g id=\"patch_8\">\r\n    <path clip-path=\"url(#pd00d95e72a)\" d=\"M 238.591353 439.2 \r\nL 244.076371 439.2 \r\nL 244.076371 438.296053 \r\nL 238.591353 438.296053 \r\nz\r\n\" style=\"fill:#0000ff;\"/>\r\n   </g>\r\n   <g id=\"patch_9\">\r\n    <path clip-path=\"url(#pd00d95e72a)\" d=\"M 266.016442 439.2 \r\nL 271.50146 439.2 \r\nL 271.50146 432.636276 \r\nL 266.016442 432.636276 \r\nz\r\n\" style=\"fill:#0000ff;\"/>\r\n   </g>\r\n   <g id=\"patch_10\">\r\n    <path clip-path=\"url(#pd00d95e72a)\" d=\"M 293.441531 439.2 \r\nL 298.926549 439.2 \r\nL 298.926549 438.425419 \r\nL 293.441531 438.425419 \r\nz\r\n\" style=\"fill:#0000ff;\"/>\r\n   </g>\r\n   <g id=\"patch_11\">\r\n    <path clip-path=\"url(#pd00d95e72a)\" d=\"M 320.86662 439.2 \r\nL 326.351638 439.2 \r\nL 326.351638 257.288309 \r\nL 320.86662 257.288309 \r\nz\r\n\" style=\"fill:#0000ff;\"/>\r\n   </g>\r\n   <g id=\"patch_12\">\r\n    <path clip-path=\"url(#pd00d95e72a)\" d=\"M 348.291709 439.2 \r\nL 353.776727 439.2 \r\nL 353.776727 435.233305 \r\nL 348.291709 435.233305 \r\nz\r\n\" style=\"fill:#0000ff;\"/>\r\n   </g>\r\n   <g id=\"patch_13\">\r\n    <path clip-path=\"url(#pd00d95e72a)\" d=\"M 375.716798 439.2 \r\nL 381.201816 439.2 \r\nL 381.201816 371.573754 \r\nL 375.716798 371.573754 \r\nz\r\n\" style=\"fill:#0000ff;\"/>\r\n   </g>\r\n   <g id=\"patch_14\">\r\n    <path clip-path=\"url(#pd00d95e72a)\" d=\"M 403.141887 439.2 \r\nL 408.626905 439.2 \r\nL 408.626905 404.853241 \r\nL 403.141887 404.853241 \r\nz\r\n\" style=\"fill:#0000ff;\"/>\r\n   </g>\r\n   <g id=\"patch_15\">\r\n    <path clip-path=\"url(#pd00d95e72a)\" d=\"M 430.566976 439.2 \r\nL 436.051993 439.2 \r\nL 436.051993 437.238483 \r\nL 430.566976 437.238483 \r\nz\r\n\" style=\"fill:#0000ff;\"/>\r\n   </g>\r\n   <g id=\"patch_16\">\r\n    <path clip-path=\"url(#pd00d95e72a)\" d=\"M 457.992064 439.2 \r\nL 463.477082 439.2 \r\nL 463.477082 422.199648 \r\nL 457.992064 422.199648 \r\nz\r\n\" style=\"fill:#0000ff;\"/>\r\n   </g>\r\n   <g id=\"patch_17\">\r\n    <path clip-path=\"url(#pd00d95e72a)\" d=\"M 485.417153 439.2 \r\nL 490.902171 439.2 \r\nL 490.902171 433.126251 \r\nL 485.417153 433.126251 \r\nz\r\n\" style=\"fill:#0000ff;\"/>\r\n   </g>\r\n   <g id=\"patch_18\">\r\n    <path clip-path=\"url(#pd00d95e72a)\" d=\"M 512.842242 439.2 \r\nL 518.32726 439.2 \r\nL 518.32726 376.387798 \r\nL 512.842242 376.387798 \r\nz\r\n\" style=\"fill:#0000ff;\"/>\r\n   </g>\r\n   <g id=\"patch_19\">\r\n    <path clip-path=\"url(#pd00d95e72a)\" d=\"M 540.267331 439.2 \r\nL 545.752349 439.2 \r\nL 545.752349 426.468737 \r\nL 540.267331 426.468737 \r\nz\r\n\" style=\"fill:#0000ff;\"/>\r\n   </g>\r\n   <g id=\"patch_20\">\r\n    <path clip-path=\"url(#pd00d95e72a)\" d=\"M 567.69242 439.2 \r\nL 573.177438 439.2 \r\nL 573.177438 437.443852 \r\nL 567.69242 437.443852 \r\nz\r\n\" style=\"fill:#0000ff;\"/>\r\n   </g>\r\n   <g id=\"patch_21\">\r\n    <path clip-path=\"url(#pd00d95e72a)\" d=\"M 595.117509 439.2 \r\nL 600.602527 439.2 \r\nL 600.602527 439.2 \r\nL 595.117509 439.2 \r\nz\r\n\" style=\"fill:#0000ff;\"/>\r\n   </g>\r\n   <g id=\"patch_22\">\r\n    <path clip-path=\"url(#pd00d95e72a)\" d=\"M 622.542598 439.2 \r\nL 628.027616 439.2 \r\nL 628.027616 410.687662 \r\nL 622.542598 410.687662 \r\nz\r\n\" style=\"fill:#0000ff;\"/>\r\n   </g>\r\n   <g id=\"patch_23\">\r\n    <path clip-path=\"url(#pd00d95e72a)\" d=\"M 649.967687 439.2 \r\nL 655.452704 439.2 \r\nL 655.452704 27.771429 \r\nL 649.967687 27.771429 \r\nz\r\n\" style=\"fill:#0000ff;\"/>\r\n   </g>\r\n   <g id=\"patch_24\">\r\n    <path clip-path=\"url(#pd00d95e72a)\" d=\"M 677.392776 439.2 \r\nL 682.877793 439.2 \r\nL 682.877793 436.59812 \r\nL 677.392776 436.59812 \r\nz\r\n\" style=\"fill:#0000ff;\"/>\r\n   </g>\r\n   <g id=\"patch_25\">\r\n    <path clip-path=\"url(#pd00d95e72a)\" d=\"M 704.817864 439.2 \r\nL 710.302882 439.2 \r\nL 710.302882 438.705174 \r\nL 704.817864 438.705174 \r\nz\r\n\" style=\"fill:#0000ff;\"/>\r\n   </g>\r\n   <g id=\"patch_26\">\r\n    <path clip-path=\"url(#pd00d95e72a)\" d=\"M 732.242953 439.2 \r\nL 737.727971 439.2 \r\nL 737.727971 438.826455 \r\nL 732.242953 438.826455 \r\nz\r\n\" style=\"fill:#0000ff;\"/>\r\n   </g>\r\n   <g id=\"patch_27\">\r\n    <path clip-path=\"url(#pd00d95e72a)\" d=\"M 759.668042 439.2 \r\nL 765.15306 439.2 \r\nL 765.15306 437.948381 \r\nL 759.668042 437.948381 \r\nz\r\n\" style=\"fill:#0000ff;\"/>\r\n   </g>\r\n   <g id=\"patch_28\">\r\n    <path clip-path=\"url(#pd00d95e72a)\" d=\"M 787.093131 439.2 \r\nL 792.578149 439.2 \r\nL 792.578149 417.982306 \r\nL 787.093131 417.982306 \r\nz\r\n\" style=\"fill:#0000ff;\"/>\r\n   </g>\r\n   <g id=\"patch_29\">\r\n    <path clip-path=\"url(#pd00d95e72a)\" d=\"M 814.51822 439.2 \r\nL 820.003238 439.2 \r\nL 820.003238 436.906982 \r\nL 814.51822 436.906982 \r\nz\r\n\" style=\"fill:#0000ff;\"/>\r\n   </g>\r\n   <g id=\"patch_30\">\r\n    <path clip-path=\"url(#pd00d95e72a)\" d=\"M 841.943309 439.2 \r\nL 847.428327 439.2 \r\nL 847.428327 426.552825 \r\nL 841.943309 426.552825 \r\nz\r\n\" style=\"fill:#0000ff;\"/>\r\n   </g>\r\n   <g id=\"patch_31\">\r\n    <path clip-path=\"url(#pd00d95e72a)\" d=\"M 869.368398 439.2 \r\nL 874.853415 439.2 \r\nL 874.853415 399.756208 \r\nL 869.368398 399.756208 \r\nz\r\n\" style=\"fill:#0000ff;\"/>\r\n   </g>\r\n   <g id=\"patch_32\">\r\n    <path clip-path=\"url(#pd00d95e72a)\" d=\"M 896.793487 439.2 \r\nL 902.278504 439.2 \r\nL 902.278504 438.952587 \r\nL 896.793487 438.952587 \r\nz\r\n\" style=\"fill:#0000ff;\"/>\r\n   </g>\r\n   <g id=\"patch_33\">\r\n    <path clip-path=\"url(#pd00d95e72a)\" d=\"M 924.218575 439.2 \r\nL 929.703593 439.2 \r\nL 929.703593 215.283064 \r\nL 924.218575 215.283064 \r\nz\r\n\" style=\"fill:#0000ff;\"/>\r\n   </g>\r\n   <g id=\"patch_34\">\r\n    <path clip-path=\"url(#pd00d95e72a)\" d=\"M 951.643664 439.2 \r\nL 957.128682 439.2 \r\nL 957.128682 383.134252 \r\nL 951.643664 383.134252 \r\nz\r\n\" style=\"fill:#0000ff;\"/>\r\n   </g>\r\n   <g id=\"patch_35\">\r\n    <path clip-path=\"url(#pd00d95e72a)\" d=\"M 979.068753 439.2 \r\nL 984.553771 439.2 \r\nL 984.553771 435.87852 \r\nL 979.068753 435.87852 \r\nz\r\n\" style=\"fill:#0000ff;\"/>\r\n   </g>\r\n   <g id=\"patch_36\">\r\n    <path clip-path=\"url(#pd00d95e72a)\" d=\"M 1006.493842 439.2 \r\nL 1011.97886 439.2 \r\nL 1011.97886 433.480391 \r\nL 1006.493842 433.480391 \r\nz\r\n\" style=\"fill:#0000ff;\"/>\r\n   </g>\r\n   <g id=\"patch_37\">\r\n    <path clip-path=\"url(#pd00d95e72a)\" d=\"M 1033.918931 439.2 \r\nL 1039.403949 439.2 \r\nL 1039.403949 380.215425 \r\nL 1033.918931 380.215425 \r\nz\r\n\" style=\"fill:#0000ff;\"/>\r\n   </g>\r\n   <g id=\"patch_38\">\r\n    <path clip-path=\"url(#pd00d95e72a)\" d=\"M 1061.34402 439.2 \r\nL 1066.829038 439.2 \r\nL 1066.829038 390.666606 \r\nL 1061.34402 390.666606 \r\nz\r\n\" style=\"fill:#0000ff;\"/>\r\n   </g>\r\n   <g id=\"patch_39\">\r\n    <path clip-path=\"url(#pd00d95e72a)\" d=\"M 106.950927 439.2 \r\nL 112.435945 439.2 \r\nL 112.435945 439.086804 \r\nL 106.950927 439.086804 \r\nz\r\n\" style=\"fill:#ffa500;\"/>\r\n   </g>\r\n   <g id=\"patch_40\">\r\n    <path clip-path=\"url(#pd00d95e72a)\" d=\"M 134.376016 439.2 \r\nL 139.861034 439.2 \r\nL 139.861034 417.485863 \r\nL 134.376016 417.485863 \r\nz\r\n\" style=\"fill:#ffa500;\"/>\r\n   </g>\r\n   <g id=\"patch_41\">\r\n    <path clip-path=\"url(#pd00d95e72a)\" d=\"M 161.801105 439.2 \r\nL 167.286122 439.2 \r\nL 167.286122 438.84586 \r\nL 161.801105 438.84586 \r\nz\r\n\" style=\"fill:#ffa500;\"/>\r\n   </g>\r\n   <g id=\"patch_42\">\r\n    <path clip-path=\"url(#pd00d95e72a)\" d=\"M 189.226193 439.2 \r\nL 194.711211 439.2 \r\nL 194.711211 430.128187 \r\nL 189.226193 430.128187 \r\nz\r\n\" style=\"fill:#ffa500;\"/>\r\n   </g>\r\n   <g id=\"patch_43\">\r\n    <path clip-path=\"url(#pd00d95e72a)\" d=\"M 216.651282 439.2 \r\nL 222.1363 439.2 \r\nL 222.1363 431.112988 \r\nL 216.651282 431.112988 \r\nz\r\n\" style=\"fill:#ffa500;\"/>\r\n   </g>\r\n   <g id=\"patch_44\">\r\n    <path clip-path=\"url(#pd00d95e72a)\" d=\"M 244.076371 439.2 \r\nL 249.561389 439.2 \r\nL 249.561389 438.983311 \r\nL 244.076371 438.983311 \r\nz\r\n\" style=\"fill:#ffa500;\"/>\r\n   </g>\r\n   <g id=\"patch_45\">\r\n    <path clip-path=\"url(#pd00d95e72a)\" d=\"M 271.50146 439.2 \r\nL 276.986478 439.2 \r\nL 276.986478 437.765651 \r\nL 271.50146 437.765651 \r\nz\r\n\" style=\"fill:#ffa500;\"/>\r\n   </g>\r\n   <g id=\"patch_46\">\r\n    <path clip-path=\"url(#pd00d95e72a)\" d=\"M 298.926549 439.2 \r\nL 304.411567 439.2 \r\nL 304.411567 438.821604 \r\nL 298.926549 438.821604 \r\nz\r\n\" style=\"fill:#ffa500;\"/>\r\n   </g>\r\n   <g id=\"patch_47\">\r\n    <path clip-path=\"url(#pd00d95e72a)\" d=\"M 326.351638 439.2 \r\nL 331.836656 439.2 \r\nL 331.836656 408.224851 \r\nL 326.351638 408.224851 \r\nz\r\n\" style=\"fill:#ffa500;\"/>\r\n   </g>\r\n   <g id=\"patch_48\">\r\n    <path clip-path=\"url(#pd00d95e72a)\" d=\"M 353.776727 439.2 \r\nL 359.261745 439.2 \r\nL 359.261745 437.660541 \r\nL 353.776727 437.660541 \r\nz\r\n\" style=\"fill:#ffa500;\"/>\r\n   </g>\r\n   <g id=\"patch_49\">\r\n    <path clip-path=\"url(#pd00d95e72a)\" d=\"M 381.201816 439.2 \r\nL 386.686833 439.2 \r\nL 386.686833 422.03794 \r\nL 381.201816 422.03794 \r\nz\r\n\" style=\"fill:#ffa500;\"/>\r\n   </g>\r\n   <g id=\"patch_50\">\r\n    <path clip-path=\"url(#pd00d95e72a)\" d=\"M 408.626905 439.2 \r\nL 414.111922 439.2 \r\nL 414.111922 431.185756 \r\nL 408.626905 431.185756 \r\nz\r\n\" style=\"fill:#ffa500;\"/>\r\n   </g>\r\n   <g id=\"patch_51\">\r\n    <path clip-path=\"url(#pd00d95e72a)\" d=\"M 436.051993 439.2 \r\nL 441.537011 439.2 \r\nL 441.537011 438.758537 \r\nL 436.051993 438.758537 \r\nz\r\n\" style=\"fill:#ffa500;\"/>\r\n   </g>\r\n   <g id=\"patch_52\">\r\n    <path clip-path=\"url(#pd00d95e72a)\" d=\"M 463.477082 439.2 \r\nL 468.9621 439.2 \r\nL 468.9621 432.157621 \r\nL 463.477082 432.157621 \r\nz\r\n\" style=\"fill:#ffa500;\"/>\r\n   </g>\r\n   <g id=\"patch_53\">\r\n    <path clip-path=\"url(#pd00d95e72a)\" d=\"M 490.902171 439.2 \r\nL 496.387189 439.2 \r\nL 496.387189 436.906982 \r\nL 490.902171 436.906982 \r\nz\r\n\" style=\"fill:#ffa500;\"/>\r\n   </g>\r\n   <g id=\"patch_54\">\r\n    <path clip-path=\"url(#pd00d95e72a)\" d=\"M 518.32726 439.2 \r\nL 523.812278 439.2 \r\nL 523.812278 402.411452 \r\nL 518.32726 402.411452 \r\nz\r\n\" style=\"fill:#ffa500;\"/>\r\n   </g>\r\n   <g id=\"patch_55\">\r\n    <path clip-path=\"url(#pd00d95e72a)\" d=\"M 545.752349 439.2 \r\nL 551.237367 439.2 \r\nL 551.237367 433.140805 \r\nL 545.752349 433.140805 \r\nz\r\n\" style=\"fill:#ffa500;\"/>\r\n   </g>\r\n   <g id=\"patch_56\">\r\n    <path clip-path=\"url(#pd00d95e72a)\" d=\"M 573.177438 439.2 \r\nL 578.662456 439.2 \r\nL 578.662456 438.946119 \r\nL 573.177438 438.946119 \r\nz\r\n\" style=\"fill:#ffa500;\"/>\r\n   </g>\r\n   <g id=\"patch_57\">\r\n    <path clip-path=\"url(#pd00d95e72a)\" d=\"M 600.602527 439.2 \r\nL 606.087544 439.2 \r\nL 606.087544 439.2 \r\nL 600.602527 439.2 \r\nz\r\n\" style=\"fill:#ffa500;\"/>\r\n   </g>\r\n   <g id=\"patch_58\">\r\n    <path clip-path=\"url(#pd00d95e72a)\" d=\"M 628.027616 439.2 \r\nL 633.512633 439.2 \r\nL 633.512633 432.565125 \r\nL 628.027616 432.565125 \r\nz\r\n\" style=\"fill:#ffa500;\"/>\r\n   </g>\r\n   <g id=\"patch_59\">\r\n    <path clip-path=\"url(#pd00d95e72a)\" d=\"M 655.452704 439.2 \r\nL 660.937722 439.2 \r\nL 660.937722 271.326173 \r\nL 655.452704 271.326173 \r\nz\r\n\" style=\"fill:#ffa500;\"/>\r\n   </g>\r\n   <g id=\"patch_60\">\r\n    <path clip-path=\"url(#pd00d95e72a)\" d=\"M 682.877793 439.2 \r\nL 688.362811 439.2 \r\nL 688.362811 438.047023 \r\nL 682.877793 438.047023 \r\nz\r\n\" style=\"fill:#ffa500;\"/>\r\n   </g>\r\n   <g id=\"patch_61\">\r\n    <path clip-path=\"url(#pd00d95e72a)\" d=\"M 710.302882 439.2 \r\nL 715.7879 439.2 \r\nL 715.7879 438.815135 \r\nL 710.302882 438.815135 \r\nz\r\n\" style=\"fill:#ffa500;\"/>\r\n   </g>\r\n   <g id=\"patch_62\">\r\n    <path clip-path=\"url(#pd00d95e72a)\" d=\"M 737.727971 439.2 \r\nL 743.212989 439.2 \r\nL 743.212989 439.069017 \r\nL 737.727971 439.069017 \r\nz\r\n\" style=\"fill:#ffa500;\"/>\r\n   </g>\r\n   <g id=\"patch_63\">\r\n    <path clip-path=\"url(#pd00d95e72a)\" d=\"M 765.15306 439.2 \r\nL 770.638078 439.2 \r\nL 770.638078 438.477166 \r\nL 765.15306 438.477166 \r\nz\r\n\" style=\"fill:#ffa500;\"/>\r\n   </g>\r\n   <g id=\"patch_64\">\r\n    <path clip-path=\"url(#pd00d95e72a)\" d=\"M 792.578149 439.2 \r\nL 798.063167 439.2 \r\nL 798.063167 432.235241 \r\nL 792.578149 432.235241 \r\nz\r\n\" style=\"fill:#ffa500;\"/>\r\n   </g>\r\n   <g id=\"patch_65\">\r\n    <path clip-path=\"url(#pd00d95e72a)\" d=\"M 820.003238 439.2 \r\nL 825.488255 439.2 \r\nL 825.488255 438.131111 \r\nL 820.003238 438.131111 \r\nz\r\n\" style=\"fill:#ffa500;\"/>\r\n   </g>\r\n   <g id=\"patch_66\">\r\n    <path clip-path=\"url(#pd00d95e72a)\" d=\"M 847.428327 439.2 \r\nL 852.913344 439.2 \r\nL 852.913344 435.593914 \r\nL 847.428327 435.593914 \r\nz\r\n\" style=\"fill:#ffa500;\"/>\r\n   </g>\r\n   <g id=\"patch_67\">\r\n    <path clip-path=\"url(#pd00d95e72a)\" d=\"M 874.853415 439.2 \r\nL 880.338433 439.2 \r\nL 880.338433 429.8549 \r\nL 874.853415 429.8549 \r\nz\r\n\" style=\"fill:#ffa500;\"/>\r\n   </g>\r\n   <g id=\"patch_68\">\r\n    <path clip-path=\"url(#pd00d95e72a)\" d=\"M 902.278504 439.2 \r\nL 907.763522 439.2 \r\nL 907.763522 439.08357 \r\nL 902.278504 439.08357 \r\nz\r\n\" style=\"fill:#ffa500;\"/>\r\n   </g>\r\n   <g id=\"patch_69\">\r\n    <path clip-path=\"url(#pd00d95e72a)\" d=\"M 929.703593 439.2 \r\nL 935.188611 439.2 \r\nL 935.188611 363.242563 \r\nL 929.703593 363.242563 \r\nz\r\n\" style=\"fill:#ffa500;\"/>\r\n   </g>\r\n   <g id=\"patch_70\">\r\n    <path clip-path=\"url(#pd00d95e72a)\" d=\"M 957.128682 439.2 \r\nL 962.6137 439.2 \r\nL 962.6137 420.065104 \r\nL 957.128682 420.065104 \r\nz\r\n\" style=\"fill:#ffa500;\"/>\r\n   </g>\r\n   <g id=\"patch_71\">\r\n    <path clip-path=\"url(#pd00d95e72a)\" d=\"M 984.553771 439.2 \r\nL 990.038789 439.2 \r\nL 990.038789 438.179623 \r\nL 984.553771 438.179623 \r\nz\r\n\" style=\"fill:#ffa500;\"/>\r\n   </g>\r\n   <g id=\"patch_72\">\r\n    <path clip-path=\"url(#pd00d95e72a)\" d=\"M 1011.97886 439.2 \r\nL 1017.463878 439.2 \r\nL 1017.463878 438.061576 \r\nL 1011.97886 438.061576 \r\nz\r\n\" style=\"fill:#ffa500;\"/>\r\n   </g>\r\n   <g id=\"patch_73\">\r\n    <path clip-path=\"url(#pd00d95e72a)\" d=\"M 1039.403949 439.2 \r\nL 1044.888966 439.2 \r\nL 1044.888966 419.458699 \r\nL 1039.403949 419.458699 \r\nz\r\n\" style=\"fill:#ffa500;\"/>\r\n   </g>\r\n   <g id=\"patch_74\">\r\n    <path clip-path=\"url(#pd00d95e72a)\" d=\"M 1066.829038 439.2 \r\nL 1072.314055 439.2 \r\nL 1072.314055 422.22067 \r\nL 1066.829038 422.22067 \r\nz\r\n\" style=\"fill:#ffa500;\"/>\r\n   </g>\r\n   <g id=\"patch_75\">\r\n    <path clip-path=\"url(#pd00d95e72a)\" d=\"M 112.435945 439.2 \r\nL 117.920962 439.2 \r\nL 117.920962 439.2 \r\nL 112.435945 439.2 \r\nz\r\n\" style=\"fill:#ff0000;\"/>\r\n   </g>\r\n   <g id=\"patch_76\">\r\n    <path clip-path=\"url(#pd00d95e72a)\" d=\"M 139.861034 439.2 \r\nL 145.346051 439.2 \r\nL 145.346051 438.669598 \r\nL 139.861034 438.669598 \r\nz\r\n\" style=\"fill:#ff0000;\"/>\r\n   </g>\r\n   <g id=\"patch_77\">\r\n    <path clip-path=\"url(#pd00d95e72a)\" d=\"M 167.286122 439.2 \r\nL 172.77114 439.2 \r\nL 172.77114 439.196766 \r\nL 167.286122 439.196766 \r\nz\r\n\" style=\"fill:#ff0000;\"/>\r\n   </g>\r\n   <g id=\"patch_78\">\r\n    <path clip-path=\"url(#pd00d95e72a)\" d=\"M 194.711211 439.2 \r\nL 200.196229 439.2 \r\nL 200.196229 439.143402 \r\nL 194.711211 439.143402 \r\nz\r\n\" style=\"fill:#ff0000;\"/>\r\n   </g>\r\n   <g id=\"patch_79\">\r\n    <path clip-path=\"url(#pd00d95e72a)\" d=\"M 222.1363 439.2 \r\nL 227.621318 439.2 \r\nL 227.621318 438.968758 \r\nL 222.1363 438.968758 \r\nz\r\n\" style=\"fill:#ff0000;\"/>\r\n   </g>\r\n   <g id=\"patch_80\">\r\n    <path clip-path=\"url(#pd00d95e72a)\" d=\"M 249.561389 439.2 \r\nL 255.046407 439.2 \r\nL 255.046407 439.187063 \r\nL 249.561389 439.187063 \r\nz\r\n\" style=\"fill:#ff0000;\"/>\r\n   </g>\r\n   <g id=\"patch_81\">\r\n    <path clip-path=\"url(#pd00d95e72a)\" d=\"M 276.986478 439.2 \r\nL 282.471496 439.2 \r\nL 282.471496 439.169275 \r\nL 276.986478 439.169275 \r\nz\r\n\" style=\"fill:#ff0000;\"/>\r\n   </g>\r\n   <g id=\"patch_82\">\r\n    <path clip-path=\"url(#pd00d95e72a)\" d=\"M 304.411567 439.2 \r\nL 309.896585 439.2 \r\nL 309.896585 439.2 \r\nL 304.411567 439.2 \r\nz\r\n\" style=\"fill:#ff0000;\"/>\r\n   </g>\r\n   <g id=\"patch_83\">\r\n    <path clip-path=\"url(#pd00d95e72a)\" d=\"M 331.836656 439.2 \r\nL 337.321673 439.2 \r\nL 337.321673 433.748827 \r\nL 331.836656 433.748827 \r\nz\r\n\" style=\"fill:#ff0000;\"/>\r\n   </g>\r\n   <g id=\"patch_84\">\r\n    <path clip-path=\"url(#pd00d95e72a)\" d=\"M 359.261745 439.2 \r\nL 364.746762 439.2 \r\nL 364.746762 439.177361 \r\nL 359.261745 439.177361 \r\nz\r\n\" style=\"fill:#ff0000;\"/>\r\n   </g>\r\n   <g id=\"patch_85\">\r\n    <path clip-path=\"url(#pd00d95e72a)\" d=\"M 386.686833 439.2 \r\nL 392.171851 439.2 \r\nL 392.171851 435.893073 \r\nL 386.686833 435.893073 \r\nz\r\n\" style=\"fill:#ff0000;\"/>\r\n   </g>\r\n   <g id=\"patch_86\">\r\n    <path clip-path=\"url(#pd00d95e72a)\" d=\"M 414.111922 439.2 \r\nL 419.59694 439.2 \r\nL 419.59694 438.713259 \r\nL 414.111922 438.713259 \r\nz\r\n\" style=\"fill:#ff0000;\"/>\r\n   </g>\r\n   <g id=\"patch_87\">\r\n    <path clip-path=\"url(#pd00d95e72a)\" d=\"M 441.537011 439.2 \r\nL 447.022029 439.2 \r\nL 447.022029 439.182212 \r\nL 441.537011 439.182212 \r\nz\r\n\" style=\"fill:#ff0000;\"/>\r\n   </g>\r\n   <g id=\"patch_88\">\r\n    <path clip-path=\"url(#pd00d95e72a)\" d=\"M 468.9621 439.2 \r\nL 474.447118 439.2 \r\nL 474.447118 438.910543 \r\nL 468.9621 438.910543 \r\nz\r\n\" style=\"fill:#ff0000;\"/>\r\n   </g>\r\n   <g id=\"patch_89\">\r\n    <path clip-path=\"url(#pd00d95e72a)\" d=\"M 496.387189 439.2 \r\nL 501.872207 439.2 \r\nL 501.872207 439.151488 \r\nL 496.387189 439.151488 \r\nz\r\n\" style=\"fill:#ff0000;\"/>\r\n   </g>\r\n   <g id=\"patch_90\">\r\n    <path clip-path=\"url(#pd00d95e72a)\" d=\"M 523.812278 439.2 \r\nL 529.297296 439.2 \r\nL 529.297296 438.093918 \r\nL 523.812278 438.093918 \r\nz\r\n\" style=\"fill:#ff0000;\"/>\r\n   </g>\r\n   <g id=\"patch_91\">\r\n    <path clip-path=\"url(#pd00d95e72a)\" d=\"M 551.237367 439.2 \r\nL 556.722384 439.2 \r\nL 556.722384 439.149871 \r\nL 551.237367 439.149871 \r\nz\r\n\" style=\"fill:#ff0000;\"/>\r\n   </g>\r\n   <g id=\"patch_92\">\r\n    <path clip-path=\"url(#pd00d95e72a)\" d=\"M 578.662456 439.2 \r\nL 584.147473 439.2 \r\nL 584.147473 439.198383 \r\nL 578.662456 439.198383 \r\nz\r\n\" style=\"fill:#ff0000;\"/>\r\n   </g>\r\n   <g id=\"patch_93\">\r\n    <path clip-path=\"url(#pd00d95e72a)\" d=\"M 606.087544 439.2 \r\nL 611.572562 439.2 \r\nL 611.572562 439.2 \r\nL 606.087544 439.2 \r\nz\r\n\" style=\"fill:#ff0000;\"/>\r\n   </g>\r\n   <g id=\"patch_94\">\r\n    <path clip-path=\"url(#pd00d95e72a)\" d=\"M 633.512633 439.2 \r\nL 638.997651 439.2 \r\nL 638.997651 438.144047 \r\nL 633.512633 438.144047 \r\nz\r\n\" style=\"fill:#ff0000;\"/>\r\n   </g>\r\n   <g id=\"patch_95\">\r\n    <path clip-path=\"url(#pd00d95e72a)\" d=\"M 660.937722 439.2 \r\nL 666.42274 439.2 \r\nL 666.42274 422.561874 \r\nL 660.937722 422.561874 \r\nz\r\n\" style=\"fill:#ff0000;\"/>\r\n   </g>\r\n   <g id=\"patch_96\">\r\n    <path clip-path=\"url(#pd00d95e72a)\" d=\"M 688.362811 439.2 \r\nL 693.847829 439.2 \r\nL 693.847829 439.2 \r\nL 688.362811 439.2 \r\nz\r\n\" style=\"fill:#ff0000;\"/>\r\n   </g>\r\n   <g id=\"patch_97\">\r\n    <path clip-path=\"url(#pd00d95e72a)\" d=\"M 715.7879 439.2 \r\nL 721.272918 439.2 \r\nL 721.272918 439.196766 \r\nL 715.7879 439.196766 \r\nz\r\n\" style=\"fill:#ff0000;\"/>\r\n   </g>\r\n   <g id=\"patch_98\">\r\n    <path clip-path=\"url(#pd00d95e72a)\" d=\"M 743.212989 439.2 \r\nL 748.698007 439.2 \r\nL 748.698007 439.2 \r\nL 743.212989 439.2 \r\nz\r\n\" style=\"fill:#ff0000;\"/>\r\n   </g>\r\n   <g id=\"patch_99\">\r\n    <path clip-path=\"url(#pd00d95e72a)\" d=\"M 770.638078 439.2 \r\nL 776.123095 439.2 \r\nL 776.123095 439.2 \r\nL 770.638078 439.2 \r\nz\r\n\" style=\"fill:#ff0000;\"/>\r\n   </g>\r\n   <g id=\"patch_100\">\r\n    <path clip-path=\"url(#pd00d95e72a)\" d=\"M 798.063167 439.2 \r\nL 803.548184 439.2 \r\nL 803.548184 439.096507 \r\nL 798.063167 439.096507 \r\nz\r\n\" style=\"fill:#ff0000;\"/>\r\n   </g>\r\n   <g id=\"patch_101\">\r\n    <path clip-path=\"url(#pd00d95e72a)\" d=\"M 825.488255 439.2 \r\nL 830.973273 439.2 \r\nL 830.973273 439.170893 \r\nL 825.488255 439.170893 \r\nz\r\n\" style=\"fill:#ff0000;\"/>\r\n   </g>\r\n   <g id=\"patch_102\">\r\n    <path clip-path=\"url(#pd00d95e72a)\" d=\"M 852.913344 439.2 \r\nL 858.398362 439.2 \r\nL 858.398362 438.878201 \r\nL 852.913344 438.878201 \r\nz\r\n\" style=\"fill:#ff0000;\"/>\r\n   </g>\r\n   <g id=\"patch_103\">\r\n    <path clip-path=\"url(#pd00d95e72a)\" d=\"M 880.338433 439.2 \r\nL 885.823451 439.2 \r\nL 885.823451 438.37529 \r\nL 880.338433 438.37529 \r\nz\r\n\" style=\"fill:#ff0000;\"/>\r\n   </g>\r\n   <g id=\"patch_104\">\r\n    <path clip-path=\"url(#pd00d95e72a)\" d=\"M 907.763522 439.2 \r\nL 913.24854 439.2 \r\nL 913.24854 439.2 \r\nL 907.763522 439.2 \r\nz\r\n\" style=\"fill:#ff0000;\"/>\r\n   </g>\r\n   <g id=\"patch_105\">\r\n    <path clip-path=\"url(#pd00d95e72a)\" d=\"M 935.188611 439.2 \r\nL 940.673629 439.2 \r\nL 940.673629 436.020823 \r\nL 935.188611 436.020823 \r\nz\r\n\" style=\"fill:#ff0000;\"/>\r\n   </g>\r\n   <g id=\"patch_106\">\r\n    <path clip-path=\"url(#pd00d95e72a)\" d=\"M 962.6137 439.2 \r\nL 968.098718 439.2 \r\nL 968.098718 438.62432 \r\nL 962.6137 438.62432 \r\nz\r\n\" style=\"fill:#ff0000;\"/>\r\n   </g>\r\n   <g id=\"patch_107\">\r\n    <path clip-path=\"url(#pd00d95e72a)\" d=\"M 990.038789 439.2 \r\nL 995.523807 439.2 \r\nL 995.523807 439.196766 \r\nL 990.038789 439.196766 \r\nz\r\n\" style=\"fill:#ff0000;\"/>\r\n   </g>\r\n   <g id=\"patch_108\">\r\n    <path clip-path=\"url(#pd00d95e72a)\" d=\"M 1017.463878 439.2 \r\nL 1022.948895 439.2 \r\nL 1022.948895 439.123997 \r\nL 1017.463878 439.123997 \r\nz\r\n\" style=\"fill:#ff0000;\"/>\r\n   </g>\r\n   <g id=\"patch_109\">\r\n    <path clip-path=\"url(#pd00d95e72a)\" d=\"M 1044.888966 439.2 \r\nL 1050.373984 439.2 \r\nL 1050.373984 437.689648 \r\nL 1044.888966 437.689648 \r\nz\r\n\" style=\"fill:#ff0000;\"/>\r\n   </g>\r\n   <g id=\"patch_110\">\r\n    <path clip-path=\"url(#pd00d95e72a)\" d=\"M 1072.314055 439.2 \r\nL 1077.799073 439.2 \r\nL 1077.799073 437.692882 \r\nL 1072.314055 437.692882 \r\nz\r\n\" style=\"fill:#ff0000;\"/>\r\n   </g>\r\n   <g id=\"patch_111\">\r\n    <path clip-path=\"url(#pd00d95e72a)\" d=\"M 117.920962 439.2 \r\nL 123.40598 439.2 \r\nL 123.40598 439.049612 \r\nL 117.920962 439.049612 \r\nz\r\n\" style=\"fill:#008000;\"/>\r\n   </g>\r\n   <g id=\"patch_112\">\r\n    <path clip-path=\"url(#pd00d95e72a)\" d=\"M 145.346051 439.2 \r\nL 150.831069 439.2 \r\nL 150.831069 414.277578 \r\nL 145.346051 414.277578 \r\nz\r\n\" style=\"fill:#008000;\"/>\r\n   </g>\r\n   <g id=\"patch_113\">\r\n    <path clip-path=\"url(#pd00d95e72a)\" d=\"M 172.77114 439.2 \r\nL 178.256158 439.2 \r\nL 178.256158 438.976843 \r\nL 172.77114 438.976843 \r\nz\r\n\" style=\"fill:#008000;\"/>\r\n   </g>\r\n   <g id=\"patch_114\">\r\n    <path clip-path=\"url(#pd00d95e72a)\" d=\"M 200.196229 439.2 \r\nL 205.681247 439.2 \r\nL 205.681247 422.340334 \r\nL 200.196229 422.340334 \r\nz\r\n\" style=\"fill:#008000;\"/>\r\n   </g>\r\n   <g id=\"patch_115\">\r\n    <path clip-path=\"url(#pd00d95e72a)\" d=\"M 227.621318 439.2 \r\nL 233.106336 439.2 \r\nL 233.106336 420.606825 \r\nL 227.621318 420.606825 \r\nz\r\n\" style=\"fill:#008000;\"/>\r\n   </g>\r\n   <g id=\"patch_116\">\r\n    <path clip-path=\"url(#pd00d95e72a)\" d=\"M 255.046407 439.2 \r\nL 260.531425 439.2 \r\nL 260.531425 438.525678 \r\nL 255.046407 438.525678 \r\nz\r\n\" style=\"fill:#008000;\"/>\r\n   </g>\r\n   <g id=\"patch_117\">\r\n    <path clip-path=\"url(#pd00d95e72a)\" d=\"M 282.471496 439.2 \r\nL 287.956513 439.2 \r\nL 287.956513 434.10135 \r\nL 282.471496 434.10135 \r\nz\r\n\" style=\"fill:#008000;\"/>\r\n   </g>\r\n   <g id=\"patch_118\">\r\n    <path clip-path=\"url(#pd00d95e72a)\" d=\"M 309.896585 439.2 \r\nL 315.381602 439.2 \r\nL 315.381602 438.803816 \r\nL 309.896585 438.803816 \r\nz\r\n\" style=\"fill:#008000;\"/>\r\n   </g>\r\n   <g id=\"patch_119\">\r\n    <path clip-path=\"url(#pd00d95e72a)\" d=\"M 337.321673 439.2 \r\nL 342.806691 439.2 \r\nL 342.806691 293.714632 \r\nL 337.321673 293.714632 \r\nz\r\n\" style=\"fill:#008000;\"/>\r\n   </g>\r\n   <g id=\"patch_120\">\r\n    <path clip-path=\"url(#pd00d95e72a)\" d=\"M 364.746762 439.2 \r\nL 370.23178 439.2 \r\nL 370.23178 436.795403 \r\nL 364.746762 436.795403 \r\nz\r\n\" style=\"fill:#008000;\"/>\r\n   </g>\r\n   <g id=\"patch_121\">\r\n    <path clip-path=\"url(#pd00d95e72a)\" d=\"M 392.171851 439.2 \r\nL 397.656869 439.2 \r\nL 397.656869 392.042741 \r\nL 392.171851 392.042741 \r\nz\r\n\" style=\"fill:#008000;\"/>\r\n   </g>\r\n   <g id=\"patch_122\">\r\n    <path clip-path=\"url(#pd00d95e72a)\" d=\"M 419.59694 439.2 \r\nL 425.081958 439.2 \r\nL 425.081958 413.354226 \r\nL 419.59694 413.354226 \r\nz\r\n\" style=\"fill:#008000;\"/>\r\n   </g>\r\n   <g id=\"patch_123\">\r\n    <path clip-path=\"url(#pd00d95e72a)\" d=\"M 447.022029 439.2 \r\nL 452.507047 439.2 \r\nL 452.507047 437.697734 \r\nL 447.022029 437.697734 \r\nz\r\n\" style=\"fill:#008000;\"/>\r\n   </g>\r\n   <g id=\"patch_124\">\r\n    <path clip-path=\"url(#pd00d95e72a)\" d=\"M 474.447118 439.2 \r\nL 479.932136 439.2 \r\nL 479.932136 429.531484 \r\nL 474.447118 429.531484 \r\nz\r\n\" style=\"fill:#008000;\"/>\r\n   </g>\r\n   <g id=\"patch_125\">\r\n    <path clip-path=\"url(#pd00d95e72a)\" d=\"M 501.872207 439.2 \r\nL 507.357224 439.2 \r\nL 507.357224 435.467782 \r\nL 501.872207 435.467782 \r\nz\r\n\" style=\"fill:#008000;\"/>\r\n   </g>\r\n   <g id=\"patch_126\">\r\n    <path clip-path=\"url(#pd00d95e72a)\" d=\"M 529.297296 439.2 \r\nL 534.782313 439.2 \r\nL 534.782313 414.282429 \r\nL 529.297296 414.282429 \r\nz\r\n\" style=\"fill:#008000;\"/>\r\n   </g>\r\n   <g id=\"patch_127\">\r\n    <path clip-path=\"url(#pd00d95e72a)\" d=\"M 556.722384 439.2 \r\nL 562.207402 439.2 \r\nL 562.207402 432.578061 \r\nL 556.722384 432.578061 \r\nz\r\n\" style=\"fill:#008000;\"/>\r\n   </g>\r\n   <g id=\"patch_128\">\r\n    <path clip-path=\"url(#pd00d95e72a)\" d=\"M 584.147473 439.2 \r\nL 589.632491 439.2 \r\nL 589.632491 437.699351 \r\nL 584.147473 437.699351 \r\nz\r\n\" style=\"fill:#008000;\"/>\r\n   </g>\r\n   <g id=\"patch_129\">\r\n    <path clip-path=\"url(#pd00d95e72a)\" d=\"M 611.572562 439.2 \r\nL 617.05758 439.2 \r\nL 617.05758 439.2 \r\nL 611.572562 439.2 \r\nz\r\n\" style=\"fill:#008000;\"/>\r\n   </g>\r\n   <g id=\"patch_130\">\r\n    <path clip-path=\"url(#pd00d95e72a)\" d=\"M 638.997651 439.2 \r\nL 644.482669 439.2 \r\nL 644.482669 418.37849 \r\nL 638.997651 418.37849 \r\nz\r\n\" style=\"fill:#008000;\"/>\r\n   </g>\r\n   <g id=\"patch_131\">\r\n    <path clip-path=\"url(#pd00d95e72a)\" d=\"M 666.42274 439.2 \r\nL 671.907758 439.2 \r\nL 671.907758 212.283382 \r\nL 666.42274 212.283382 \r\nz\r\n\" style=\"fill:#008000;\"/>\r\n   </g>\r\n   <g id=\"patch_132\">\r\n    <path clip-path=\"url(#pd00d95e72a)\" d=\"M 693.847829 439.2 \r\nL 699.332847 439.2 \r\nL 699.332847 437.751097 \r\nL 693.847829 437.751097 \r\nz\r\n\" style=\"fill:#008000;\"/>\r\n   </g>\r\n   <g id=\"patch_133\">\r\n    <path clip-path=\"url(#pd00d95e72a)\" d=\"M 721.272918 439.2 \r\nL 726.757936 439.2 \r\nL 726.757936 439.093273 \r\nL 721.272918 439.093273 \r\nz\r\n\" style=\"fill:#008000;\"/>\r\n   </g>\r\n   <g id=\"patch_134\">\r\n    <path clip-path=\"url(#pd00d95e72a)\" d=\"M 748.698007 439.2 \r\nL 754.183024 439.2 \r\nL 754.183024 438.957438 \r\nL 748.698007 438.957438 \r\nz\r\n\" style=\"fill:#008000;\"/>\r\n   </g>\r\n   <g id=\"patch_135\">\r\n    <path clip-path=\"url(#pd00d95e72a)\" d=\"M 776.123095 439.2 \r\nL 781.608113 439.2 \r\nL 781.608113 438.671215 \r\nL 776.123095 438.671215 \r\nz\r\n\" style=\"fill:#008000;\"/>\r\n   </g>\r\n   <g id=\"patch_136\">\r\n    <path clip-path=\"url(#pd00d95e72a)\" d=\"M 803.548184 439.2 \r\nL 809.033202 439.2 \r\nL 809.033202 425.050558 \r\nL 803.548184 425.050558 \r\nz\r\n\" style=\"fill:#008000;\"/>\r\n   </g>\r\n   <g id=\"patch_137\">\r\n    <path clip-path=\"url(#pd00d95e72a)\" d=\"M 830.973273 439.2 \r\nL 836.458291 439.2 \r\nL 836.458291 438.004979 \r\nL 830.973273 438.004979 \r\nz\r\n\" style=\"fill:#008000;\"/>\r\n   </g>\r\n   <g id=\"patch_138\">\r\n    <path clip-path=\"url(#pd00d95e72a)\" d=\"M 858.398362 439.2 \r\nL 863.88338 439.2 \r\nL 863.88338 430.48071 \r\nL 858.398362 430.48071 \r\nz\r\n\" style=\"fill:#008000;\"/>\r\n   </g>\r\n   <g id=\"patch_139\">\r\n    <path clip-path=\"url(#pd00d95e72a)\" d=\"M 885.823451 439.2 \r\nL 891.308469 439.2 \r\nL 891.308469 409.926018 \r\nL 885.823451 409.926018 \r\nz\r\n\" style=\"fill:#008000;\"/>\r\n   </g>\r\n   <g id=\"patch_140\">\r\n    <path clip-path=\"url(#pd00d95e72a)\" d=\"M 913.24854 439.2 \r\nL 918.733558 439.2 \r\nL 918.733558 439.069017 \r\nL 913.24854 439.069017 \r\nz\r\n\" style=\"fill:#008000;\"/>\r\n   </g>\r\n   <g id=\"patch_141\">\r\n    <path clip-path=\"url(#pd00d95e72a)\" d=\"M 940.673629 439.2 \r\nL 946.158647 439.2 \r\nL 946.158647 294.419679 \r\nL 940.673629 294.419679 \r\nz\r\n\" style=\"fill:#008000;\"/>\r\n   </g>\r\n   <g id=\"patch_142\">\r\n    <path clip-path=\"url(#pd00d95e72a)\" d=\"M 968.098718 439.2 \r\nL 973.583735 439.2 \r\nL 973.583735 402.844829 \r\nL 968.098718 402.844829 \r\nz\r\n\" style=\"fill:#008000;\"/>\r\n   </g>\r\n   <g id=\"patch_143\">\r\n    <path clip-path=\"url(#pd00d95e72a)\" d=\"M 995.523807 439.2 \r\nL 1001.008824 439.2 \r\nL 1001.008824 436.902131 \r\nL 995.523807 436.902131 \r\nz\r\n\" style=\"fill:#008000;\"/>\r\n   </g>\r\n   <g id=\"patch_144\">\r\n    <path clip-path=\"url(#pd00d95e72a)\" d=\"M 1022.948895 439.2 \r\nL 1028.433913 439.2 \r\nL 1028.433913 434.694818 \r\nL 1022.948895 434.694818 \r\nz\r\n\" style=\"fill:#008000;\"/>\r\n   </g>\r\n   <g id=\"patch_145\">\r\n    <path clip-path=\"url(#pd00d95e72a)\" d=\"M 1050.373984 439.2 \r\nL 1055.859002 439.2 \r\nL 1055.859002 401.467077 \r\nL 1050.373984 401.467077 \r\nz\r\n\" style=\"fill:#008000;\"/>\r\n   </g>\r\n   <g id=\"patch_146\">\r\n    <path clip-path=\"url(#pd00d95e72a)\" d=\"M 1077.799073 439.2 \r\nL 1083.284091 439.2 \r\nL 1083.284091 409.153054 \r\nL 1077.799073 409.153054 \r\nz\r\n\" style=\"fill:#008000;\"/>\r\n   </g>\r\n   <g id=\"matplotlib.axis_1\">\r\n    <g id=\"xtick_1\">\r\n     <g id=\"line2d_1\">\r\n      <defs>\r\n       <path d=\"M 0 0 \r\nL 0 3.5 \r\n\" id=\"m9de7c33357\" style=\"stroke:#000000;stroke-width:0.8;\"/>\r\n      </defs>\r\n      <g>\r\n       <use style=\"stroke:#000000;stroke-width:0.8;\" x=\"115.178454\" xlink:href=\"#m9de7c33357\" y=\"439.2\"/>\r\n      </g>\r\n     </g>\r\n     <g id=\"text_1\">\r\n      <!-- Andaman and Nicobar Islands -->\r\n      <defs>\r\n       <path d=\"M 34.1875 63.1875 \r\nL 20.796875 26.90625 \r\nL 47.609375 26.90625 \r\nz\r\nM 28.609375 72.90625 \r\nL 39.796875 72.90625 \r\nL 67.578125 0 \r\nL 57.328125 0 \r\nL 50.6875 18.703125 \r\nL 17.828125 18.703125 \r\nL 11.1875 0 \r\nL 0.78125 0 \r\nz\r\n\" id=\"DejaVuSans-65\"/>\r\n       <path d=\"M 54.890625 33.015625 \r\nL 54.890625 0 \r\nL 45.90625 0 \r\nL 45.90625 32.71875 \r\nQ 45.90625 40.484375 42.875 44.328125 \r\nQ 39.84375 48.1875 33.796875 48.1875 \r\nQ 26.515625 48.1875 22.3125 43.546875 \r\nQ 18.109375 38.921875 18.109375 30.90625 \r\nL 18.109375 0 \r\nL 9.078125 0 \r\nL 9.078125 54.6875 \r\nL 18.109375 54.6875 \r\nL 18.109375 46.1875 \r\nQ 21.34375 51.125 25.703125 53.5625 \r\nQ 30.078125 56 35.796875 56 \r\nQ 45.21875 56 50.046875 50.171875 \r\nQ 54.890625 44.34375 54.890625 33.015625 \r\nz\r\n\" id=\"DejaVuSans-110\"/>\r\n       <path d=\"M 45.40625 46.390625 \r\nL 45.40625 75.984375 \r\nL 54.390625 75.984375 \r\nL 54.390625 0 \r\nL 45.40625 0 \r\nL 45.40625 8.203125 \r\nQ 42.578125 3.328125 38.25 0.953125 \r\nQ 33.9375 -1.421875 27.875 -1.421875 \r\nQ 17.96875 -1.421875 11.734375 6.484375 \r\nQ 5.515625 14.40625 5.515625 27.296875 \r\nQ 5.515625 40.1875 11.734375 48.09375 \r\nQ 17.96875 56 27.875 56 \r\nQ 33.9375 56 38.25 53.625 \r\nQ 42.578125 51.265625 45.40625 46.390625 \r\nz\r\nM 14.796875 27.296875 \r\nQ 14.796875 17.390625 18.875 11.75 \r\nQ 22.953125 6.109375 30.078125 6.109375 \r\nQ 37.203125 6.109375 41.296875 11.75 \r\nQ 45.40625 17.390625 45.40625 27.296875 \r\nQ 45.40625 37.203125 41.296875 42.84375 \r\nQ 37.203125 48.484375 30.078125 48.484375 \r\nQ 22.953125 48.484375 18.875 42.84375 \r\nQ 14.796875 37.203125 14.796875 27.296875 \r\nz\r\n\" id=\"DejaVuSans-100\"/>\r\n       <path d=\"M 34.28125 27.484375 \r\nQ 23.390625 27.484375 19.1875 25 \r\nQ 14.984375 22.515625 14.984375 16.5 \r\nQ 14.984375 11.71875 18.140625 8.90625 \r\nQ 21.296875 6.109375 26.703125 6.109375 \r\nQ 34.1875 6.109375 38.703125 11.40625 \r\nQ 43.21875 16.703125 43.21875 25.484375 \r\nL 43.21875 27.484375 \r\nz\r\nM 52.203125 31.203125 \r\nL 52.203125 0 \r\nL 43.21875 0 \r\nL 43.21875 8.296875 \r\nQ 40.140625 3.328125 35.546875 0.953125 \r\nQ 30.953125 -1.421875 24.3125 -1.421875 \r\nQ 15.921875 -1.421875 10.953125 3.296875 \r\nQ 6 8.015625 6 15.921875 \r\nQ 6 25.140625 12.171875 29.828125 \r\nQ 18.359375 34.515625 30.609375 34.515625 \r\nL 43.21875 34.515625 \r\nL 43.21875 35.40625 \r\nQ 43.21875 41.609375 39.140625 45 \r\nQ 35.0625 48.390625 27.6875 48.390625 \r\nQ 23 48.390625 18.546875 47.265625 \r\nQ 14.109375 46.140625 10.015625 43.890625 \r\nL 10.015625 52.203125 \r\nQ 14.9375 54.109375 19.578125 55.046875 \r\nQ 24.21875 56 28.609375 56 \r\nQ 40.484375 56 46.34375 49.84375 \r\nQ 52.203125 43.703125 52.203125 31.203125 \r\nz\r\n\" id=\"DejaVuSans-97\"/>\r\n       <path d=\"M 52 44.1875 \r\nQ 55.375 50.25 60.0625 53.125 \r\nQ 64.75 56 71.09375 56 \r\nQ 79.640625 56 84.28125 50.015625 \r\nQ 88.921875 44.046875 88.921875 33.015625 \r\nL 88.921875 0 \r\nL 79.890625 0 \r\nL 79.890625 32.71875 \r\nQ 79.890625 40.578125 77.09375 44.375 \r\nQ 74.3125 48.1875 68.609375 48.1875 \r\nQ 61.625 48.1875 57.5625 43.546875 \r\nQ 53.515625 38.921875 53.515625 30.90625 \r\nL 53.515625 0 \r\nL 44.484375 0 \r\nL 44.484375 32.71875 \r\nQ 44.484375 40.625 41.703125 44.40625 \r\nQ 38.921875 48.1875 33.109375 48.1875 \r\nQ 26.21875 48.1875 22.15625 43.53125 \r\nQ 18.109375 38.875 18.109375 30.90625 \r\nL 18.109375 0 \r\nL 9.078125 0 \r\nL 9.078125 54.6875 \r\nL 18.109375 54.6875 \r\nL 18.109375 46.1875 \r\nQ 21.1875 51.21875 25.484375 53.609375 \r\nQ 29.78125 56 35.6875 56 \r\nQ 41.65625 56 45.828125 52.96875 \r\nQ 50 49.953125 52 44.1875 \r\nz\r\n\" id=\"DejaVuSans-109\"/>\r\n       <path id=\"DejaVuSans-32\"/>\r\n       <path d=\"M 9.8125 72.90625 \r\nL 23.09375 72.90625 \r\nL 55.421875 11.921875 \r\nL 55.421875 72.90625 \r\nL 64.984375 72.90625 \r\nL 64.984375 0 \r\nL 51.703125 0 \r\nL 19.390625 60.984375 \r\nL 19.390625 0 \r\nL 9.8125 0 \r\nz\r\n\" id=\"DejaVuSans-78\"/>\r\n       <path d=\"M 9.421875 54.6875 \r\nL 18.40625 54.6875 \r\nL 18.40625 0 \r\nL 9.421875 0 \r\nz\r\nM 9.421875 75.984375 \r\nL 18.40625 75.984375 \r\nL 18.40625 64.59375 \r\nL 9.421875 64.59375 \r\nz\r\n\" id=\"DejaVuSans-105\"/>\r\n       <path d=\"M 48.78125 52.59375 \r\nL 48.78125 44.1875 \r\nQ 44.96875 46.296875 41.140625 47.34375 \r\nQ 37.3125 48.390625 33.40625 48.390625 \r\nQ 24.65625 48.390625 19.8125 42.84375 \r\nQ 14.984375 37.3125 14.984375 27.296875 \r\nQ 14.984375 17.28125 19.8125 11.734375 \r\nQ 24.65625 6.203125 33.40625 6.203125 \r\nQ 37.3125 6.203125 41.140625 7.25 \r\nQ 44.96875 8.296875 48.78125 10.40625 \r\nL 48.78125 2.09375 \r\nQ 45.015625 0.34375 40.984375 -0.53125 \r\nQ 36.96875 -1.421875 32.421875 -1.421875 \r\nQ 20.0625 -1.421875 12.78125 6.34375 \r\nQ 5.515625 14.109375 5.515625 27.296875 \r\nQ 5.515625 40.671875 12.859375 48.328125 \r\nQ 20.21875 56 33.015625 56 \r\nQ 37.15625 56 41.109375 55.140625 \r\nQ 45.0625 54.296875 48.78125 52.59375 \r\nz\r\n\" id=\"DejaVuSans-99\"/>\r\n       <path d=\"M 30.609375 48.390625 \r\nQ 23.390625 48.390625 19.1875 42.75 \r\nQ 14.984375 37.109375 14.984375 27.296875 \r\nQ 14.984375 17.484375 19.15625 11.84375 \r\nQ 23.34375 6.203125 30.609375 6.203125 \r\nQ 37.796875 6.203125 41.984375 11.859375 \r\nQ 46.1875 17.53125 46.1875 27.296875 \r\nQ 46.1875 37.015625 41.984375 42.703125 \r\nQ 37.796875 48.390625 30.609375 48.390625 \r\nz\r\nM 30.609375 56 \r\nQ 42.328125 56 49.015625 48.375 \r\nQ 55.71875 40.765625 55.71875 27.296875 \r\nQ 55.71875 13.875 49.015625 6.21875 \r\nQ 42.328125 -1.421875 30.609375 -1.421875 \r\nQ 18.84375 -1.421875 12.171875 6.21875 \r\nQ 5.515625 13.875 5.515625 27.296875 \r\nQ 5.515625 40.765625 12.171875 48.375 \r\nQ 18.84375 56 30.609375 56 \r\nz\r\n\" id=\"DejaVuSans-111\"/>\r\n       <path d=\"M 48.6875 27.296875 \r\nQ 48.6875 37.203125 44.609375 42.84375 \r\nQ 40.53125 48.484375 33.40625 48.484375 \r\nQ 26.265625 48.484375 22.1875 42.84375 \r\nQ 18.109375 37.203125 18.109375 27.296875 \r\nQ 18.109375 17.390625 22.1875 11.75 \r\nQ 26.265625 6.109375 33.40625 6.109375 \r\nQ 40.53125 6.109375 44.609375 11.75 \r\nQ 48.6875 17.390625 48.6875 27.296875 \r\nz\r\nM 18.109375 46.390625 \r\nQ 20.953125 51.265625 25.265625 53.625 \r\nQ 29.59375 56 35.59375 56 \r\nQ 45.5625 56 51.78125 48.09375 \r\nQ 58.015625 40.1875 58.015625 27.296875 \r\nQ 58.015625 14.40625 51.78125 6.484375 \r\nQ 45.5625 -1.421875 35.59375 -1.421875 \r\nQ 29.59375 -1.421875 25.265625 0.953125 \r\nQ 20.953125 3.328125 18.109375 8.203125 \r\nL 18.109375 0 \r\nL 9.078125 0 \r\nL 9.078125 75.984375 \r\nL 18.109375 75.984375 \r\nz\r\n\" id=\"DejaVuSans-98\"/>\r\n       <path d=\"M 41.109375 46.296875 \r\nQ 39.59375 47.171875 37.8125 47.578125 \r\nQ 36.03125 48 33.890625 48 \r\nQ 26.265625 48 22.1875 43.046875 \r\nQ 18.109375 38.09375 18.109375 28.8125 \r\nL 18.109375 0 \r\nL 9.078125 0 \r\nL 9.078125 54.6875 \r\nL 18.109375 54.6875 \r\nL 18.109375 46.1875 \r\nQ 20.953125 51.171875 25.484375 53.578125 \r\nQ 30.03125 56 36.53125 56 \r\nQ 37.453125 56 38.578125 55.875 \r\nQ 39.703125 55.765625 41.0625 55.515625 \r\nz\r\n\" id=\"DejaVuSans-114\"/>\r\n       <path d=\"M 9.8125 72.90625 \r\nL 19.671875 72.90625 \r\nL 19.671875 0 \r\nL 9.8125 0 \r\nz\r\n\" id=\"DejaVuSans-73\"/>\r\n       <path d=\"M 44.28125 53.078125 \r\nL 44.28125 44.578125 \r\nQ 40.484375 46.53125 36.375 47.5 \r\nQ 32.28125 48.484375 27.875 48.484375 \r\nQ 21.1875 48.484375 17.84375 46.4375 \r\nQ 14.5 44.390625 14.5 40.28125 \r\nQ 14.5 37.15625 16.890625 35.375 \r\nQ 19.28125 33.59375 26.515625 31.984375 \r\nL 29.59375 31.296875 \r\nQ 39.15625 29.25 43.1875 25.515625 \r\nQ 47.21875 21.78125 47.21875 15.09375 \r\nQ 47.21875 7.46875 41.1875 3.015625 \r\nQ 35.15625 -1.421875 24.609375 -1.421875 \r\nQ 20.21875 -1.421875 15.453125 -0.5625 \r\nQ 10.6875 0.296875 5.421875 2 \r\nL 5.421875 11.28125 \r\nQ 10.40625 8.6875 15.234375 7.390625 \r\nQ 20.0625 6.109375 24.8125 6.109375 \r\nQ 31.15625 6.109375 34.5625 8.28125 \r\nQ 37.984375 10.453125 37.984375 14.40625 \r\nQ 37.984375 18.0625 35.515625 20.015625 \r\nQ 33.0625 21.96875 24.703125 23.78125 \r\nL 21.578125 24.515625 \r\nQ 13.234375 26.265625 9.515625 29.90625 \r\nQ 5.8125 33.546875 5.8125 39.890625 \r\nQ 5.8125 47.609375 11.28125 51.796875 \r\nQ 16.75 56 26.8125 56 \r\nQ 31.78125 56 36.171875 55.265625 \r\nQ 40.578125 54.546875 44.28125 53.078125 \r\nz\r\n\" id=\"DejaVuSans-115\"/>\r\n       <path d=\"M 9.421875 75.984375 \r\nL 18.40625 75.984375 \r\nL 18.40625 0 \r\nL 9.421875 0 \r\nz\r\n\" id=\"DejaVuSans-108\"/>\r\n      </defs>\r\n      <g transform=\"translate(117.937829 595.834375)rotate(-90)scale(0.1 -0.1)\">\r\n       <use xlink:href=\"#DejaVuSans-65\"/>\r\n       <use x=\"68.408203\" xlink:href=\"#DejaVuSans-110\"/>\r\n       <use x=\"131.787109\" xlink:href=\"#DejaVuSans-100\"/>\r\n       <use x=\"195.263672\" xlink:href=\"#DejaVuSans-97\"/>\r\n       <use x=\"256.542969\" xlink:href=\"#DejaVuSans-109\"/>\r\n       <use x=\"353.955078\" xlink:href=\"#DejaVuSans-97\"/>\r\n       <use x=\"415.234375\" xlink:href=\"#DejaVuSans-110\"/>\r\n       <use x=\"478.613281\" xlink:href=\"#DejaVuSans-32\"/>\r\n       <use x=\"510.400391\" xlink:href=\"#DejaVuSans-97\"/>\r\n       <use x=\"571.679688\" xlink:href=\"#DejaVuSans-110\"/>\r\n       <use x=\"635.058594\" xlink:href=\"#DejaVuSans-100\"/>\r\n       <use x=\"698.535156\" xlink:href=\"#DejaVuSans-32\"/>\r\n       <use x=\"730.322266\" xlink:href=\"#DejaVuSans-78\"/>\r\n       <use x=\"805.126953\" xlink:href=\"#DejaVuSans-105\"/>\r\n       <use x=\"832.910156\" xlink:href=\"#DejaVuSans-99\"/>\r\n       <use x=\"887.890625\" xlink:href=\"#DejaVuSans-111\"/>\r\n       <use x=\"949.072266\" xlink:href=\"#DejaVuSans-98\"/>\r\n       <use x=\"1012.548828\" xlink:href=\"#DejaVuSans-97\"/>\r\n       <use x=\"1073.828125\" xlink:href=\"#DejaVuSans-114\"/>\r\n       <use x=\"1114.941406\" xlink:href=\"#DejaVuSans-32\"/>\r\n       <use x=\"1146.728516\" xlink:href=\"#DejaVuSans-73\"/>\r\n       <use x=\"1176.220703\" xlink:href=\"#DejaVuSans-115\"/>\r\n       <use x=\"1228.320312\" xlink:href=\"#DejaVuSans-108\"/>\r\n       <use x=\"1256.103516\" xlink:href=\"#DejaVuSans-97\"/>\r\n       <use x=\"1317.382812\" xlink:href=\"#DejaVuSans-110\"/>\r\n       <use x=\"1380.761719\" xlink:href=\"#DejaVuSans-100\"/>\r\n       <use x=\"1444.238281\" xlink:href=\"#DejaVuSans-115\"/>\r\n      </g>\r\n     </g>\r\n    </g>\r\n    <g id=\"xtick_2\">\r\n     <g id=\"line2d_2\">\r\n      <g>\r\n       <use style=\"stroke:#000000;stroke-width:0.8;\" x=\"142.603542\" xlink:href=\"#m9de7c33357\" y=\"439.2\"/>\r\n      </g>\r\n     </g>\r\n     <g id=\"text_2\">\r\n      <!-- Andhra Pradesh -->\r\n      <defs>\r\n       <path d=\"M 54.890625 33.015625 \r\nL 54.890625 0 \r\nL 45.90625 0 \r\nL 45.90625 32.71875 \r\nQ 45.90625 40.484375 42.875 44.328125 \r\nQ 39.84375 48.1875 33.796875 48.1875 \r\nQ 26.515625 48.1875 22.3125 43.546875 \r\nQ 18.109375 38.921875 18.109375 30.90625 \r\nL 18.109375 0 \r\nL 9.078125 0 \r\nL 9.078125 75.984375 \r\nL 18.109375 75.984375 \r\nL 18.109375 46.1875 \r\nQ 21.34375 51.125 25.703125 53.5625 \r\nQ 30.078125 56 35.796875 56 \r\nQ 45.21875 56 50.046875 50.171875 \r\nQ 54.890625 44.34375 54.890625 33.015625 \r\nz\r\n\" id=\"DejaVuSans-104\"/>\r\n       <path d=\"M 19.671875 64.796875 \r\nL 19.671875 37.40625 \r\nL 32.078125 37.40625 \r\nQ 38.96875 37.40625 42.71875 40.96875 \r\nQ 46.484375 44.53125 46.484375 51.125 \r\nQ 46.484375 57.671875 42.71875 61.234375 \r\nQ 38.96875 64.796875 32.078125 64.796875 \r\nz\r\nM 9.8125 72.90625 \r\nL 32.078125 72.90625 \r\nQ 44.34375 72.90625 50.609375 67.359375 \r\nQ 56.890625 61.8125 56.890625 51.125 \r\nQ 56.890625 40.328125 50.609375 34.8125 \r\nQ 44.34375 29.296875 32.078125 29.296875 \r\nL 19.671875 29.296875 \r\nL 19.671875 0 \r\nL 9.8125 0 \r\nz\r\n\" id=\"DejaVuSans-80\"/>\r\n       <path d=\"M 56.203125 29.59375 \r\nL 56.203125 25.203125 \r\nL 14.890625 25.203125 \r\nQ 15.484375 15.921875 20.484375 11.0625 \r\nQ 25.484375 6.203125 34.421875 6.203125 \r\nQ 39.59375 6.203125 44.453125 7.46875 \r\nQ 49.3125 8.734375 54.109375 11.28125 \r\nL 54.109375 2.78125 \r\nQ 49.265625 0.734375 44.1875 -0.34375 \r\nQ 39.109375 -1.421875 33.890625 -1.421875 \r\nQ 20.796875 -1.421875 13.15625 6.1875 \r\nQ 5.515625 13.8125 5.515625 26.8125 \r\nQ 5.515625 40.234375 12.765625 48.109375 \r\nQ 20.015625 56 32.328125 56 \r\nQ 43.359375 56 49.78125 48.890625 \r\nQ 56.203125 41.796875 56.203125 29.59375 \r\nz\r\nM 47.21875 32.234375 \r\nQ 47.125 39.59375 43.09375 43.984375 \r\nQ 39.0625 48.390625 32.421875 48.390625 \r\nQ 24.90625 48.390625 20.390625 44.140625 \r\nQ 15.875 39.890625 15.1875 32.171875 \r\nz\r\n\" id=\"DejaVuSans-101\"/>\r\n      </defs>\r\n      <g transform=\"translate(145.362917 525.796875)rotate(-90)scale(0.1 -0.1)\">\r\n       <use xlink:href=\"#DejaVuSans-65\"/>\r\n       <use x=\"68.408203\" xlink:href=\"#DejaVuSans-110\"/>\r\n       <use x=\"131.787109\" xlink:href=\"#DejaVuSans-100\"/>\r\n       <use x=\"195.263672\" xlink:href=\"#DejaVuSans-104\"/>\r\n       <use x=\"258.642578\" xlink:href=\"#DejaVuSans-114\"/>\r\n       <use x=\"299.755859\" xlink:href=\"#DejaVuSans-97\"/>\r\n       <use x=\"361.035156\" xlink:href=\"#DejaVuSans-32\"/>\r\n       <use x=\"392.822266\" xlink:href=\"#DejaVuSans-80\"/>\r\n       <use x=\"453.109375\" xlink:href=\"#DejaVuSans-114\"/>\r\n       <use x=\"494.222656\" xlink:href=\"#DejaVuSans-97\"/>\r\n       <use x=\"555.501953\" xlink:href=\"#DejaVuSans-100\"/>\r\n       <use x=\"618.978516\" xlink:href=\"#DejaVuSans-101\"/>\r\n       <use x=\"680.501953\" xlink:href=\"#DejaVuSans-115\"/>\r\n       <use x=\"732.601562\" xlink:href=\"#DejaVuSans-104\"/>\r\n      </g>\r\n     </g>\r\n    </g>\r\n    <g id=\"xtick_3\">\r\n     <g id=\"line2d_3\">\r\n      <g>\r\n       <use style=\"stroke:#000000;stroke-width:0.8;\" x=\"170.028631\" xlink:href=\"#m9de7c33357\" y=\"439.2\"/>\r\n      </g>\r\n     </g>\r\n     <g id=\"text_3\">\r\n      <!-- Arunachal Pradesh -->\r\n      <defs>\r\n       <path d=\"M 8.5 21.578125 \r\nL 8.5 54.6875 \r\nL 17.484375 54.6875 \r\nL 17.484375 21.921875 \r\nQ 17.484375 14.15625 20.5 10.265625 \r\nQ 23.53125 6.390625 29.59375 6.390625 \r\nQ 36.859375 6.390625 41.078125 11.03125 \r\nQ 45.3125 15.671875 45.3125 23.6875 \r\nL 45.3125 54.6875 \r\nL 54.296875 54.6875 \r\nL 54.296875 0 \r\nL 45.3125 0 \r\nL 45.3125 8.40625 \r\nQ 42.046875 3.421875 37.71875 1 \r\nQ 33.40625 -1.421875 27.6875 -1.421875 \r\nQ 18.265625 -1.421875 13.375 4.4375 \r\nQ 8.5 10.296875 8.5 21.578125 \r\nz\r\nM 31.109375 56 \r\nz\r\n\" id=\"DejaVuSans-117\"/>\r\n      </defs>\r\n      <g transform=\"translate(172.788006 540.190625)rotate(-90)scale(0.1 -0.1)\">\r\n       <use xlink:href=\"#DejaVuSans-65\"/>\r\n       <use x=\"68.408203\" xlink:href=\"#DejaVuSans-114\"/>\r\n       <use x=\"109.521484\" xlink:href=\"#DejaVuSans-117\"/>\r\n       <use x=\"172.900391\" xlink:href=\"#DejaVuSans-110\"/>\r\n       <use x=\"236.279297\" xlink:href=\"#DejaVuSans-97\"/>\r\n       <use x=\"297.558594\" xlink:href=\"#DejaVuSans-99\"/>\r\n       <use x=\"352.539062\" xlink:href=\"#DejaVuSans-104\"/>\r\n       <use x=\"415.917969\" xlink:href=\"#DejaVuSans-97\"/>\r\n       <use x=\"477.197266\" xlink:href=\"#DejaVuSans-108\"/>\r\n       <use x=\"504.980469\" xlink:href=\"#DejaVuSans-32\"/>\r\n       <use x=\"536.767578\" xlink:href=\"#DejaVuSans-80\"/>\r\n       <use x=\"597.054688\" xlink:href=\"#DejaVuSans-114\"/>\r\n       <use x=\"638.167969\" xlink:href=\"#DejaVuSans-97\"/>\r\n       <use x=\"699.447266\" xlink:href=\"#DejaVuSans-100\"/>\r\n       <use x=\"762.923828\" xlink:href=\"#DejaVuSans-101\"/>\r\n       <use x=\"824.447266\" xlink:href=\"#DejaVuSans-115\"/>\r\n       <use x=\"876.546875\" xlink:href=\"#DejaVuSans-104\"/>\r\n      </g>\r\n     </g>\r\n    </g>\r\n    <g id=\"xtick_4\">\r\n     <g id=\"line2d_4\">\r\n      <g>\r\n       <use style=\"stroke:#000000;stroke-width:0.8;\" x=\"197.45372\" xlink:href=\"#m9de7c33357\" y=\"439.2\"/>\r\n      </g>\r\n     </g>\r\n     <g id=\"text_4\">\r\n      <!-- Assam -->\r\n      <g transform=\"translate(200.213095 479.328125)rotate(-90)scale(0.1 -0.1)\">\r\n       <use xlink:href=\"#DejaVuSans-65\"/>\r\n       <use x=\"68.408203\" xlink:href=\"#DejaVuSans-115\"/>\r\n       <use x=\"120.507812\" xlink:href=\"#DejaVuSans-115\"/>\r\n       <use x=\"172.607422\" xlink:href=\"#DejaVuSans-97\"/>\r\n       <use x=\"233.886719\" xlink:href=\"#DejaVuSans-109\"/>\r\n      </g>\r\n     </g>\r\n    </g>\r\n    <g id=\"xtick_5\">\r\n     <g id=\"line2d_5\">\r\n      <g>\r\n       <use style=\"stroke:#000000;stroke-width:0.8;\" x=\"224.878809\" xlink:href=\"#m9de7c33357\" y=\"439.2\"/>\r\n      </g>\r\n     </g>\r\n     <g id=\"text_5\">\r\n      <!-- Bihar -->\r\n      <defs>\r\n       <path d=\"M 19.671875 34.8125 \r\nL 19.671875 8.109375 \r\nL 35.5 8.109375 \r\nQ 43.453125 8.109375 47.28125 11.40625 \r\nQ 51.125 14.703125 51.125 21.484375 \r\nQ 51.125 28.328125 47.28125 31.5625 \r\nQ 43.453125 34.8125 35.5 34.8125 \r\nz\r\nM 19.671875 64.796875 \r\nL 19.671875 42.828125 \r\nL 34.28125 42.828125 \r\nQ 41.5 42.828125 45.03125 45.53125 \r\nQ 48.578125 48.25 48.578125 53.8125 \r\nQ 48.578125 59.328125 45.03125 62.0625 \r\nQ 41.5 64.796875 34.28125 64.796875 \r\nz\r\nM 9.8125 72.90625 \r\nL 35.015625 72.90625 \r\nQ 46.296875 72.90625 52.390625 68.21875 \r\nQ 58.5 63.53125 58.5 54.890625 \r\nQ 58.5 48.1875 55.375 44.234375 \r\nQ 52.25 40.28125 46.1875 39.3125 \r\nQ 53.46875 37.75 57.5 32.78125 \r\nQ 61.53125 27.828125 61.53125 20.40625 \r\nQ 61.53125 10.640625 54.890625 5.3125 \r\nQ 48.25 0 35.984375 0 \r\nL 9.8125 0 \r\nz\r\n\" id=\"DejaVuSans-66\"/>\r\n      </defs>\r\n      <g transform=\"translate(227.638184 472.415625)rotate(-90)scale(0.1 -0.1)\">\r\n       <use xlink:href=\"#DejaVuSans-66\"/>\r\n       <use x=\"68.603516\" xlink:href=\"#DejaVuSans-105\"/>\r\n       <use x=\"96.386719\" xlink:href=\"#DejaVuSans-104\"/>\r\n       <use x=\"159.765625\" xlink:href=\"#DejaVuSans-97\"/>\r\n       <use x=\"221.044922\" xlink:href=\"#DejaVuSans-114\"/>\r\n      </g>\r\n     </g>\r\n    </g>\r\n    <g id=\"xtick_6\">\r\n     <g id=\"line2d_6\">\r\n      <g>\r\n       <use style=\"stroke:#000000;stroke-width:0.8;\" x=\"252.303898\" xlink:href=\"#m9de7c33357\" y=\"439.2\"/>\r\n      </g>\r\n     </g>\r\n     <g id=\"text_6\">\r\n      <!-- Chandigarh -->\r\n      <defs>\r\n       <path d=\"M 64.40625 67.28125 \r\nL 64.40625 56.890625 \r\nQ 59.421875 61.53125 53.78125 63.8125 \r\nQ 48.140625 66.109375 41.796875 66.109375 \r\nQ 29.296875 66.109375 22.65625 58.46875 \r\nQ 16.015625 50.828125 16.015625 36.375 \r\nQ 16.015625 21.96875 22.65625 14.328125 \r\nQ 29.296875 6.6875 41.796875 6.6875 \r\nQ 48.140625 6.6875 53.78125 8.984375 \r\nQ 59.421875 11.28125 64.40625 15.921875 \r\nL 64.40625 5.609375 \r\nQ 59.234375 2.09375 53.4375 0.328125 \r\nQ 47.65625 -1.421875 41.21875 -1.421875 \r\nQ 24.65625 -1.421875 15.125 8.703125 \r\nQ 5.609375 18.84375 5.609375 36.375 \r\nQ 5.609375 53.953125 15.125 64.078125 \r\nQ 24.65625 74.21875 41.21875 74.21875 \r\nQ 47.75 74.21875 53.53125 72.484375 \r\nQ 59.328125 70.75 64.40625 67.28125 \r\nz\r\n\" id=\"DejaVuSans-67\"/>\r\n       <path d=\"M 45.40625 27.984375 \r\nQ 45.40625 37.75 41.375 43.109375 \r\nQ 37.359375 48.484375 30.078125 48.484375 \r\nQ 22.859375 48.484375 18.828125 43.109375 \r\nQ 14.796875 37.75 14.796875 27.984375 \r\nQ 14.796875 18.265625 18.828125 12.890625 \r\nQ 22.859375 7.515625 30.078125 7.515625 \r\nQ 37.359375 7.515625 41.375 12.890625 \r\nQ 45.40625 18.265625 45.40625 27.984375 \r\nz\r\nM 54.390625 6.78125 \r\nQ 54.390625 -7.171875 48.1875 -13.984375 \r\nQ 42 -20.796875 29.203125 -20.796875 \r\nQ 24.46875 -20.796875 20.265625 -20.09375 \r\nQ 16.0625 -19.390625 12.109375 -17.921875 \r\nL 12.109375 -9.1875 \r\nQ 16.0625 -11.328125 19.921875 -12.34375 \r\nQ 23.78125 -13.375 27.78125 -13.375 \r\nQ 36.625 -13.375 41.015625 -8.765625 \r\nQ 45.40625 -4.15625 45.40625 5.171875 \r\nL 45.40625 9.625 \r\nQ 42.625 4.78125 38.28125 2.390625 \r\nQ 33.9375 0 27.875 0 \r\nQ 17.828125 0 11.671875 7.65625 \r\nQ 5.515625 15.328125 5.515625 27.984375 \r\nQ 5.515625 40.671875 11.671875 48.328125 \r\nQ 17.828125 56 27.875 56 \r\nQ 33.9375 56 38.28125 53.609375 \r\nQ 42.625 51.21875 45.40625 46.390625 \r\nL 45.40625 54.6875 \r\nL 54.390625 54.6875 \r\nz\r\n\" id=\"DejaVuSans-103\"/>\r\n      </defs>\r\n      <g transform=\"translate(255.063273 504.035937)rotate(-90)scale(0.1 -0.1)\">\r\n       <use xlink:href=\"#DejaVuSans-67\"/>\r\n       <use x=\"69.824219\" xlink:href=\"#DejaVuSans-104\"/>\r\n       <use x=\"133.203125\" xlink:href=\"#DejaVuSans-97\"/>\r\n       <use x=\"194.482422\" xlink:href=\"#DejaVuSans-110\"/>\r\n       <use x=\"257.861328\" xlink:href=\"#DejaVuSans-100\"/>\r\n       <use x=\"321.337891\" xlink:href=\"#DejaVuSans-105\"/>\r\n       <use x=\"349.121094\" xlink:href=\"#DejaVuSans-103\"/>\r\n       <use x=\"412.597656\" xlink:href=\"#DejaVuSans-97\"/>\r\n       <use x=\"473.876953\" xlink:href=\"#DejaVuSans-114\"/>\r\n       <use x=\"514.974609\" xlink:href=\"#DejaVuSans-104\"/>\r\n      </g>\r\n     </g>\r\n    </g>\r\n    <g id=\"xtick_7\">\r\n     <g id=\"line2d_7\">\r\n      <g>\r\n       <use style=\"stroke:#000000;stroke-width:0.8;\" x=\"279.728987\" xlink:href=\"#m9de7c33357\" y=\"439.2\"/>\r\n      </g>\r\n     </g>\r\n     <g id=\"text_7\">\r\n      <!-- Chhattisgarh -->\r\n      <defs>\r\n       <path d=\"M 18.3125 70.21875 \r\nL 18.3125 54.6875 \r\nL 36.8125 54.6875 \r\nL 36.8125 47.703125 \r\nL 18.3125 47.703125 \r\nL 18.3125 18.015625 \r\nQ 18.3125 11.328125 20.140625 9.421875 \r\nQ 21.96875 7.515625 27.59375 7.515625 \r\nL 36.8125 7.515625 \r\nL 36.8125 0 \r\nL 27.59375 0 \r\nQ 17.1875 0 13.234375 3.875 \r\nQ 9.28125 7.765625 9.28125 18.015625 \r\nL 9.28125 47.703125 \r\nL 2.6875 47.703125 \r\nL 2.6875 54.6875 \r\nL 9.28125 54.6875 \r\nL 9.28125 70.21875 \r\nz\r\n\" id=\"DejaVuSans-116\"/>\r\n      </defs>\r\n      <g transform=\"translate(282.488362 510.7375)rotate(-90)scale(0.1 -0.1)\">\r\n       <use xlink:href=\"#DejaVuSans-67\"/>\r\n       <use x=\"69.824219\" xlink:href=\"#DejaVuSans-104\"/>\r\n       <use x=\"133.203125\" xlink:href=\"#DejaVuSans-104\"/>\r\n       <use x=\"196.582031\" xlink:href=\"#DejaVuSans-97\"/>\r\n       <use x=\"257.861328\" xlink:href=\"#DejaVuSans-116\"/>\r\n       <use x=\"297.070312\" xlink:href=\"#DejaVuSans-116\"/>\r\n       <use x=\"336.279297\" xlink:href=\"#DejaVuSans-105\"/>\r\n       <use x=\"364.0625\" xlink:href=\"#DejaVuSans-115\"/>\r\n       <use x=\"416.162109\" xlink:href=\"#DejaVuSans-103\"/>\r\n       <use x=\"479.638672\" xlink:href=\"#DejaVuSans-97\"/>\r\n       <use x=\"540.917969\" xlink:href=\"#DejaVuSans-114\"/>\r\n       <use x=\"582.015625\" xlink:href=\"#DejaVuSans-104\"/>\r\n      </g>\r\n     </g>\r\n    </g>\r\n    <g id=\"xtick_8\">\r\n     <g id=\"line2d_8\">\r\n      <g>\r\n       <use style=\"stroke:#000000;stroke-width:0.8;\" x=\"307.154076\" xlink:href=\"#m9de7c33357\" y=\"439.2\"/>\r\n      </g>\r\n     </g>\r\n     <g id=\"text_8\">\r\n      <!-- Dadra and Nagar Haveli and Daman and Diu -->\r\n      <defs>\r\n       <path d=\"M 19.671875 64.796875 \r\nL 19.671875 8.109375 \r\nL 31.59375 8.109375 \r\nQ 46.6875 8.109375 53.6875 14.9375 \r\nQ 60.6875 21.78125 60.6875 36.53125 \r\nQ 60.6875 51.171875 53.6875 57.984375 \r\nQ 46.6875 64.796875 31.59375 64.796875 \r\nz\r\nM 9.8125 72.90625 \r\nL 30.078125 72.90625 \r\nQ 51.265625 72.90625 61.171875 64.09375 \r\nQ 71.09375 55.28125 71.09375 36.53125 \r\nQ 71.09375 17.671875 61.125 8.828125 \r\nQ 51.171875 0 30.078125 0 \r\nL 9.8125 0 \r\nz\r\n\" id=\"DejaVuSans-68\"/>\r\n       <path d=\"M 9.8125 72.90625 \r\nL 19.671875 72.90625 \r\nL 19.671875 43.015625 \r\nL 55.515625 43.015625 \r\nL 55.515625 72.90625 \r\nL 65.375 72.90625 \r\nL 65.375 0 \r\nL 55.515625 0 \r\nL 55.515625 34.71875 \r\nL 19.671875 34.71875 \r\nL 19.671875 0 \r\nL 9.8125 0 \r\nz\r\n\" id=\"DejaVuSans-72\"/>\r\n       <path d=\"M 2.984375 54.6875 \r\nL 12.5 54.6875 \r\nL 29.59375 8.796875 \r\nL 46.6875 54.6875 \r\nL 56.203125 54.6875 \r\nL 35.6875 0 \r\nL 23.484375 0 \r\nz\r\n\" id=\"DejaVuSans-118\"/>\r\n      </defs>\r\n      <g transform=\"translate(309.913451 669.628125)rotate(-90)scale(0.1 -0.1)\">\r\n       <use xlink:href=\"#DejaVuSans-68\"/>\r\n       <use x=\"77.001953\" xlink:href=\"#DejaVuSans-97\"/>\r\n       <use x=\"138.28125\" xlink:href=\"#DejaVuSans-100\"/>\r\n       <use x=\"201.757812\" xlink:href=\"#DejaVuSans-114\"/>\r\n       <use x=\"242.871094\" xlink:href=\"#DejaVuSans-97\"/>\r\n       <use x=\"304.150391\" xlink:href=\"#DejaVuSans-32\"/>\r\n       <use x=\"335.9375\" xlink:href=\"#DejaVuSans-97\"/>\r\n       <use x=\"397.216797\" xlink:href=\"#DejaVuSans-110\"/>\r\n       <use x=\"460.595703\" xlink:href=\"#DejaVuSans-100\"/>\r\n       <use x=\"524.072266\" xlink:href=\"#DejaVuSans-32\"/>\r\n       <use x=\"555.859375\" xlink:href=\"#DejaVuSans-78\"/>\r\n       <use x=\"630.664062\" xlink:href=\"#DejaVuSans-97\"/>\r\n       <use x=\"691.943359\" xlink:href=\"#DejaVuSans-103\"/>\r\n       <use x=\"755.419922\" xlink:href=\"#DejaVuSans-97\"/>\r\n       <use x=\"816.699219\" xlink:href=\"#DejaVuSans-114\"/>\r\n       <use x=\"857.8125\" xlink:href=\"#DejaVuSans-32\"/>\r\n       <use x=\"889.599609\" xlink:href=\"#DejaVuSans-72\"/>\r\n       <use x=\"964.794922\" xlink:href=\"#DejaVuSans-97\"/>\r\n       <use x=\"1026.074219\" xlink:href=\"#DejaVuSans-118\"/>\r\n       <use x=\"1085.253906\" xlink:href=\"#DejaVuSans-101\"/>\r\n       <use x=\"1146.777344\" xlink:href=\"#DejaVuSans-108\"/>\r\n       <use x=\"1174.560547\" xlink:href=\"#DejaVuSans-105\"/>\r\n       <use x=\"1202.34375\" xlink:href=\"#DejaVuSans-32\"/>\r\n       <use x=\"1234.130859\" xlink:href=\"#DejaVuSans-97\"/>\r\n       <use x=\"1295.410156\" xlink:href=\"#DejaVuSans-110\"/>\r\n       <use x=\"1358.789062\" xlink:href=\"#DejaVuSans-100\"/>\r\n       <use x=\"1422.265625\" xlink:href=\"#DejaVuSans-32\"/>\r\n       <use x=\"1454.052734\" xlink:href=\"#DejaVuSans-68\"/>\r\n       <use x=\"1531.054688\" xlink:href=\"#DejaVuSans-97\"/>\r\n       <use x=\"1592.333984\" xlink:href=\"#DejaVuSans-109\"/>\r\n       <use x=\"1689.746094\" xlink:href=\"#DejaVuSans-97\"/>\r\n       <use x=\"1751.025391\" xlink:href=\"#DejaVuSans-110\"/>\r\n       <use x=\"1814.404297\" xlink:href=\"#DejaVuSans-32\"/>\r\n       <use x=\"1846.191406\" xlink:href=\"#DejaVuSans-97\"/>\r\n       <use x=\"1907.470703\" xlink:href=\"#DejaVuSans-110\"/>\r\n       <use x=\"1970.849609\" xlink:href=\"#DejaVuSans-100\"/>\r\n       <use x=\"2034.326172\" xlink:href=\"#DejaVuSans-32\"/>\r\n       <use x=\"2066.113281\" xlink:href=\"#DejaVuSans-68\"/>\r\n       <use x=\"2143.115234\" xlink:href=\"#DejaVuSans-105\"/>\r\n       <use x=\"2170.898438\" xlink:href=\"#DejaVuSans-117\"/>\r\n      </g>\r\n     </g>\r\n    </g>\r\n    <g id=\"xtick_9\">\r\n     <g id=\"line2d_9\">\r\n      <g>\r\n       <use style=\"stroke:#000000;stroke-width:0.8;\" x=\"334.579165\" xlink:href=\"#m9de7c33357\" y=\"439.2\"/>\r\n      </g>\r\n     </g>\r\n     <g id=\"text_9\">\r\n      <!-- Delhi -->\r\n      <g transform=\"translate(337.33854 471.946875)rotate(-90)scale(0.1 -0.1)\">\r\n       <use xlink:href=\"#DejaVuSans-68\"/>\r\n       <use x=\"77.001953\" xlink:href=\"#DejaVuSans-101\"/>\r\n       <use x=\"138.525391\" xlink:href=\"#DejaVuSans-108\"/>\r\n       <use x=\"166.308594\" xlink:href=\"#DejaVuSans-104\"/>\r\n       <use x=\"229.6875\" xlink:href=\"#DejaVuSans-105\"/>\r\n      </g>\r\n     </g>\r\n    </g>\r\n    <g id=\"xtick_10\">\r\n     <g id=\"line2d_10\">\r\n      <g>\r\n       <use style=\"stroke:#000000;stroke-width:0.8;\" x=\"362.004253\" xlink:href=\"#m9de7c33357\" y=\"439.2\"/>\r\n      </g>\r\n     </g>\r\n     <g id=\"text_10\">\r\n      <!-- Goa -->\r\n      <defs>\r\n       <path d=\"M 59.515625 10.40625 \r\nL 59.515625 29.984375 \r\nL 43.40625 29.984375 \r\nL 43.40625 38.09375 \r\nL 69.28125 38.09375 \r\nL 69.28125 6.78125 \r\nQ 63.578125 2.734375 56.6875 0.65625 \r\nQ 49.8125 -1.421875 42 -1.421875 \r\nQ 24.90625 -1.421875 15.25 8.5625 \r\nQ 5.609375 18.5625 5.609375 36.375 \r\nQ 5.609375 54.25 15.25 64.234375 \r\nQ 24.90625 74.21875 42 74.21875 \r\nQ 49.125 74.21875 55.546875 72.453125 \r\nQ 61.96875 70.703125 67.390625 67.28125 \r\nL 67.390625 56.78125 \r\nQ 61.921875 61.421875 55.765625 63.765625 \r\nQ 49.609375 66.109375 42.828125 66.109375 \r\nQ 29.4375 66.109375 22.71875 58.640625 \r\nQ 16.015625 51.171875 16.015625 36.375 \r\nQ 16.015625 21.625 22.71875 14.15625 \r\nQ 29.4375 6.6875 42.828125 6.6875 \r\nQ 48.046875 6.6875 52.140625 7.59375 \r\nQ 56.25 8.5 59.515625 10.40625 \r\nz\r\n\" id=\"DejaVuSans-71\"/>\r\n      </defs>\r\n      <g transform=\"translate(364.763628 466.195312)rotate(-90)scale(0.1 -0.1)\">\r\n       <use xlink:href=\"#DejaVuSans-71\"/>\r\n       <use x=\"77.490234\" xlink:href=\"#DejaVuSans-111\"/>\r\n       <use x=\"138.671875\" xlink:href=\"#DejaVuSans-97\"/>\r\n      </g>\r\n     </g>\r\n    </g>\r\n    <g id=\"xtick_11\">\r\n     <g id=\"line2d_11\">\r\n      <g>\r\n       <use style=\"stroke:#000000;stroke-width:0.8;\" x=\"389.429342\" xlink:href=\"#m9de7c33357\" y=\"439.2\"/>\r\n      </g>\r\n     </g>\r\n     <g id=\"text_11\">\r\n      <!-- Gujarat -->\r\n      <defs>\r\n       <path d=\"M 9.421875 54.6875 \r\nL 18.40625 54.6875 \r\nL 18.40625 -0.984375 \r\nQ 18.40625 -11.421875 14.421875 -16.109375 \r\nQ 10.453125 -20.796875 1.609375 -20.796875 \r\nL -1.8125 -20.796875 \r\nL -1.8125 -13.1875 \r\nL 0.59375 -13.1875 \r\nQ 5.71875 -13.1875 7.5625 -10.8125 \r\nQ 9.421875 -8.453125 9.421875 -0.984375 \r\nz\r\nM 9.421875 75.984375 \r\nL 18.40625 75.984375 \r\nL 18.40625 64.59375 \r\nL 9.421875 64.59375 \r\nz\r\n\" id=\"DejaVuSans-106\"/>\r\n      </defs>\r\n      <g transform=\"translate(392.188717 483.351562)rotate(-90)scale(0.1 -0.1)\">\r\n       <use xlink:href=\"#DejaVuSans-71\"/>\r\n       <use x=\"77.490234\" xlink:href=\"#DejaVuSans-117\"/>\r\n       <use x=\"140.869141\" xlink:href=\"#DejaVuSans-106\"/>\r\n       <use x=\"168.652344\" xlink:href=\"#DejaVuSans-97\"/>\r\n       <use x=\"229.931641\" xlink:href=\"#DejaVuSans-114\"/>\r\n       <use x=\"271.044922\" xlink:href=\"#DejaVuSans-97\"/>\r\n       <use x=\"332.324219\" xlink:href=\"#DejaVuSans-116\"/>\r\n      </g>\r\n     </g>\r\n    </g>\r\n    <g id=\"xtick_12\">\r\n     <g id=\"line2d_12\">\r\n      <g>\r\n       <use style=\"stroke:#000000;stroke-width:0.8;\" x=\"416.854431\" xlink:href=\"#m9de7c33357\" y=\"439.2\"/>\r\n      </g>\r\n     </g>\r\n     <g id=\"text_12\">\r\n      <!-- Haryana -->\r\n      <defs>\r\n       <path d=\"M 32.171875 -5.078125 \r\nQ 28.375 -14.84375 24.75 -17.8125 \r\nQ 21.140625 -20.796875 15.09375 -20.796875 \r\nL 7.90625 -20.796875 \r\nL 7.90625 -13.28125 \r\nL 13.1875 -13.28125 \r\nQ 16.890625 -13.28125 18.9375 -11.515625 \r\nQ 21 -9.765625 23.484375 -3.21875 \r\nL 25.09375 0.875 \r\nL 2.984375 54.6875 \r\nL 12.5 54.6875 \r\nL 29.59375 11.921875 \r\nL 46.6875 54.6875 \r\nL 56.203125 54.6875 \r\nz\r\n\" id=\"DejaVuSans-121\"/>\r\n      </defs>\r\n      <g transform=\"translate(419.613806 488.471875)rotate(-90)scale(0.1 -0.1)\">\r\n       <use xlink:href=\"#DejaVuSans-72\"/>\r\n       <use x=\"75.195312\" xlink:href=\"#DejaVuSans-97\"/>\r\n       <use x=\"136.474609\" xlink:href=\"#DejaVuSans-114\"/>\r\n       <use x=\"177.587891\" xlink:href=\"#DejaVuSans-121\"/>\r\n       <use x=\"236.767578\" xlink:href=\"#DejaVuSans-97\"/>\r\n       <use x=\"298.046875\" xlink:href=\"#DejaVuSans-110\"/>\r\n       <use x=\"361.425781\" xlink:href=\"#DejaVuSans-97\"/>\r\n      </g>\r\n     </g>\r\n    </g>\r\n    <g id=\"xtick_13\">\r\n     <g id=\"line2d_13\">\r\n      <g>\r\n       <use style=\"stroke:#000000;stroke-width:0.8;\" x=\"444.27952\" xlink:href=\"#m9de7c33357\" y=\"439.2\"/>\r\n      </g>\r\n     </g>\r\n     <g id=\"text_13\">\r\n      <!-- Himachal Pradesh -->\r\n      <g transform=\"translate(447.038895 536.603125)rotate(-90)scale(0.1 -0.1)\">\r\n       <use xlink:href=\"#DejaVuSans-72\"/>\r\n       <use x=\"75.195312\" xlink:href=\"#DejaVuSans-105\"/>\r\n       <use x=\"102.978516\" xlink:href=\"#DejaVuSans-109\"/>\r\n       <use x=\"200.390625\" xlink:href=\"#DejaVuSans-97\"/>\r\n       <use x=\"261.669922\" xlink:href=\"#DejaVuSans-99\"/>\r\n       <use x=\"316.650391\" xlink:href=\"#DejaVuSans-104\"/>\r\n       <use x=\"380.029297\" xlink:href=\"#DejaVuSans-97\"/>\r\n       <use x=\"441.308594\" xlink:href=\"#DejaVuSans-108\"/>\r\n       <use x=\"469.091797\" xlink:href=\"#DejaVuSans-32\"/>\r\n       <use x=\"500.878906\" xlink:href=\"#DejaVuSans-80\"/>\r\n       <use x=\"561.166016\" xlink:href=\"#DejaVuSans-114\"/>\r\n       <use x=\"602.279297\" xlink:href=\"#DejaVuSans-97\"/>\r\n       <use x=\"663.558594\" xlink:href=\"#DejaVuSans-100\"/>\r\n       <use x=\"727.035156\" xlink:href=\"#DejaVuSans-101\"/>\r\n       <use x=\"788.558594\" xlink:href=\"#DejaVuSans-115\"/>\r\n       <use x=\"840.658203\" xlink:href=\"#DejaVuSans-104\"/>\r\n      </g>\r\n     </g>\r\n    </g>\r\n    <g id=\"xtick_14\">\r\n     <g id=\"line2d_14\">\r\n      <g>\r\n       <use style=\"stroke:#000000;stroke-width:0.8;\" x=\"471.704609\" xlink:href=\"#m9de7c33357\" y=\"439.2\"/>\r\n      </g>\r\n     </g>\r\n     <g id=\"text_14\">\r\n      <!-- Jammu and Kashmir -->\r\n      <defs>\r\n       <path d=\"M 9.8125 72.90625 \r\nL 19.671875 72.90625 \r\nL 19.671875 5.078125 \r\nQ 19.671875 -8.109375 14.671875 -14.0625 \r\nQ 9.671875 -20.015625 -1.421875 -20.015625 \r\nL -5.171875 -20.015625 \r\nL -5.171875 -11.71875 \r\nL -2.09375 -11.71875 \r\nQ 4.4375 -11.71875 7.125 -8.046875 \r\nQ 9.8125 -4.390625 9.8125 5.078125 \r\nz\r\n\" id=\"DejaVuSans-74\"/>\r\n       <path d=\"M 9.8125 72.90625 \r\nL 19.671875 72.90625 \r\nL 19.671875 42.09375 \r\nL 52.390625 72.90625 \r\nL 65.09375 72.90625 \r\nL 28.90625 38.921875 \r\nL 67.671875 0 \r\nL 54.6875 0 \r\nL 19.671875 35.109375 \r\nL 19.671875 0 \r\nL 9.8125 0 \r\nz\r\n\" id=\"DejaVuSans-75\"/>\r\n      </defs>\r\n      <g transform=\"translate(474.463984 547.128125)rotate(-90)scale(0.1 -0.1)\">\r\n       <use xlink:href=\"#DejaVuSans-74\"/>\r\n       <use x=\"29.492188\" xlink:href=\"#DejaVuSans-97\"/>\r\n       <use x=\"90.771484\" xlink:href=\"#DejaVuSans-109\"/>\r\n       <use x=\"188.183594\" xlink:href=\"#DejaVuSans-109\"/>\r\n       <use x=\"285.595703\" xlink:href=\"#DejaVuSans-117\"/>\r\n       <use x=\"348.974609\" xlink:href=\"#DejaVuSans-32\"/>\r\n       <use x=\"380.761719\" xlink:href=\"#DejaVuSans-97\"/>\r\n       <use x=\"442.041016\" xlink:href=\"#DejaVuSans-110\"/>\r\n       <use x=\"505.419922\" xlink:href=\"#DejaVuSans-100\"/>\r\n       <use x=\"568.896484\" xlink:href=\"#DejaVuSans-32\"/>\r\n       <use x=\"600.683594\" xlink:href=\"#DejaVuSans-75\"/>\r\n       <use x=\"666.244141\" xlink:href=\"#DejaVuSans-97\"/>\r\n       <use x=\"727.523438\" xlink:href=\"#DejaVuSans-115\"/>\r\n       <use x=\"779.623047\" xlink:href=\"#DejaVuSans-104\"/>\r\n       <use x=\"843.001953\" xlink:href=\"#DejaVuSans-109\"/>\r\n       <use x=\"940.414062\" xlink:href=\"#DejaVuSans-105\"/>\r\n       <use x=\"968.197266\" xlink:href=\"#DejaVuSans-114\"/>\r\n      </g>\r\n     </g>\r\n    </g>\r\n    <g id=\"xtick_15\">\r\n     <g id=\"line2d_15\">\r\n      <g>\r\n       <use style=\"stroke:#000000;stroke-width:0.8;\" x=\"499.129698\" xlink:href=\"#m9de7c33357\" y=\"439.2\"/>\r\n      </g>\r\n     </g>\r\n     <g id=\"text_15\">\r\n      <!-- Jharkhand -->\r\n      <defs>\r\n       <path d=\"M 9.078125 75.984375 \r\nL 18.109375 75.984375 \r\nL 18.109375 31.109375 \r\nL 44.921875 54.6875 \r\nL 56.390625 54.6875 \r\nL 27.390625 29.109375 \r\nL 57.625 0 \r\nL 45.90625 0 \r\nL 18.109375 26.703125 \r\nL 18.109375 0 \r\nL 9.078125 0 \r\nz\r\n\" id=\"DejaVuSans-107\"/>\r\n      </defs>\r\n      <g transform=\"translate(501.889073 496.66875)rotate(-90)scale(0.1 -0.1)\">\r\n       <use xlink:href=\"#DejaVuSans-74\"/>\r\n       <use x=\"29.492188\" xlink:href=\"#DejaVuSans-104\"/>\r\n       <use x=\"92.871094\" xlink:href=\"#DejaVuSans-97\"/>\r\n       <use x=\"154.150391\" xlink:href=\"#DejaVuSans-114\"/>\r\n       <use x=\"195.263672\" xlink:href=\"#DejaVuSans-107\"/>\r\n       <use x=\"253.173828\" xlink:href=\"#DejaVuSans-104\"/>\r\n       <use x=\"316.552734\" xlink:href=\"#DejaVuSans-97\"/>\r\n       <use x=\"377.832031\" xlink:href=\"#DejaVuSans-110\"/>\r\n       <use x=\"441.210938\" xlink:href=\"#DejaVuSans-100\"/>\r\n      </g>\r\n     </g>\r\n    </g>\r\n    <g id=\"xtick_16\">\r\n     <g id=\"line2d_16\">\r\n      <g>\r\n       <use style=\"stroke:#000000;stroke-width:0.8;\" x=\"526.554787\" xlink:href=\"#m9de7c33357\" y=\"439.2\"/>\r\n      </g>\r\n     </g>\r\n     <g id=\"text_16\">\r\n      <!-- Karnataka -->\r\n      <g transform=\"translate(529.314162 497.425)rotate(-90)scale(0.1 -0.1)\">\r\n       <use xlink:href=\"#DejaVuSans-75\"/>\r\n       <use x=\"65.560547\" xlink:href=\"#DejaVuSans-97\"/>\r\n       <use x=\"126.839844\" xlink:href=\"#DejaVuSans-114\"/>\r\n       <use x=\"167.9375\" xlink:href=\"#DejaVuSans-110\"/>\r\n       <use x=\"231.316406\" xlink:href=\"#DejaVuSans-97\"/>\r\n       <use x=\"292.595703\" xlink:href=\"#DejaVuSans-116\"/>\r\n       <use x=\"331.804688\" xlink:href=\"#DejaVuSans-97\"/>\r\n       <use x=\"393.083984\" xlink:href=\"#DejaVuSans-107\"/>\r\n       <use x=\"450.978516\" xlink:href=\"#DejaVuSans-97\"/>\r\n      </g>\r\n     </g>\r\n    </g>\r\n    <g id=\"xtick_17\">\r\n     <g id=\"line2d_17\">\r\n      <g>\r\n       <use style=\"stroke:#000000;stroke-width:0.8;\" x=\"553.979876\" xlink:href=\"#m9de7c33357\" y=\"439.2\"/>\r\n      </g>\r\n     </g>\r\n     <g id=\"text_17\">\r\n      <!-- Kerala -->\r\n      <g transform=\"translate(556.739251 478.048437)rotate(-90)scale(0.1 -0.1)\">\r\n       <use xlink:href=\"#DejaVuSans-75\"/>\r\n       <use x=\"65.498047\" xlink:href=\"#DejaVuSans-101\"/>\r\n       <use x=\"127.021484\" xlink:href=\"#DejaVuSans-114\"/>\r\n       <use x=\"168.134766\" xlink:href=\"#DejaVuSans-97\"/>\r\n       <use x=\"229.414062\" xlink:href=\"#DejaVuSans-108\"/>\r\n       <use x=\"257.197266\" xlink:href=\"#DejaVuSans-97\"/>\r\n      </g>\r\n     </g>\r\n    </g>\r\n    <g id=\"xtick_18\">\r\n     <g id=\"line2d_18\">\r\n      <g>\r\n       <use style=\"stroke:#000000;stroke-width:0.8;\" x=\"581.404964\" xlink:href=\"#m9de7c33357\" y=\"439.2\"/>\r\n      </g>\r\n     </g>\r\n     <g id=\"text_18\">\r\n      <!-- Ladakh -->\r\n      <defs>\r\n       <path d=\"M 9.8125 72.90625 \r\nL 19.671875 72.90625 \r\nL 19.671875 8.296875 \r\nL 55.171875 8.296875 \r\nL 55.171875 0 \r\nL 9.8125 0 \r\nz\r\n\" id=\"DejaVuSans-76\"/>\r\n      </defs>\r\n      <g transform=\"translate(584.164339 482.504687)rotate(-90)scale(0.1 -0.1)\">\r\n       <use xlink:href=\"#DejaVuSans-76\"/>\r\n       <use x=\"55.712891\" xlink:href=\"#DejaVuSans-97\"/>\r\n       <use x=\"116.992188\" xlink:href=\"#DejaVuSans-100\"/>\r\n       <use x=\"180.46875\" xlink:href=\"#DejaVuSans-97\"/>\r\n       <use x=\"241.748047\" xlink:href=\"#DejaVuSans-107\"/>\r\n       <use x=\"299.658203\" xlink:href=\"#DejaVuSans-104\"/>\r\n      </g>\r\n     </g>\r\n    </g>\r\n    <g id=\"xtick_19\">\r\n     <g id=\"line2d_19\">\r\n      <g>\r\n       <use style=\"stroke:#000000;stroke-width:0.8;\" x=\"608.830053\" xlink:href=\"#m9de7c33357\" y=\"439.2\"/>\r\n      </g>\r\n     </g>\r\n     <g id=\"text_19\">\r\n      <!-- Lakshadweep -->\r\n      <defs>\r\n       <path d=\"M 4.203125 54.6875 \r\nL 13.1875 54.6875 \r\nL 24.421875 12.015625 \r\nL 35.59375 54.6875 \r\nL 46.1875 54.6875 \r\nL 57.421875 12.015625 \r\nL 68.609375 54.6875 \r\nL 77.59375 54.6875 \r\nL 63.28125 0 \r\nL 52.6875 0 \r\nL 40.921875 44.828125 \r\nL 29.109375 0 \r\nL 18.5 0 \r\nz\r\n\" id=\"DejaVuSans-119\"/>\r\n       <path d=\"M 18.109375 8.203125 \r\nL 18.109375 -20.796875 \r\nL 9.078125 -20.796875 \r\nL 9.078125 54.6875 \r\nL 18.109375 54.6875 \r\nL 18.109375 46.390625 \r\nQ 20.953125 51.265625 25.265625 53.625 \r\nQ 29.59375 56 35.59375 56 \r\nQ 45.5625 56 51.78125 48.09375 \r\nQ 58.015625 40.1875 58.015625 27.296875 \r\nQ 58.015625 14.40625 51.78125 6.484375 \r\nQ 45.5625 -1.421875 35.59375 -1.421875 \r\nQ 29.59375 -1.421875 25.265625 0.953125 \r\nQ 20.953125 3.328125 18.109375 8.203125 \r\nz\r\nM 48.6875 27.296875 \r\nQ 48.6875 37.203125 44.609375 42.84375 \r\nQ 40.53125 48.484375 33.40625 48.484375 \r\nQ 26.265625 48.484375 22.1875 42.84375 \r\nQ 18.109375 37.203125 18.109375 27.296875 \r\nQ 18.109375 17.390625 22.1875 11.75 \r\nQ 26.265625 6.109375 33.40625 6.109375 \r\nQ 40.53125 6.109375 44.609375 11.75 \r\nQ 48.6875 17.390625 48.6875 27.296875 \r\nz\r\n\" id=\"DejaVuSans-112\"/>\r\n      </defs>\r\n      <g transform=\"translate(611.589428 514.546875)rotate(-90)scale(0.1 -0.1)\">\r\n       <use xlink:href=\"#DejaVuSans-76\"/>\r\n       <use x=\"55.712891\" xlink:href=\"#DejaVuSans-97\"/>\r\n       <use x=\"116.992188\" xlink:href=\"#DejaVuSans-107\"/>\r\n       <use x=\"174.902344\" xlink:href=\"#DejaVuSans-115\"/>\r\n       <use x=\"227.001953\" xlink:href=\"#DejaVuSans-104\"/>\r\n       <use x=\"290.380859\" xlink:href=\"#DejaVuSans-97\"/>\r\n       <use x=\"351.660156\" xlink:href=\"#DejaVuSans-100\"/>\r\n       <use x=\"415.136719\" xlink:href=\"#DejaVuSans-119\"/>\r\n       <use x=\"496.923828\" xlink:href=\"#DejaVuSans-101\"/>\r\n       <use x=\"558.447266\" xlink:href=\"#DejaVuSans-101\"/>\r\n       <use x=\"619.970703\" xlink:href=\"#DejaVuSans-112\"/>\r\n      </g>\r\n     </g>\r\n    </g>\r\n    <g id=\"xtick_20\">\r\n     <g id=\"line2d_20\">\r\n      <g>\r\n       <use style=\"stroke:#000000;stroke-width:0.8;\" x=\"636.255142\" xlink:href=\"#m9de7c33357\" y=\"439.2\"/>\r\n      </g>\r\n     </g>\r\n     <g id=\"text_20\">\r\n      <!-- Madhya Pradesh -->\r\n      <defs>\r\n       <path d=\"M 9.8125 72.90625 \r\nL 24.515625 72.90625 \r\nL 43.109375 23.296875 \r\nL 61.8125 72.90625 \r\nL 76.515625 72.90625 \r\nL 76.515625 0 \r\nL 66.890625 0 \r\nL 66.890625 64.015625 \r\nL 48.09375 14.015625 \r\nL 38.1875 14.015625 \r\nL 19.390625 64.015625 \r\nL 19.390625 0 \r\nL 9.8125 0 \r\nz\r\n\" id=\"DejaVuSans-77\"/>\r\n      </defs>\r\n      <g transform=\"translate(639.014517 529.182812)rotate(-90)scale(0.1 -0.1)\">\r\n       <use xlink:href=\"#DejaVuSans-77\"/>\r\n       <use x=\"86.279297\" xlink:href=\"#DejaVuSans-97\"/>\r\n       <use x=\"147.558594\" xlink:href=\"#DejaVuSans-100\"/>\r\n       <use x=\"211.035156\" xlink:href=\"#DejaVuSans-104\"/>\r\n       <use x=\"274.414062\" xlink:href=\"#DejaVuSans-121\"/>\r\n       <use x=\"333.59375\" xlink:href=\"#DejaVuSans-97\"/>\r\n       <use x=\"394.873047\" xlink:href=\"#DejaVuSans-32\"/>\r\n       <use x=\"426.660156\" xlink:href=\"#DejaVuSans-80\"/>\r\n       <use x=\"486.947266\" xlink:href=\"#DejaVuSans-114\"/>\r\n       <use x=\"528.060547\" xlink:href=\"#DejaVuSans-97\"/>\r\n       <use x=\"589.339844\" xlink:href=\"#DejaVuSans-100\"/>\r\n       <use x=\"652.816406\" xlink:href=\"#DejaVuSans-101\"/>\r\n       <use x=\"714.339844\" xlink:href=\"#DejaVuSans-115\"/>\r\n       <use x=\"766.439453\" xlink:href=\"#DejaVuSans-104\"/>\r\n      </g>\r\n     </g>\r\n    </g>\r\n    <g id=\"xtick_21\">\r\n     <g id=\"line2d_21\">\r\n      <g>\r\n       <use style=\"stroke:#000000;stroke-width:0.8;\" x=\"663.680231\" xlink:href=\"#m9de7c33357\" y=\"439.2\"/>\r\n      </g>\r\n     </g>\r\n     <g id=\"text_21\">\r\n      <!-- Maharashtra -->\r\n      <g transform=\"translate(666.439606 509.367188)rotate(-90)scale(0.1 -0.1)\">\r\n       <use xlink:href=\"#DejaVuSans-77\"/>\r\n       <use x=\"86.279297\" xlink:href=\"#DejaVuSans-97\"/>\r\n       <use x=\"147.558594\" xlink:href=\"#DejaVuSans-104\"/>\r\n       <use x=\"210.9375\" xlink:href=\"#DejaVuSans-97\"/>\r\n       <use x=\"272.216797\" xlink:href=\"#DejaVuSans-114\"/>\r\n       <use x=\"313.330078\" xlink:href=\"#DejaVuSans-97\"/>\r\n       <use x=\"374.609375\" xlink:href=\"#DejaVuSans-115\"/>\r\n       <use x=\"426.708984\" xlink:href=\"#DejaVuSans-104\"/>\r\n       <use x=\"490.087891\" xlink:href=\"#DejaVuSans-116\"/>\r\n       <use x=\"529.296875\" xlink:href=\"#DejaVuSans-114\"/>\r\n       <use x=\"570.410156\" xlink:href=\"#DejaVuSans-97\"/>\r\n      </g>\r\n     </g>\r\n    </g>\r\n    <g id=\"xtick_22\">\r\n     <g id=\"line2d_22\">\r\n      <g>\r\n       <use style=\"stroke:#000000;stroke-width:0.8;\" x=\"691.10532\" xlink:href=\"#m9de7c33357\" y=\"439.2\"/>\r\n      </g>\r\n     </g>\r\n     <g id=\"text_22\">\r\n      <!-- Manipur -->\r\n      <g transform=\"translate(693.864695 486.86875)rotate(-90)scale(0.1 -0.1)\">\r\n       <use xlink:href=\"#DejaVuSans-77\"/>\r\n       <use x=\"86.279297\" xlink:href=\"#DejaVuSans-97\"/>\r\n       <use x=\"147.558594\" xlink:href=\"#DejaVuSans-110\"/>\r\n       <use x=\"210.9375\" xlink:href=\"#DejaVuSans-105\"/>\r\n       <use x=\"238.720703\" xlink:href=\"#DejaVuSans-112\"/>\r\n       <use x=\"302.197266\" xlink:href=\"#DejaVuSans-117\"/>\r\n       <use x=\"365.576172\" xlink:href=\"#DejaVuSans-114\"/>\r\n      </g>\r\n     </g>\r\n    </g>\r\n    <g id=\"xtick_23\">\r\n     <g id=\"line2d_23\">\r\n      <g>\r\n       <use style=\"stroke:#000000;stroke-width:0.8;\" x=\"718.530409\" xlink:href=\"#m9de7c33357\" y=\"439.2\"/>\r\n      </g>\r\n     </g>\r\n     <g id=\"text_23\">\r\n      <!-- Meghalaya -->\r\n      <g transform=\"translate(721.289784 500.748438)rotate(-90)scale(0.1 -0.1)\">\r\n       <use xlink:href=\"#DejaVuSans-77\"/>\r\n       <use x=\"86.279297\" xlink:href=\"#DejaVuSans-101\"/>\r\n       <use x=\"147.802734\" xlink:href=\"#DejaVuSans-103\"/>\r\n       <use x=\"211.279297\" xlink:href=\"#DejaVuSans-104\"/>\r\n       <use x=\"274.658203\" xlink:href=\"#DejaVuSans-97\"/>\r\n       <use x=\"335.9375\" xlink:href=\"#DejaVuSans-108\"/>\r\n       <use x=\"363.720703\" xlink:href=\"#DejaVuSans-97\"/>\r\n       <use x=\"425\" xlink:href=\"#DejaVuSans-121\"/>\r\n       <use x=\"484.179688\" xlink:href=\"#DejaVuSans-97\"/>\r\n      </g>\r\n     </g>\r\n    </g>\r\n    <g id=\"xtick_24\">\r\n     <g id=\"line2d_24\">\r\n      <g>\r\n       <use style=\"stroke:#000000;stroke-width:0.8;\" x=\"745.955498\" xlink:href=\"#m9de7c33357\" y=\"439.2\"/>\r\n      </g>\r\n     </g>\r\n     <g id=\"text_24\">\r\n      <!-- Mizoram -->\r\n      <defs>\r\n       <path d=\"M 5.515625 54.6875 \r\nL 48.1875 54.6875 \r\nL 48.1875 46.484375 \r\nL 14.40625 7.171875 \r\nL 48.1875 7.171875 \r\nL 48.1875 0 \r\nL 4.296875 0 \r\nL 4.296875 8.203125 \r\nL 38.09375 47.515625 \r\nL 5.515625 47.515625 \r\nz\r\n\" id=\"DejaVuSans-122\"/>\r\n      </defs>\r\n      <g transform=\"translate(748.714873 488.953125)rotate(-90)scale(0.1 -0.1)\">\r\n       <use xlink:href=\"#DejaVuSans-77\"/>\r\n       <use x=\"86.279297\" xlink:href=\"#DejaVuSans-105\"/>\r\n       <use x=\"114.0625\" xlink:href=\"#DejaVuSans-122\"/>\r\n       <use x=\"166.552734\" xlink:href=\"#DejaVuSans-111\"/>\r\n       <use x=\"227.734375\" xlink:href=\"#DejaVuSans-114\"/>\r\n       <use x=\"268.847656\" xlink:href=\"#DejaVuSans-97\"/>\r\n       <use x=\"330.126953\" xlink:href=\"#DejaVuSans-109\"/>\r\n      </g>\r\n     </g>\r\n    </g>\r\n    <g id=\"xtick_25\">\r\n     <g id=\"line2d_25\">\r\n      <g>\r\n       <use style=\"stroke:#000000;stroke-width:0.8;\" x=\"773.380587\" xlink:href=\"#m9de7c33357\" y=\"439.2\"/>\r\n      </g>\r\n     </g>\r\n     <g id=\"text_25\">\r\n      <!-- Nagaland -->\r\n      <g transform=\"translate(776.139962 493.878125)rotate(-90)scale(0.1 -0.1)\">\r\n       <use xlink:href=\"#DejaVuSans-78\"/>\r\n       <use x=\"74.804688\" xlink:href=\"#DejaVuSans-97\"/>\r\n       <use x=\"136.083984\" xlink:href=\"#DejaVuSans-103\"/>\r\n       <use x=\"199.560547\" xlink:href=\"#DejaVuSans-97\"/>\r\n       <use x=\"260.839844\" xlink:href=\"#DejaVuSans-108\"/>\r\n       <use x=\"288.623047\" xlink:href=\"#DejaVuSans-97\"/>\r\n       <use x=\"349.902344\" xlink:href=\"#DejaVuSans-110\"/>\r\n       <use x=\"413.28125\" xlink:href=\"#DejaVuSans-100\"/>\r\n      </g>\r\n     </g>\r\n    </g>\r\n    <g id=\"xtick_26\">\r\n     <g id=\"line2d_26\">\r\n      <g>\r\n       <use style=\"stroke:#000000;stroke-width:0.8;\" x=\"800.805675\" xlink:href=\"#m9de7c33357\" y=\"439.2\"/>\r\n      </g>\r\n     </g>\r\n     <g id=\"text_26\">\r\n      <!-- Odisha -->\r\n      <defs>\r\n       <path d=\"M 39.40625 66.21875 \r\nQ 28.65625 66.21875 22.328125 58.203125 \r\nQ 16.015625 50.203125 16.015625 36.375 \r\nQ 16.015625 22.609375 22.328125 14.59375 \r\nQ 28.65625 6.59375 39.40625 6.59375 \r\nQ 50.140625 6.59375 56.421875 14.59375 \r\nQ 62.703125 22.609375 62.703125 36.375 \r\nQ 62.703125 50.203125 56.421875 58.203125 \r\nQ 50.140625 66.21875 39.40625 66.21875 \r\nz\r\nM 39.40625 74.21875 \r\nQ 54.734375 74.21875 63.90625 63.9375 \r\nQ 73.09375 53.65625 73.09375 36.375 \r\nQ 73.09375 19.140625 63.90625 8.859375 \r\nQ 54.734375 -1.421875 39.40625 -1.421875 \r\nQ 24.03125 -1.421875 14.8125 8.828125 \r\nQ 5.609375 19.09375 5.609375 36.375 \r\nQ 5.609375 53.65625 14.8125 63.9375 \r\nQ 24.03125 74.21875 39.40625 74.21875 \r\nz\r\n\" id=\"DejaVuSans-79\"/>\r\n      </defs>\r\n      <g transform=\"translate(803.56505 480.873438)rotate(-90)scale(0.1 -0.1)\">\r\n       <use xlink:href=\"#DejaVuSans-79\"/>\r\n       <use x=\"78.710938\" xlink:href=\"#DejaVuSans-100\"/>\r\n       <use x=\"142.1875\" xlink:href=\"#DejaVuSans-105\"/>\r\n       <use x=\"169.970703\" xlink:href=\"#DejaVuSans-115\"/>\r\n       <use x=\"222.070312\" xlink:href=\"#DejaVuSans-104\"/>\r\n       <use x=\"285.449219\" xlink:href=\"#DejaVuSans-97\"/>\r\n      </g>\r\n     </g>\r\n    </g>\r\n    <g id=\"xtick_27\">\r\n     <g id=\"line2d_27\">\r\n      <g>\r\n       <use style=\"stroke:#000000;stroke-width:0.8;\" x=\"828.230764\" xlink:href=\"#m9de7c33357\" y=\"439.2\"/>\r\n      </g>\r\n     </g>\r\n     <g id=\"text_27\">\r\n      <!-- Puducherry -->\r\n      <g transform=\"translate(830.990139 503.379687)rotate(-90)scale(0.1 -0.1)\">\r\n       <use xlink:href=\"#DejaVuSans-80\"/>\r\n       <use x=\"60.287109\" xlink:href=\"#DejaVuSans-117\"/>\r\n       <use x=\"123.666016\" xlink:href=\"#DejaVuSans-100\"/>\r\n       <use x=\"187.142578\" xlink:href=\"#DejaVuSans-117\"/>\r\n       <use x=\"250.521484\" xlink:href=\"#DejaVuSans-99\"/>\r\n       <use x=\"305.501953\" xlink:href=\"#DejaVuSans-104\"/>\r\n       <use x=\"368.880859\" xlink:href=\"#DejaVuSans-101\"/>\r\n       <use x=\"430.404297\" xlink:href=\"#DejaVuSans-114\"/>\r\n       <use x=\"471.501953\" xlink:href=\"#DejaVuSans-114\"/>\r\n       <use x=\"512.615234\" xlink:href=\"#DejaVuSans-121\"/>\r\n      </g>\r\n     </g>\r\n    </g>\r\n    <g id=\"xtick_28\">\r\n     <g id=\"line2d_28\">\r\n      <g>\r\n       <use style=\"stroke:#000000;stroke-width:0.8;\" x=\"855.655853\" xlink:href=\"#m9de7c33357\" y=\"439.2\"/>\r\n      </g>\r\n     </g>\r\n     <g id=\"text_28\">\r\n      <!-- Punjab -->\r\n      <g transform=\"translate(858.415228 480.157812)rotate(-90)scale(0.1 -0.1)\">\r\n       <use xlink:href=\"#DejaVuSans-80\"/>\r\n       <use x=\"60.287109\" xlink:href=\"#DejaVuSans-117\"/>\r\n       <use x=\"123.666016\" xlink:href=\"#DejaVuSans-110\"/>\r\n       <use x=\"187.044922\" xlink:href=\"#DejaVuSans-106\"/>\r\n       <use x=\"214.828125\" xlink:href=\"#DejaVuSans-97\"/>\r\n       <use x=\"276.107422\" xlink:href=\"#DejaVuSans-98\"/>\r\n      </g>\r\n     </g>\r\n    </g>\r\n    <g id=\"xtick_29\">\r\n     <g id=\"line2d_29\">\r\n      <g>\r\n       <use style=\"stroke:#000000;stroke-width:0.8;\" x=\"883.080942\" xlink:href=\"#m9de7c33357\" y=\"439.2\"/>\r\n      </g>\r\n     </g>\r\n     <g id=\"text_29\">\r\n      <!-- Rajasthan -->\r\n      <defs>\r\n       <path d=\"M 44.390625 34.1875 \r\nQ 47.5625 33.109375 50.5625 29.59375 \r\nQ 53.5625 26.078125 56.59375 19.921875 \r\nL 66.609375 0 \r\nL 56 0 \r\nL 46.6875 18.703125 \r\nQ 43.0625 26.03125 39.671875 28.421875 \r\nQ 36.28125 30.8125 30.421875 30.8125 \r\nL 19.671875 30.8125 \r\nL 19.671875 0 \r\nL 9.8125 0 \r\nL 9.8125 72.90625 \r\nL 32.078125 72.90625 \r\nQ 44.578125 72.90625 50.734375 67.671875 \r\nQ 56.890625 62.453125 56.890625 51.90625 \r\nQ 56.890625 45.015625 53.6875 40.46875 \r\nQ 50.484375 35.9375 44.390625 34.1875 \r\nz\r\nM 19.671875 64.796875 \r\nL 19.671875 38.921875 \r\nL 32.078125 38.921875 \r\nQ 39.203125 38.921875 42.84375 42.21875 \r\nQ 46.484375 45.515625 46.484375 51.90625 \r\nQ 46.484375 58.296875 42.84375 61.546875 \r\nQ 39.203125 64.796875 32.078125 64.796875 \r\nz\r\n\" id=\"DejaVuSans-82\"/>\r\n      </defs>\r\n      <g transform=\"translate(885.840317 496.1125)rotate(-90)scale(0.1 -0.1)\">\r\n       <use xlink:href=\"#DejaVuSans-82\"/>\r\n       <use x=\"69.451172\" xlink:href=\"#DejaVuSans-97\"/>\r\n       <use x=\"130.730469\" xlink:href=\"#DejaVuSans-106\"/>\r\n       <use x=\"158.513672\" xlink:href=\"#DejaVuSans-97\"/>\r\n       <use x=\"219.792969\" xlink:href=\"#DejaVuSans-115\"/>\r\n       <use x=\"271.892578\" xlink:href=\"#DejaVuSans-116\"/>\r\n       <use x=\"311.101562\" xlink:href=\"#DejaVuSans-104\"/>\r\n       <use x=\"374.480469\" xlink:href=\"#DejaVuSans-97\"/>\r\n       <use x=\"435.759766\" xlink:href=\"#DejaVuSans-110\"/>\r\n      </g>\r\n     </g>\r\n    </g>\r\n    <g id=\"xtick_30\">\r\n     <g id=\"line2d_30\">\r\n      <g>\r\n       <use style=\"stroke:#000000;stroke-width:0.8;\" x=\"910.506031\" xlink:href=\"#m9de7c33357\" y=\"439.2\"/>\r\n      </g>\r\n     </g>\r\n     <g id=\"text_30\">\r\n      <!-- Sikkim -->\r\n      <defs>\r\n       <path d=\"M 53.515625 70.515625 \r\nL 53.515625 60.890625 \r\nQ 47.90625 63.578125 42.921875 64.890625 \r\nQ 37.9375 66.21875 33.296875 66.21875 \r\nQ 25.25 66.21875 20.875 63.09375 \r\nQ 16.5 59.96875 16.5 54.203125 \r\nQ 16.5 49.359375 19.40625 46.890625 \r\nQ 22.3125 44.4375 30.421875 42.921875 \r\nL 36.375 41.703125 \r\nQ 47.40625 39.59375 52.65625 34.296875 \r\nQ 57.90625 29 57.90625 20.125 \r\nQ 57.90625 9.515625 50.796875 4.046875 \r\nQ 43.703125 -1.421875 29.984375 -1.421875 \r\nQ 24.8125 -1.421875 18.96875 -0.25 \r\nQ 13.140625 0.921875 6.890625 3.21875 \r\nL 6.890625 13.375 \r\nQ 12.890625 10.015625 18.65625 8.296875 \r\nQ 24.421875 6.59375 29.984375 6.59375 \r\nQ 38.421875 6.59375 43.015625 9.90625 \r\nQ 47.609375 13.234375 47.609375 19.390625 \r\nQ 47.609375 24.75 44.3125 27.78125 \r\nQ 41.015625 30.8125 33.5 32.328125 \r\nL 27.484375 33.5 \r\nQ 16.453125 35.6875 11.515625 40.375 \r\nQ 6.59375 45.0625 6.59375 53.421875 \r\nQ 6.59375 63.09375 13.40625 68.65625 \r\nQ 20.21875 74.21875 32.171875 74.21875 \r\nQ 37.3125 74.21875 42.625 73.28125 \r\nQ 47.953125 72.359375 53.515625 70.515625 \r\nz\r\n\" id=\"DejaVuSans-83\"/>\r\n      </defs>\r\n      <g transform=\"translate(913.265406 479.426562)rotate(-90)scale(0.1 -0.1)\">\r\n       <use xlink:href=\"#DejaVuSans-83\"/>\r\n       <use x=\"63.476562\" xlink:href=\"#DejaVuSans-105\"/>\r\n       <use x=\"91.259766\" xlink:href=\"#DejaVuSans-107\"/>\r\n       <use x=\"149.169922\" xlink:href=\"#DejaVuSans-107\"/>\r\n       <use x=\"207.080078\" xlink:href=\"#DejaVuSans-105\"/>\r\n       <use x=\"234.863281\" xlink:href=\"#DejaVuSans-109\"/>\r\n      </g>\r\n     </g>\r\n    </g>\r\n    <g id=\"xtick_31\">\r\n     <g id=\"line2d_31\">\r\n      <g>\r\n       <use style=\"stroke:#000000;stroke-width:0.8;\" x=\"937.93112\" xlink:href=\"#m9de7c33357\" y=\"439.2\"/>\r\n      </g>\r\n     </g>\r\n     <g id=\"text_31\">\r\n      <!-- Tamil Nadu -->\r\n      <defs>\r\n       <path d=\"M -0.296875 72.90625 \r\nL 61.375 72.90625 \r\nL 61.375 64.59375 \r\nL 35.5 64.59375 \r\nL 35.5 0 \r\nL 25.59375 0 \r\nL 25.59375 64.59375 \r\nL -0.296875 64.59375 \r\nz\r\n\" id=\"DejaVuSans-84\"/>\r\n      </defs>\r\n      <g transform=\"translate(940.690495 503.18125)rotate(-90)scale(0.1 -0.1)\">\r\n       <use xlink:href=\"#DejaVuSans-84\"/>\r\n       <use x=\"60.833984\" xlink:href=\"#DejaVuSans-97\"/>\r\n       <use x=\"122.113281\" xlink:href=\"#DejaVuSans-109\"/>\r\n       <use x=\"219.525391\" xlink:href=\"#DejaVuSans-105\"/>\r\n       <use x=\"247.308594\" xlink:href=\"#DejaVuSans-108\"/>\r\n       <use x=\"275.091797\" xlink:href=\"#DejaVuSans-32\"/>\r\n       <use x=\"306.878906\" xlink:href=\"#DejaVuSans-78\"/>\r\n       <use x=\"381.683594\" xlink:href=\"#DejaVuSans-97\"/>\r\n       <use x=\"442.962891\" xlink:href=\"#DejaVuSans-100\"/>\r\n       <use x=\"506.439453\" xlink:href=\"#DejaVuSans-117\"/>\r\n      </g>\r\n     </g>\r\n    </g>\r\n    <g id=\"xtick_32\">\r\n     <g id=\"line2d_32\">\r\n      <g>\r\n       <use style=\"stroke:#000000;stroke-width:0.8;\" x=\"965.356209\" xlink:href=\"#m9de7c33357\" y=\"439.2\"/>\r\n      </g>\r\n     </g>\r\n     <g id=\"text_32\">\r\n      <!-- Telangana -->\r\n      <g transform=\"translate(968.115584 498.620312)rotate(-90)scale(0.1 -0.1)\">\r\n       <use xlink:href=\"#DejaVuSans-84\"/>\r\n       <use x=\"60.818359\" xlink:href=\"#DejaVuSans-101\"/>\r\n       <use x=\"122.341797\" xlink:href=\"#DejaVuSans-108\"/>\r\n       <use x=\"150.125\" xlink:href=\"#DejaVuSans-97\"/>\r\n       <use x=\"211.404297\" xlink:href=\"#DejaVuSans-110\"/>\r\n       <use x=\"274.783203\" xlink:href=\"#DejaVuSans-103\"/>\r\n       <use x=\"338.259766\" xlink:href=\"#DejaVuSans-97\"/>\r\n       <use x=\"399.539062\" xlink:href=\"#DejaVuSans-110\"/>\r\n       <use x=\"462.917969\" xlink:href=\"#DejaVuSans-97\"/>\r\n      </g>\r\n     </g>\r\n    </g>\r\n    <g id=\"xtick_33\">\r\n     <g id=\"line2d_33\">\r\n      <g>\r\n       <use style=\"stroke:#000000;stroke-width:0.8;\" x=\"992.781298\" xlink:href=\"#m9de7c33357\" y=\"439.2\"/>\r\n      </g>\r\n     </g>\r\n     <g id=\"text_33\">\r\n      <!-- Tripura -->\r\n      <g transform=\"translate(995.540673 482.1)rotate(-90)scale(0.1 -0.1)\">\r\n       <use xlink:href=\"#DejaVuSans-84\"/>\r\n       <use x=\"60.865234\" xlink:href=\"#DejaVuSans-114\"/>\r\n       <use x=\"101.978516\" xlink:href=\"#DejaVuSans-105\"/>\r\n       <use x=\"129.761719\" xlink:href=\"#DejaVuSans-112\"/>\r\n       <use x=\"193.238281\" xlink:href=\"#DejaVuSans-117\"/>\r\n       <use x=\"256.617188\" xlink:href=\"#DejaVuSans-114\"/>\r\n       <use x=\"297.730469\" xlink:href=\"#DejaVuSans-97\"/>\r\n      </g>\r\n     </g>\r\n    </g>\r\n    <g id=\"xtick_34\">\r\n     <g id=\"line2d_34\">\r\n      <g>\r\n       <use style=\"stroke:#000000;stroke-width:0.8;\" x=\"1020.206386\" xlink:href=\"#m9de7c33357\" y=\"439.2\"/>\r\n      </g>\r\n     </g>\r\n     <g id=\"text_34\">\r\n      <!-- Uttarakhand -->\r\n      <defs>\r\n       <path d=\"M 8.6875 72.90625 \r\nL 18.609375 72.90625 \r\nL 18.609375 28.609375 \r\nQ 18.609375 16.890625 22.84375 11.734375 \r\nQ 27.09375 6.59375 36.625 6.59375 \r\nQ 46.09375 6.59375 50.34375 11.734375 \r\nQ 54.59375 16.890625 54.59375 28.609375 \r\nL 54.59375 72.90625 \r\nL 64.5 72.90625 \r\nL 64.5 27.390625 \r\nQ 64.5 13.140625 57.4375 5.859375 \r\nQ 50.390625 -1.421875 36.625 -1.421875 \r\nQ 22.796875 -1.421875 15.734375 5.859375 \r\nQ 8.6875 13.140625 8.6875 27.390625 \r\nz\r\n\" id=\"DejaVuSans-85\"/>\r\n      </defs>\r\n      <g transform=\"translate(1022.965761 508.66875)rotate(-90)scale(0.1 -0.1)\">\r\n       <use xlink:href=\"#DejaVuSans-85\"/>\r\n       <use x=\"73.193359\" xlink:href=\"#DejaVuSans-116\"/>\r\n       <use x=\"112.402344\" xlink:href=\"#DejaVuSans-116\"/>\r\n       <use x=\"151.611328\" xlink:href=\"#DejaVuSans-97\"/>\r\n       <use x=\"212.890625\" xlink:href=\"#DejaVuSans-114\"/>\r\n       <use x=\"254.003906\" xlink:href=\"#DejaVuSans-97\"/>\r\n       <use x=\"315.283203\" xlink:href=\"#DejaVuSans-107\"/>\r\n       <use x=\"373.193359\" xlink:href=\"#DejaVuSans-104\"/>\r\n       <use x=\"436.572266\" xlink:href=\"#DejaVuSans-97\"/>\r\n       <use x=\"497.851562\" xlink:href=\"#DejaVuSans-110\"/>\r\n       <use x=\"561.230469\" xlink:href=\"#DejaVuSans-100\"/>\r\n      </g>\r\n     </g>\r\n    </g>\r\n    <g id=\"xtick_35\">\r\n     <g id=\"line2d_35\">\r\n      <g>\r\n       <use style=\"stroke:#000000;stroke-width:0.8;\" x=\"1047.631475\" xlink:href=\"#m9de7c33357\" y=\"439.2\"/>\r\n      </g>\r\n     </g>\r\n     <g id=\"text_35\">\r\n      <!-- Uttar Pradesh -->\r\n      <g transform=\"translate(1050.39085 515.092188)rotate(-90)scale(0.1 -0.1)\">\r\n       <use xlink:href=\"#DejaVuSans-85\"/>\r\n       <use x=\"73.193359\" xlink:href=\"#DejaVuSans-116\"/>\r\n       <use x=\"112.402344\" xlink:href=\"#DejaVuSans-116\"/>\r\n       <use x=\"151.611328\" xlink:href=\"#DejaVuSans-97\"/>\r\n       <use x=\"212.890625\" xlink:href=\"#DejaVuSans-114\"/>\r\n       <use x=\"254.003906\" xlink:href=\"#DejaVuSans-32\"/>\r\n       <use x=\"285.791016\" xlink:href=\"#DejaVuSans-80\"/>\r\n       <use x=\"346.078125\" xlink:href=\"#DejaVuSans-114\"/>\r\n       <use x=\"387.191406\" xlink:href=\"#DejaVuSans-97\"/>\r\n       <use x=\"448.470703\" xlink:href=\"#DejaVuSans-100\"/>\r\n       <use x=\"511.947266\" xlink:href=\"#DejaVuSans-101\"/>\r\n       <use x=\"573.470703\" xlink:href=\"#DejaVuSans-115\"/>\r\n       <use x=\"625.570312\" xlink:href=\"#DejaVuSans-104\"/>\r\n      </g>\r\n     </g>\r\n    </g>\r\n    <g id=\"xtick_36\">\r\n     <g id=\"line2d_36\">\r\n      <g>\r\n       <use style=\"stroke:#000000;stroke-width:0.8;\" x=\"1075.056564\" xlink:href=\"#m9de7c33357\" y=\"439.2\"/>\r\n      </g>\r\n     </g>\r\n     <g id=\"text_36\">\r\n      <!-- West Bengal -->\r\n      <defs>\r\n       <path d=\"M 3.328125 72.90625 \r\nL 13.28125 72.90625 \r\nL 28.609375 11.28125 \r\nL 43.890625 72.90625 \r\nL 54.984375 72.90625 \r\nL 70.3125 11.28125 \r\nL 85.59375 72.90625 \r\nL 95.609375 72.90625 \r\nL 77.296875 0 \r\nL 64.890625 0 \r\nL 49.515625 63.28125 \r\nL 33.984375 0 \r\nL 21.578125 0 \r\nz\r\n\" id=\"DejaVuSans-87\"/>\r\n      </defs>\r\n      <g transform=\"translate(1077.815939 509.146875)rotate(-90)scale(0.1 -0.1)\">\r\n       <use xlink:href=\"#DejaVuSans-87\"/>\r\n       <use x=\"98.798828\" xlink:href=\"#DejaVuSans-101\"/>\r\n       <use x=\"160.322266\" xlink:href=\"#DejaVuSans-115\"/>\r\n       <use x=\"212.421875\" xlink:href=\"#DejaVuSans-116\"/>\r\n       <use x=\"251.630859\" xlink:href=\"#DejaVuSans-32\"/>\r\n       <use x=\"283.417969\" xlink:href=\"#DejaVuSans-66\"/>\r\n       <use x=\"352.021484\" xlink:href=\"#DejaVuSans-101\"/>\r\n       <use x=\"413.544922\" xlink:href=\"#DejaVuSans-110\"/>\r\n       <use x=\"476.923828\" xlink:href=\"#DejaVuSans-103\"/>\r\n       <use x=\"540.400391\" xlink:href=\"#DejaVuSans-97\"/>\r\n       <use x=\"601.679688\" xlink:href=\"#DejaVuSans-108\"/>\r\n      </g>\r\n     </g>\r\n    </g>\r\n   </g>\r\n   <g id=\"matplotlib.axis_2\">\r\n    <g id=\"ytick_1\">\r\n     <g id=\"line2d_37\">\r\n      <defs>\r\n       <path d=\"M 0 0 \r\nL -3.5 0 \r\n\" id=\"m2317e5684b\" style=\"stroke:#000000;stroke-width:0.8;\"/>\r\n      </defs>\r\n      <g>\r\n       <use style=\"stroke:#000000;stroke-width:0.8;\" x=\"52.375\" xlink:href=\"#m2317e5684b\" y=\"439.2\"/>\r\n      </g>\r\n     </g>\r\n     <g id=\"text_37\">\r\n      <!-- 0 -->\r\n      <defs>\r\n       <path d=\"M 31.78125 66.40625 \r\nQ 24.171875 66.40625 20.328125 58.90625 \r\nQ 16.5 51.421875 16.5 36.375 \r\nQ 16.5 21.390625 20.328125 13.890625 \r\nQ 24.171875 6.390625 31.78125 6.390625 \r\nQ 39.453125 6.390625 43.28125 13.890625 \r\nQ 47.125 21.390625 47.125 36.375 \r\nQ 47.125 51.421875 43.28125 58.90625 \r\nQ 39.453125 66.40625 31.78125 66.40625 \r\nz\r\nM 31.78125 74.21875 \r\nQ 44.046875 74.21875 50.515625 64.515625 \r\nQ 56.984375 54.828125 56.984375 36.375 \r\nQ 56.984375 17.96875 50.515625 8.265625 \r\nQ 44.046875 -1.421875 31.78125 -1.421875 \r\nQ 19.53125 -1.421875 13.0625 8.265625 \r\nQ 6.59375 17.96875 6.59375 36.375 \r\nQ 6.59375 54.828125 13.0625 64.515625 \r\nQ 19.53125 74.21875 31.78125 74.21875 \r\nz\r\n\" id=\"DejaVuSans-48\"/>\r\n      </defs>\r\n      <g transform=\"translate(39.0125 442.999219)scale(0.1 -0.1)\">\r\n       <use xlink:href=\"#DejaVuSans-48\"/>\r\n      </g>\r\n     </g>\r\n    </g>\r\n    <g id=\"ytick_2\">\r\n     <g id=\"line2d_38\">\r\n      <g>\r\n       <use style=\"stroke:#000000;stroke-width:0.8;\" x=\"52.375\" xlink:href=\"#m2317e5684b\" y=\"358.346048\"/>\r\n      </g>\r\n     </g>\r\n     <g id=\"text_38\">\r\n      <!-- 50000 -->\r\n      <defs>\r\n       <path d=\"M 10.796875 72.90625 \r\nL 49.515625 72.90625 \r\nL 49.515625 64.59375 \r\nL 19.828125 64.59375 \r\nL 19.828125 46.734375 \r\nQ 21.96875 47.46875 24.109375 47.828125 \r\nQ 26.265625 48.1875 28.421875 48.1875 \r\nQ 40.625 48.1875 47.75 41.5 \r\nQ 54.890625 34.8125 54.890625 23.390625 \r\nQ 54.890625 11.625 47.5625 5.09375 \r\nQ 40.234375 -1.421875 26.90625 -1.421875 \r\nQ 22.3125 -1.421875 17.546875 -0.640625 \r\nQ 12.796875 0.140625 7.71875 1.703125 \r\nL 7.71875 11.625 \r\nQ 12.109375 9.234375 16.796875 8.0625 \r\nQ 21.484375 6.890625 26.703125 6.890625 \r\nQ 35.15625 6.890625 40.078125 11.328125 \r\nQ 45.015625 15.765625 45.015625 23.390625 \r\nQ 45.015625 31 40.078125 35.4375 \r\nQ 35.15625 39.890625 26.703125 39.890625 \r\nQ 22.75 39.890625 18.8125 39.015625 \r\nQ 14.890625 38.140625 10.796875 36.28125 \r\nz\r\n\" id=\"DejaVuSans-53\"/>\r\n      </defs>\r\n      <g transform=\"translate(13.5625 362.145266)scale(0.1 -0.1)\">\r\n       <use xlink:href=\"#DejaVuSans-53\"/>\r\n       <use x=\"63.623047\" xlink:href=\"#DejaVuSans-48\"/>\r\n       <use x=\"127.246094\" xlink:href=\"#DejaVuSans-48\"/>\r\n       <use x=\"190.869141\" xlink:href=\"#DejaVuSans-48\"/>\r\n       <use x=\"254.492188\" xlink:href=\"#DejaVuSans-48\"/>\r\n      </g>\r\n     </g>\r\n    </g>\r\n    <g id=\"ytick_3\">\r\n     <g id=\"line2d_39\">\r\n      <g>\r\n       <use style=\"stroke:#000000;stroke-width:0.8;\" x=\"52.375\" xlink:href=\"#m2317e5684b\" y=\"277.492095\"/>\r\n      </g>\r\n     </g>\r\n     <g id=\"text_39\">\r\n      <!-- 100000 -->\r\n      <defs>\r\n       <path d=\"M 12.40625 8.296875 \r\nL 28.515625 8.296875 \r\nL 28.515625 63.921875 \r\nL 10.984375 60.40625 \r\nL 10.984375 69.390625 \r\nL 28.421875 72.90625 \r\nL 38.28125 72.90625 \r\nL 38.28125 8.296875 \r\nL 54.390625 8.296875 \r\nL 54.390625 0 \r\nL 12.40625 0 \r\nz\r\n\" id=\"DejaVuSans-49\"/>\r\n      </defs>\r\n      <g transform=\"translate(7.2 281.291314)scale(0.1 -0.1)\">\r\n       <use xlink:href=\"#DejaVuSans-49\"/>\r\n       <use x=\"63.623047\" xlink:href=\"#DejaVuSans-48\"/>\r\n       <use x=\"127.246094\" xlink:href=\"#DejaVuSans-48\"/>\r\n       <use x=\"190.869141\" xlink:href=\"#DejaVuSans-48\"/>\r\n       <use x=\"254.492188\" xlink:href=\"#DejaVuSans-48\"/>\r\n       <use x=\"318.115234\" xlink:href=\"#DejaVuSans-48\"/>\r\n      </g>\r\n     </g>\r\n    </g>\r\n    <g id=\"ytick_4\">\r\n     <g id=\"line2d_40\">\r\n      <g>\r\n       <use style=\"stroke:#000000;stroke-width:0.8;\" x=\"52.375\" xlink:href=\"#m2317e5684b\" y=\"196.638143\"/>\r\n      </g>\r\n     </g>\r\n     <g id=\"text_40\">\r\n      <!-- 150000 -->\r\n      <g transform=\"translate(7.2 200.437361)scale(0.1 -0.1)\">\r\n       <use xlink:href=\"#DejaVuSans-49\"/>\r\n       <use x=\"63.623047\" xlink:href=\"#DejaVuSans-53\"/>\r\n       <use x=\"127.246094\" xlink:href=\"#DejaVuSans-48\"/>\r\n       <use x=\"190.869141\" xlink:href=\"#DejaVuSans-48\"/>\r\n       <use x=\"254.492188\" xlink:href=\"#DejaVuSans-48\"/>\r\n       <use x=\"318.115234\" xlink:href=\"#DejaVuSans-48\"/>\r\n      </g>\r\n     </g>\r\n    </g>\r\n    <g id=\"ytick_5\">\r\n     <g id=\"line2d_41\">\r\n      <g>\r\n       <use style=\"stroke:#000000;stroke-width:0.8;\" x=\"52.375\" xlink:href=\"#m2317e5684b\" y=\"115.78419\"/>\r\n      </g>\r\n     </g>\r\n     <g id=\"text_41\">\r\n      <!-- 200000 -->\r\n      <defs>\r\n       <path d=\"M 19.1875 8.296875 \r\nL 53.609375 8.296875 \r\nL 53.609375 0 \r\nL 7.328125 0 \r\nL 7.328125 8.296875 \r\nQ 12.9375 14.109375 22.625 23.890625 \r\nQ 32.328125 33.6875 34.8125 36.53125 \r\nQ 39.546875 41.84375 41.421875 45.53125 \r\nQ 43.3125 49.21875 43.3125 52.78125 \r\nQ 43.3125 58.59375 39.234375 62.25 \r\nQ 35.15625 65.921875 28.609375 65.921875 \r\nQ 23.96875 65.921875 18.8125 64.3125 \r\nQ 13.671875 62.703125 7.8125 59.421875 \r\nL 7.8125 69.390625 \r\nQ 13.765625 71.78125 18.9375 73 \r\nQ 24.125 74.21875 28.421875 74.21875 \r\nQ 39.75 74.21875 46.484375 68.546875 \r\nQ 53.21875 62.890625 53.21875 53.421875 \r\nQ 53.21875 48.921875 51.53125 44.890625 \r\nQ 49.859375 40.875 45.40625 35.40625 \r\nQ 44.1875 33.984375 37.640625 27.21875 \r\nQ 31.109375 20.453125 19.1875 8.296875 \r\nz\r\n\" id=\"DejaVuSans-50\"/>\r\n      </defs>\r\n      <g transform=\"translate(7.2 119.583409)scale(0.1 -0.1)\">\r\n       <use xlink:href=\"#DejaVuSans-50\"/>\r\n       <use x=\"63.623047\" xlink:href=\"#DejaVuSans-48\"/>\r\n       <use x=\"127.246094\" xlink:href=\"#DejaVuSans-48\"/>\r\n       <use x=\"190.869141\" xlink:href=\"#DejaVuSans-48\"/>\r\n       <use x=\"254.492188\" xlink:href=\"#DejaVuSans-48\"/>\r\n       <use x=\"318.115234\" xlink:href=\"#DejaVuSans-48\"/>\r\n      </g>\r\n     </g>\r\n    </g>\r\n    <g id=\"ytick_6\">\r\n     <g id=\"line2d_42\">\r\n      <g>\r\n       <use style=\"stroke:#000000;stroke-width:0.8;\" x=\"52.375\" xlink:href=\"#m2317e5684b\" y=\"34.930238\"/>\r\n      </g>\r\n     </g>\r\n     <g id=\"text_42\">\r\n      <!-- 250000 -->\r\n      <g transform=\"translate(7.2 38.729456)scale(0.1 -0.1)\">\r\n       <use xlink:href=\"#DejaVuSans-50\"/>\r\n       <use x=\"63.623047\" xlink:href=\"#DejaVuSans-53\"/>\r\n       <use x=\"127.246094\" xlink:href=\"#DejaVuSans-48\"/>\r\n       <use x=\"190.869141\" xlink:href=\"#DejaVuSans-48\"/>\r\n       <use x=\"254.492188\" xlink:href=\"#DejaVuSans-48\"/>\r\n       <use x=\"318.115234\" xlink:href=\"#DejaVuSans-48\"/>\r\n      </g>\r\n     </g>\r\n    </g>\r\n   </g>\r\n   <g id=\"patch_147\">\r\n    <path d=\"M 52.375 439.2 \r\nL 52.375 7.2 \r\n\" style=\"fill:none;stroke:#000000;stroke-linecap:square;stroke-linejoin:miter;stroke-width:0.8;\"/>\r\n   </g>\r\n   <g id=\"patch_148\">\r\n    <path d=\"M 1132.375 439.2 \r\nL 1132.375 7.2 \r\n\" style=\"fill:none;stroke:#000000;stroke-linecap:square;stroke-linejoin:miter;stroke-width:0.8;\"/>\r\n   </g>\r\n   <g id=\"patch_149\">\r\n    <path d=\"M 52.375 439.2 \r\nL 1132.375 439.2 \r\n\" style=\"fill:none;stroke:#000000;stroke-linecap:square;stroke-linejoin:miter;stroke-width:0.8;\"/>\r\n   </g>\r\n   <g id=\"patch_150\">\r\n    <path d=\"M 52.375 7.2 \r\nL 1132.375 7.2 \r\n\" style=\"fill:none;stroke:#000000;stroke-linecap:square;stroke-linejoin:miter;stroke-width:0.8;\"/>\r\n   </g>\r\n   <g id=\"legend_1\">\r\n    <g id=\"patch_151\">\r\n     <path d=\"M 1029.40625 73.9125 \r\nL 1125.375 73.9125 \r\nQ 1127.375 73.9125 1127.375 71.9125 \r\nL 1127.375 14.2 \r\nQ 1127.375 12.2 1125.375 12.2 \r\nL 1029.40625 12.2 \r\nQ 1027.40625 12.2 1027.40625 14.2 \r\nL 1027.40625 71.9125 \r\nQ 1027.40625 73.9125 1029.40625 73.9125 \r\nz\r\n\" style=\"fill:#ffffff;opacity:0.8;stroke:#cccccc;stroke-linejoin:miter;\"/>\r\n    </g>\r\n    <g id=\"patch_152\">\r\n     <path d=\"M 1031.40625 23.798438 \r\nL 1051.40625 23.798438 \r\nL 1051.40625 16.798438 \r\nL 1031.40625 16.798438 \r\nz\r\n\" style=\"fill:#0000ff;\"/>\r\n    </g>\r\n    <g id=\"text_43\">\r\n     <!-- Total Cases -->\r\n     <g transform=\"translate(1059.40625 23.798438)scale(0.1 -0.1)\">\r\n      <use xlink:href=\"#DejaVuSans-84\"/>\r\n      <use x=\"60.818359\" xlink:href=\"#DejaVuSans-111\"/>\r\n      <use x=\"122\" xlink:href=\"#DejaVuSans-116\"/>\r\n      <use x=\"161.208984\" xlink:href=\"#DejaVuSans-97\"/>\r\n      <use x=\"222.488281\" xlink:href=\"#DejaVuSans-108\"/>\r\n      <use x=\"250.271484\" xlink:href=\"#DejaVuSans-32\"/>\r\n      <use x=\"282.058594\" xlink:href=\"#DejaVuSans-67\"/>\r\n      <use x=\"351.882812\" xlink:href=\"#DejaVuSans-97\"/>\r\n      <use x=\"413.162109\" xlink:href=\"#DejaVuSans-115\"/>\r\n      <use x=\"465.261719\" xlink:href=\"#DejaVuSans-101\"/>\r\n      <use x=\"526.785156\" xlink:href=\"#DejaVuSans-115\"/>\r\n     </g>\r\n    </g>\r\n    <g id=\"patch_153\">\r\n     <path d=\"M 1031.40625 38.476563 \r\nL 1051.40625 38.476563 \r\nL 1051.40625 31.476563 \r\nL 1031.40625 31.476563 \r\nz\r\n\" style=\"fill:#ffa500;\"/>\r\n    </g>\r\n    <g id=\"text_44\">\r\n     <!-- Active Cases -->\r\n     <g transform=\"translate(1059.40625 38.476563)scale(0.1 -0.1)\">\r\n      <use xlink:href=\"#DejaVuSans-65\"/>\r\n      <use x=\"68.392578\" xlink:href=\"#DejaVuSans-99\"/>\r\n      <use x=\"123.373047\" xlink:href=\"#DejaVuSans-116\"/>\r\n      <use x=\"162.582031\" xlink:href=\"#DejaVuSans-105\"/>\r\n      <use x=\"190.365234\" xlink:href=\"#DejaVuSans-118\"/>\r\n      <use x=\"249.544922\" xlink:href=\"#DejaVuSans-101\"/>\r\n      <use x=\"311.068359\" xlink:href=\"#DejaVuSans-32\"/>\r\n      <use x=\"342.855469\" xlink:href=\"#DejaVuSans-67\"/>\r\n      <use x=\"412.679688\" xlink:href=\"#DejaVuSans-97\"/>\r\n      <use x=\"473.958984\" xlink:href=\"#DejaVuSans-115\"/>\r\n      <use x=\"526.058594\" xlink:href=\"#DejaVuSans-101\"/>\r\n      <use x=\"587.582031\" xlink:href=\"#DejaVuSans-115\"/>\r\n     </g>\r\n    </g>\r\n    <g id=\"patch_154\">\r\n     <path d=\"M 1031.40625 53.154688 \r\nL 1051.40625 53.154688 \r\nL 1051.40625 46.154688 \r\nL 1031.40625 46.154688 \r\nz\r\n\" style=\"fill:#ff0000;\"/>\r\n    </g>\r\n    <g id=\"text_45\">\r\n     <!-- Deaths -->\r\n     <g transform=\"translate(1059.40625 53.154688)scale(0.1 -0.1)\">\r\n      <use xlink:href=\"#DejaVuSans-68\"/>\r\n      <use x=\"77.001953\" xlink:href=\"#DejaVuSans-101\"/>\r\n      <use x=\"138.525391\" xlink:href=\"#DejaVuSans-97\"/>\r\n      <use x=\"199.804688\" xlink:href=\"#DejaVuSans-116\"/>\r\n      <use x=\"239.013672\" xlink:href=\"#DejaVuSans-104\"/>\r\n      <use x=\"302.392578\" xlink:href=\"#DejaVuSans-115\"/>\r\n     </g>\r\n    </g>\r\n    <g id=\"patch_155\">\r\n     <path d=\"M 1031.40625 67.832813 \r\nL 1051.40625 67.832813 \r\nL 1051.40625 60.832813 \r\nL 1031.40625 60.832813 \r\nz\r\n\" style=\"fill:#008000;\"/>\r\n    </g>\r\n    <g id=\"text_46\">\r\n     <!-- Recoveries -->\r\n     <g transform=\"translate(1059.40625 67.832813)scale(0.1 -0.1)\">\r\n      <use xlink:href=\"#DejaVuSans-82\"/>\r\n      <use x=\"69.419922\" xlink:href=\"#DejaVuSans-101\"/>\r\n      <use x=\"130.943359\" xlink:href=\"#DejaVuSans-99\"/>\r\n      <use x=\"185.923828\" xlink:href=\"#DejaVuSans-111\"/>\r\n      <use x=\"247.105469\" xlink:href=\"#DejaVuSans-118\"/>\r\n      <use x=\"306.285156\" xlink:href=\"#DejaVuSans-101\"/>\r\n      <use x=\"367.808594\" xlink:href=\"#DejaVuSans-114\"/>\r\n      <use x=\"408.921875\" xlink:href=\"#DejaVuSans-105\"/>\r\n      <use x=\"436.705078\" xlink:href=\"#DejaVuSans-101\"/>\r\n      <use x=\"498.228516\" xlink:href=\"#DejaVuSans-115\"/>\r\n     </g>\r\n    </g>\r\n   </g>\r\n  </g>\r\n </g>\r\n <defs>\r\n  <clipPath id=\"pd00d95e72a\">\r\n   <rect height=\"432\" width=\"1080\" x=\"52.375\" y=\"7.2\"/>\r\n  </clipPath>\r\n </defs>\r\n</svg>\r\n",
      "image/png": "[encoded data removed]"
     },
     "metadata": {
      "needs_background": "light"
     }
    }
   ],
   "source": [
    "fig = plt.figure(figsize=[15,6])\n",
    "axes = fig.add_axes([0,0,1,1])\n",
    "x = np.arange(0, 36*4, step=4)\n",
    "axes.bar(x, TotalCases, width=0.8, label=\"Total Cases\", color=\"blue\")\n",
    "axes.bar(x+0.8, Active, width=0.8, label=\"Active Cases\", color=\"orange\")\n",
    "axes.bar(x+1.6, Deaths, width=0.8, label=\"Deaths\", color=\"red\")\n",
    "axes.bar(x+2.4, Recoveries, width=0.8, label=\"Recoveries\", color=\"green\")\n",
    "plt.xticks(x+1.6, states_cases['States'], rotation=90) #to shift the labels on x axis as they are not at center of the bars\n",
    "axes.legend() #to show the labels\n",
    "plt.show()"
   ]
  },
  {
   "cell_type": "code",
   "execution_count": 25,
   "metadata": {},
   "outputs": [
    {
     "output_type": "execute_result",
     "data": {
      "text/plain": "  Total_Cases Recoveries Deaths\n0      875896     553471  23174",
      "text/html": "<div>\n<style scoped>\n    .dataframe tbody tr th:only-of-type {\n        vertical-align: middle;\n    }\n\n    .dataframe tbody tr th {\n        vertical-align: top;\n    }\n\n    .dataframe thead th {\n        text-align: right;\n    }\n</style>\n<table border=\"1\" class=\"dataframe\">\n  <thead>\n    <tr style=\"text-align: right;\">\n      <th></th>\n      <th>Total_Cases</th>\n      <th>Recoveries</th>\n      <th>Deaths</th>\n    </tr>\n  </thead>\n  <tbody>\n    <tr>\n      <th>0</th>\n      <td>875896</td>\n      <td>553471</td>\n      <td>23174</td>\n    </tr>\n  </tbody>\n</table>\n</div>"
     },
     "metadata": {},
     "execution_count": 25
    }
   ],
   "source": [
    "total = pd.DataFrame(columns=['Total_Cases', 'Recoveries', 'Deaths'])\n",
    "states_cases['Total Cases'] = states_cases['Total Cases'].astype(int)\n",
    "states_cases['Recoveries'] = states_cases['Recoveries'].astype(int)\n",
    "states_cases['Deaths'] = states_cases['Deaths'].astype(int)\n",
    "Total_sum = states_cases['Total Cases'].sum()\n",
    "Recoveries_sum = states_cases['Recoveries'].sum()\n",
    "Deaths_sum = states_cases['Deaths'].sum()\n",
    "total = total.append({'Total_Cases': Total_sum, 'Recoveries': Recoveries_sum, 'Deaths': Deaths_sum}, ignore_index=True)\n",
    "total"
   ]
  },
  {
   "cell_type": "code",
   "execution_count": 26,
   "metadata": {},
   "outputs": [
    {
     "output_type": "display_data",
     "data": {
      "application/vnd.plotly.v1+json": {
       "config": {
        "plotlyServerURL": "https://plot.ly"
       },
       "data": [
        {
         "labels": [
          "Total Cases",
          "Total Recoveries",
          "Total Deaths"
         ],
         "marker": {
          "colors": [
           "#3498DB",
           "#2ECC71",
           "#E74C3C"
          ]
         },
         "type": "pie",
         "values": [
          875896,
          553471,
          23174
         ]
        }
       ],
       "layout": {
        "template": {
         "data": {
          "bar": [
           {
            "error_x": {
             "color": "#2a3f5f"
            },
            "error_y": {
             "color": "#2a3f5f"
            },
            "marker": {
             "line": {
              "color": "#E5ECF6",
              "width": 0.5
             }
            },
            "type": "bar"
           }
          ],
          "barpolar": [
           {
            "marker": {
             "line": {
              "color": "#E5ECF6",
              "width": 0.5
             }
            },
            "type": "barpolar"
           }
          ],
          "carpet": [
           {
            "aaxis": {
             "endlinecolor": "#2a3f5f",
             "gridcolor": "white",
             "linecolor": "white",
             "minorgridcolor": "white",
             "startlinecolor": "#2a3f5f"
            },
            "baxis": {
             "endlinecolor": "#2a3f5f",
             "gridcolor": "white",
             "linecolor": "white",
             "minorgridcolor": "white",
             "startlinecolor": "#2a3f5f"
            },
            "type": "carpet"
           }
          ],
          "choropleth": [
           {
            "colorbar": {
             "outlinewidth": 0,
             "ticks": ""
            },
            "type": "choropleth"
           }
          ],
          "contour": [
           {
            "colorbar": {
             "outlinewidth": 0,
             "ticks": ""
            },
            "colorscale": [
             [
              0,
              "#0d0887"
             ],
             [
              0.1111111111111111,
              "#46039f"
             ],
             [
              0.2222222222222222,
              "#7201a8"
             ],
             [
              0.3333333333333333,
              "#9c179e"
             ],
             [
              0.4444444444444444,
              "#bd3786"
             ],
             [
              0.5555555555555556,
              "#d8576b"
             ],
             [
              0.6666666666666666,
              "#ed7953"
             ],
             [
              0.7777777777777778,
              "#fb9f3a"
             ],
             [
              0.8888888888888888,
              "#fdca26"
             ],
             [
              1,
              "#f0f921"
             ]
            ],
            "type": "contour"
           }
          ],
          "contourcarpet": [
           {
            "colorbar": {
             "outlinewidth": 0,
             "ticks": ""
            },
            "type": "contourcarpet"
           }
          ],
          "heatmap": [
           {
            "colorbar": {
             "outlinewidth": 0,
             "ticks": ""
            },
            "colorscale": [
             [
              0,
              "#0d0887"
             ],
             [
              0.1111111111111111,
              "#46039f"
             ],
             [
              0.2222222222222222,
              "#7201a8"
             ],
             [
              0.3333333333333333,
              "#9c179e"
             ],
             [
              0.4444444444444444,
              "#bd3786"
             ],
             [
              0.5555555555555556,
              "#d8576b"
             ],
             [
              0.6666666666666666,
              "#ed7953"
             ],
             [
              0.7777777777777778,
              "#fb9f3a"
             ],
             [
              0.8888888888888888,
              "#fdca26"
             ],
             [
              1,
              "#f0f921"
             ]
            ],
            "type": "heatmap"
           }
          ],
          "heatmapgl": [
           {
            "colorbar": {
             "outlinewidth": 0,
             "ticks": ""
            },
            "colorscale": [
             [
              0,
              "#0d0887"
             ],
             [
              0.1111111111111111,
              "#46039f"
             ],
             [
              0.2222222222222222,
              "#7201a8"
             ],
             [
              0.3333333333333333,
              "#9c179e"
             ],
             [
              0.4444444444444444,
              "#bd3786"
             ],
             [
              0.5555555555555556,
              "#d8576b"
             ],
             [
              0.6666666666666666,
              "#ed7953"
             ],
             [
              0.7777777777777778,
              "#fb9f3a"
             ],
             [
              0.8888888888888888,
              "#fdca26"
             ],
             [
              1,
              "#f0f921"
             ]
            ],
            "type": "heatmapgl"
           }
          ],
          "histogram": [
           {
            "marker": {
             "colorbar": {
              "outlinewidth": 0,
              "ticks": ""
             }
            },
            "type": "histogram"
           }
          ],
          "histogram2d": [
           {
            "colorbar": {
             "outlinewidth": 0,
             "ticks": ""
            },
            "colorscale": [
             [
              0,
              "#0d0887"
             ],
             [
              0.1111111111111111,
              "#46039f"
             ],
             [
              0.2222222222222222,
              "#7201a8"
             ],
             [
              0.3333333333333333,
              "#9c179e"
             ],
             [
              0.4444444444444444,
              "#bd3786"
             ],
             [
              0.5555555555555556,
              "#d8576b"
             ],
             [
              0.6666666666666666,
              "#ed7953"
             ],
             [
              0.7777777777777778,
              "#fb9f3a"
             ],
             [
              0.8888888888888888,
              "#fdca26"
             ],
             [
              1,
              "#f0f921"
             ]
            ],
            "type": "histogram2d"
           }
          ],
          "histogram2dcontour": [
           {
            "colorbar": {
             "outlinewidth": 0,
             "ticks": ""
            },
            "colorscale": [
             [
              0,
              "#0d0887"
             ],
             [
              0.1111111111111111,
              "#46039f"
             ],
             [
              0.2222222222222222,
              "#7201a8"
             ],
             [
              0.3333333333333333,
              "#9c179e"
             ],
             [
              0.4444444444444444,
              "#bd3786"
             ],
             [
              0.5555555555555556,
              "#d8576b"
             ],
             [
              0.6666666666666666,
              "#ed7953"
             ],
             [
              0.7777777777777778,
              "#fb9f3a"
             ],
             [
              0.8888888888888888,
              "#fdca26"
             ],
             [
              1,
              "#f0f921"
             ]
            ],
            "type": "histogram2dcontour"
           }
          ],
          "mesh3d": [
           {
            "colorbar": {
             "outlinewidth": 0,
             "ticks": ""
            },
            "type": "mesh3d"
           }
          ],
          "parcoords": [
           {
            "line": {
             "colorbar": {
              "outlinewidth": 0,
              "ticks": ""
             }
            },
            "type": "parcoords"
           }
          ],
          "pie": [
           {
            "automargin": true,
            "type": "pie"
           }
          ],
          "scatter": [
           {
            "marker": {
             "colorbar": {
              "outlinewidth": 0,
              "ticks": ""
             }
            },
            "type": "scatter"
           }
          ],
          "scatter3d": [
           {
            "line": {
             "colorbar": {
              "outlinewidth": 0,
              "ticks": ""
             }
            },
            "marker": {
             "colorbar": {
              "outlinewidth": 0,
              "ticks": ""
             }
            },
            "type": "scatter3d"
           }
          ],
          "scattercarpet": [
           {
            "marker": {
             "colorbar": {
              "outlinewidth": 0,
              "ticks": ""
             }
            },
            "type": "scattercarpet"
           }
          ],
          "scattergeo": [
           {
            "marker": {
             "colorbar": {
              "outlinewidth": 0,
              "ticks": ""
             }
            },
            "type": "scattergeo"
           }
          ],
          "scattergl": [
           {
            "marker": {
             "colorbar": {
              "outlinewidth": 0,
              "ticks": ""
             }
            },
            "type": "scattergl"
           }
          ],
          "scattermapbox": [
           {
            "marker": {
             "colorbar": {
              "outlinewidth": 0,
              "ticks": ""
             }
            },
            "type": "scattermapbox"
           }
          ],
          "scatterpolar": [
           {
            "marker": {
             "colorbar": {
              "outlinewidth": 0,
              "ticks": ""
             }
            },
            "type": "scatterpolar"
           }
          ],
          "scatterpolargl": [
           {
            "marker": {
             "colorbar": {
              "outlinewidth": 0,
              "ticks": ""
             }
            },
            "type": "scatterpolargl"
           }
          ],
          "scatterternary": [
           {
            "marker": {
             "colorbar": {
              "outlinewidth": 0,
              "ticks": ""
             }
            },
            "type": "scatterternary"
           }
          ],
          "surface": [
           {
            "colorbar": {
             "outlinewidth": 0,
             "ticks": ""
            },
            "colorscale": [
             [
              0,
              "#0d0887"
             ],
             [
              0.1111111111111111,
              "#46039f"
             ],
             [
              0.2222222222222222,
              "#7201a8"
             ],
             [
              0.3333333333333333,
              "#9c179e"
             ],
             [
              0.4444444444444444,
              "#bd3786"
             ],
             [
              0.5555555555555556,
              "#d8576b"
             ],
             [
              0.6666666666666666,
              "#ed7953"
             ],
             [
              0.7777777777777778,
              "#fb9f3a"
             ],
             [
              0.8888888888888888,
              "#fdca26"
             ],
             [
              1,
              "#f0f921"
             ]
            ],
            "type": "surface"
           }
          ],
          "table": [
           {
            "cells": {
             "fill": {
              "color": "#EBF0F8"
             },
             "line": {
              "color": "white"
             }
            },
            "header": {
             "fill": {
              "color": "#C8D4E3"
             },
             "line": {
              "color": "white"
             }
            },
            "type": "table"
           }
          ]
         },
         "layout": {
          "annotationdefaults": {
           "arrowcolor": "#2a3f5f",
           "arrowhead": 0,
           "arrowwidth": 1
          },
          "coloraxis": {
           "colorbar": {
            "outlinewidth": 0,
            "ticks": ""
           }
          },
          "colorscale": {
           "diverging": [
            [
             0,
             "#8e0152"
            ],
            [
             0.1,
             "#c51b7d"
            ],
            [
             0.2,
             "#de77ae"
            ],
            [
             0.3,
             "#f1b6da"
            ],
            [
             0.4,
             "#fde0ef"
            ],
            [
             0.5,
             "#f7f7f7"
            ],
            [
             0.6,
             "#e6f5d0"
            ],
            [
             0.7,
             "#b8e186"
            ],
            [
             0.8,
             "#7fbc41"
            ],
            [
             0.9,
             "#4d9221"
            ],
            [
             1,
             "#276419"
            ]
           ],
           "sequential": [
            [
             0,
             "#0d0887"
            ],
            [
             0.1111111111111111,
             "#46039f"
            ],
            [
             0.2222222222222222,
             "#7201a8"
            ],
            [
             0.3333333333333333,
             "#9c179e"
            ],
            [
             0.4444444444444444,
             "#bd3786"
            ],
            [
             0.5555555555555556,
             "#d8576b"
            ],
            [
             0.6666666666666666,
             "#ed7953"
            ],
            [
             0.7777777777777778,
             "#fb9f3a"
            ],
            [
             0.8888888888888888,
             "#fdca26"
            ],
            [
             1,
             "#f0f921"
            ]
           ],
           "sequentialminus": [
            [
             0,
             "#0d0887"
            ],
            [
             0.1111111111111111,
             "#46039f"
            ],
            [
             0.2222222222222222,
             "#7201a8"
            ],
            [
             0.3333333333333333,
             "#9c179e"
            ],
            [
             0.4444444444444444,
             "#bd3786"
            ],
            [
             0.5555555555555556,
             "#d8576b"
            ],
            [
             0.6666666666666666,
             "#ed7953"
            ],
            [
             0.7777777777777778,
             "#fb9f3a"
            ],
            [
             0.8888888888888888,
             "#fdca26"
            ],
            [
             1,
             "#f0f921"
            ]
           ]
          },
          "colorway": [
           "#636efa",
           "#EF553B",
           "#00cc96",
           "#ab63fa",
           "#FFA15A",
           "#19d3f3",
           "#FF6692",
           "#B6E880",
           "#FF97FF",
           "#FECB52"
          ],
          "font": {
           "color": "#2a3f5f"
          },
          "geo": {
           "bgcolor": "white",
           "lakecolor": "white",
           "landcolor": "#E5ECF6",
           "showlakes": true,
           "showland": true,
           "subunitcolor": "white"
          },
          "hoverlabel": {
           "align": "left"
          },
          "hovermode": "closest",
          "mapbox": {
           "style": "light"
          },
          "paper_bgcolor": "white",
          "plot_bgcolor": "#E5ECF6",
          "polar": {
           "angularaxis": {
            "gridcolor": "white",
            "linecolor": "white",
            "ticks": ""
           },
           "bgcolor": "#E5ECF6",
           "radialaxis": {
            "gridcolor": "white",
            "linecolor": "white",
            "ticks": ""
           }
          },
          "scene": {
           "xaxis": {
            "backgroundcolor": "#E5ECF6",
            "gridcolor": "white",
            "gridwidth": 2,
            "linecolor": "white",
            "showbackground": true,
            "ticks": "",
            "zerolinecolor": "white"
           },
           "yaxis": {
            "backgroundcolor": "#E5ECF6",
            "gridcolor": "white",
            "gridwidth": 2,
            "linecolor": "white",
            "showbackground": true,
            "ticks": "",
            "zerolinecolor": "white"
           },
           "zaxis": {
            "backgroundcolor": "#E5ECF6",
            "gridcolor": "white",
            "gridwidth": 2,
            "linecolor": "white",
            "showbackground": true,
            "ticks": "",
            "zerolinecolor": "white"
           }
          },
          "shapedefaults": {
           "line": {
            "color": "#2a3f5f"
           }
          },
          "ternary": {
           "aaxis": {
            "gridcolor": "white",
            "linecolor": "white",
            "ticks": ""
           },
           "baxis": {
            "gridcolor": "white",
            "linecolor": "white",
            "ticks": ""
           },
           "bgcolor": "#E5ECF6",
           "caxis": {
            "gridcolor": "white",
            "linecolor": "white",
            "ticks": ""
           }
          },
          "title": {
           "x": 0.05
          },
          "xaxis": {
           "automargin": true,
           "gridcolor": "white",
           "linecolor": "white",
           "ticks": "",
           "title": {
            "standoff": 15
           },
           "zerolinecolor": "white",
           "zerolinewidth": 2
          },
          "yaxis": {
           "automargin": true,
           "gridcolor": "white",
           "linecolor": "white",
           "ticks": "",
           "title": {
            "standoff": 15
           },
           "zerolinecolor": "white",
           "zerolinewidth": 2
          }
         }
        }
       }
      }
     },
     "metadata": {}
    }
   ],
   "source": [
    "fig = go.Figure()\n",
    "totcase = total._get_value(0,'Total_Cases')\n",
    "recovered = total._get_value(0,'Recoveries')\n",
    "death = total._get_value(0, 'Deaths')\n",
    "fig.add_trace(go.Pie(values=[totcase, recovered, death],\n",
    "labels=['Total Cases', 'Total Recoveries', 'Total Deaths']))\n",
    "fig.update_traces(marker=dict(colors=['#3498DB', '#2ECC71', '#E74C3C']))\n",
    "fig.show()"
   ]
  },
  {
   "cell_type": "code",
   "execution_count": 41,
   "metadata": {
    "tags": []
   },
   "outputs": [
    {
     "output_type": "display_data",
     "data": {
      "application/vnd.plotly.v1+json": {
       "config": {
        "linkText": "Export to plot.ly",
        "plotlyServerURL": "https://plot.ly",
        "showLink": false
       },
       "data": [
        {
         "orientation": "v",
         "type": "bar",
         "x": [
          "Andaman and Nicobar Islands",
          "Andhra Pradesh",
          "Arunachal Pradesh",
          "Assam",
          "Bihar",
          "Chandigarh",
          "Chhattisgarh",
          "Dadra and Nagar Haveli and Daman and Diu",
          "Delhi",
          "Goa",
          "Gujarat",
          "Haryana",
          "Himachal Pradesh",
          "Jammu and Kashmir",
          "Jharkhand",
          "Karnataka",
          "Kerala",
          "Ladakh",
          "Lakshadweep",
          "Madhya Pradesh",
          "Maharashtra",
          "Manipur",
          "Meghalaya",
          "Mizoram",
          "Nagaland",
          "Odisha",
          "Puducherry",
          "Punjab",
          "Rajasthan",
          "Sikkim",
          "Tamil Nadu",
          "Telangana",
          "Tripura",
          "Uttarakhand",
          "Uttar Pradesh",
          "West Bengal"
         ],
         "y": [
          163,
          29168,
          359,
          16071,
          16642,
          559,
          4059,
          479,
          112494,
          2453,
          41820,
          21240,
          1213,
          10513,
          3756,
          38843,
          7873,
          1086,
          0,
          17632,
          254427,
          1609,
          306,
          231,
          774,
          13121,
          1418,
          7821,
          24392,
          153,
          138470,
          34671,
          2054,
          3537,
          36476,
          30013
         ]
        }
       ],
       "layout": {
        "template": {
         "data": {
          "bar": [
           {
            "error_x": {
             "color": "#2a3f5f"
            },
            "error_y": {
             "color": "#2a3f5f"
            },
            "marker": {
             "line": {
              "color": "#E5ECF6",
              "width": 0.5
             }
            },
            "type": "bar"
           }
          ],
          "barpolar": [
           {
            "marker": {
             "line": {
              "color": "#E5ECF6",
              "width": 0.5
             }
            },
            "type": "barpolar"
           }
          ],
          "carpet": [
           {
            "aaxis": {
             "endlinecolor": "#2a3f5f",
             "gridcolor": "white",
             "linecolor": "white",
             "minorgridcolor": "white",
             "startlinecolor": "#2a3f5f"
            },
            "baxis": {
             "endlinecolor": "#2a3f5f",
             "gridcolor": "white",
             "linecolor": "white",
             "minorgridcolor": "white",
             "startlinecolor": "#2a3f5f"
            },
            "type": "carpet"
           }
          ],
          "choropleth": [
           {
            "colorbar": {
             "outlinewidth": 0,
             "ticks": ""
            },
            "type": "choropleth"
           }
          ],
          "contour": [
           {
            "colorbar": {
             "outlinewidth": 0,
             "ticks": ""
            },
            "colorscale": [
             [
              0,
              "#0d0887"
             ],
             [
              0.1111111111111111,
              "#46039f"
             ],
             [
              0.2222222222222222,
              "#7201a8"
             ],
             [
              0.3333333333333333,
              "#9c179e"
             ],
             [
              0.4444444444444444,
              "#bd3786"
             ],
             [
              0.5555555555555556,
              "#d8576b"
             ],
             [
              0.6666666666666666,
              "#ed7953"
             ],
             [
              0.7777777777777778,
              "#fb9f3a"
             ],
             [
              0.8888888888888888,
              "#fdca26"
             ],
             [
              1,
              "#f0f921"
             ]
            ],
            "type": "contour"
           }
          ],
          "contourcarpet": [
           {
            "colorbar": {
             "outlinewidth": 0,
             "ticks": ""
            },
            "type": "contourcarpet"
           }
          ],
          "heatmap": [
           {
            "colorbar": {
             "outlinewidth": 0,
             "ticks": ""
            },
            "colorscale": [
             [
              0,
              "#0d0887"
             ],
             [
              0.1111111111111111,
              "#46039f"
             ],
             [
              0.2222222222222222,
              "#7201a8"
             ],
             [
              0.3333333333333333,
              "#9c179e"
             ],
             [
              0.4444444444444444,
              "#bd3786"
             ],
             [
              0.5555555555555556,
              "#d8576b"
             ],
             [
              0.6666666666666666,
              "#ed7953"
             ],
             [
              0.7777777777777778,
              "#fb9f3a"
             ],
             [
              0.8888888888888888,
              "#fdca26"
             ],
             [
              1,
              "#f0f921"
             ]
            ],
            "type": "heatmap"
           }
          ],
          "heatmapgl": [
           {
            "colorbar": {
             "outlinewidth": 0,
             "ticks": ""
            },
            "colorscale": [
             [
              0,
              "#0d0887"
             ],
             [
              0.1111111111111111,
              "#46039f"
             ],
             [
              0.2222222222222222,
              "#7201a8"
             ],
             [
              0.3333333333333333,
              "#9c179e"
             ],
             [
              0.4444444444444444,
              "#bd3786"
             ],
             [
              0.5555555555555556,
              "#d8576b"
             ],
             [
              0.6666666666666666,
              "#ed7953"
             ],
             [
              0.7777777777777778,
              "#fb9f3a"
             ],
             [
              0.8888888888888888,
              "#fdca26"
             ],
             [
              1,
              "#f0f921"
             ]
            ],
            "type": "heatmapgl"
           }
          ],
          "histogram": [
           {
            "marker": {
             "colorbar": {
              "outlinewidth": 0,
              "ticks": ""
             }
            },
            "type": "histogram"
           }
          ],
          "histogram2d": [
           {
            "colorbar": {
             "outlinewidth": 0,
             "ticks": ""
            },
            "colorscale": [
             [
              0,
              "#0d0887"
             ],
             [
              0.1111111111111111,
              "#46039f"
             ],
             [
              0.2222222222222222,
              "#7201a8"
             ],
             [
              0.3333333333333333,
              "#9c179e"
             ],
             [
              0.4444444444444444,
              "#bd3786"
             ],
             [
              0.5555555555555556,
              "#d8576b"
             ],
             [
              0.6666666666666666,
              "#ed7953"
             ],
             [
              0.7777777777777778,
              "#fb9f3a"
             ],
             [
              0.8888888888888888,
              "#fdca26"
             ],
             [
              1,
              "#f0f921"
             ]
            ],
            "type": "histogram2d"
           }
          ],
          "histogram2dcontour": [
           {
            "colorbar": {
             "outlinewidth": 0,
             "ticks": ""
            },
            "colorscale": [
             [
              0,
              "#0d0887"
             ],
             [
              0.1111111111111111,
              "#46039f"
             ],
             [
              0.2222222222222222,
              "#7201a8"
             ],
             [
              0.3333333333333333,
              "#9c179e"
             ],
             [
              0.4444444444444444,
              "#bd3786"
             ],
             [
              0.5555555555555556,
              "#d8576b"
             ],
             [
              0.6666666666666666,
              "#ed7953"
             ],
             [
              0.7777777777777778,
              "#fb9f3a"
             ],
             [
              0.8888888888888888,
              "#fdca26"
             ],
             [
              1,
              "#f0f921"
             ]
            ],
            "type": "histogram2dcontour"
           }
          ],
          "mesh3d": [
           {
            "colorbar": {
             "outlinewidth": 0,
             "ticks": ""
            },
            "type": "mesh3d"
           }
          ],
          "parcoords": [
           {
            "line": {
             "colorbar": {
              "outlinewidth": 0,
              "ticks": ""
             }
            },
            "type": "parcoords"
           }
          ],
          "pie": [
           {
            "automargin": true,
            "type": "pie"
           }
          ],
          "scatter": [
           {
            "marker": {
             "colorbar": {
              "outlinewidth": 0,
              "ticks": ""
             }
            },
            "type": "scatter"
           }
          ],
          "scatter3d": [
           {
            "line": {
             "colorbar": {
              "outlinewidth": 0,
              "ticks": ""
             }
            },
            "marker": {
             "colorbar": {
              "outlinewidth": 0,
              "ticks": ""
             }
            },
            "type": "scatter3d"
           }
          ],
          "scattercarpet": [
           {
            "marker": {
             "colorbar": {
              "outlinewidth": 0,
              "ticks": ""
             }
            },
            "type": "scattercarpet"
           }
          ],
          "scattergeo": [
           {
            "marker": {
             "colorbar": {
              "outlinewidth": 0,
              "ticks": ""
             }
            },
            "type": "scattergeo"
           }
          ],
          "scattergl": [
           {
            "marker": {
             "colorbar": {
              "outlinewidth": 0,
              "ticks": ""
             }
            },
            "type": "scattergl"
           }
          ],
          "scattermapbox": [
           {
            "marker": {
             "colorbar": {
              "outlinewidth": 0,
              "ticks": ""
             }
            },
            "type": "scattermapbox"
           }
          ],
          "scatterpolar": [
           {
            "marker": {
             "colorbar": {
              "outlinewidth": 0,
              "ticks": ""
             }
            },
            "type": "scatterpolar"
           }
          ],
          "scatterpolargl": [
           {
            "marker": {
             "colorbar": {
              "outlinewidth": 0,
              "ticks": ""
             }
            },
            "type": "scatterpolargl"
           }
          ],
          "scatterternary": [
           {
            "marker": {
             "colorbar": {
              "outlinewidth": 0,
              "ticks": ""
             }
            },
            "type": "scatterternary"
           }
          ],
          "surface": [
           {
            "colorbar": {
             "outlinewidth": 0,
             "ticks": ""
            },
            "colorscale": [
             [
              0,
              "#0d0887"
             ],
             [
              0.1111111111111111,
              "#46039f"
             ],
             [
              0.2222222222222222,
              "#7201a8"
             ],
             [
              0.3333333333333333,
              "#9c179e"
             ],
             [
              0.4444444444444444,
              "#bd3786"
             ],
             [
              0.5555555555555556,
              "#d8576b"
             ],
             [
              0.6666666666666666,
              "#ed7953"
             ],
             [
              0.7777777777777778,
              "#fb9f3a"
             ],
             [
              0.8888888888888888,
              "#fdca26"
             ],
             [
              1,
              "#f0f921"
             ]
            ],
            "type": "surface"
           }
          ],
          "table": [
           {
            "cells": {
             "fill": {
              "color": "#EBF0F8"
             },
             "line": {
              "color": "white"
             }
            },
            "header": {
             "fill": {
              "color": "#C8D4E3"
             },
             "line": {
              "color": "white"
             }
            },
            "type": "table"
           }
          ]
         },
         "layout": {
          "annotationdefaults": {
           "arrowcolor": "#2a3f5f",
           "arrowhead": 0,
           "arrowwidth": 1
          },
          "coloraxis": {
           "colorbar": {
            "outlinewidth": 0,
            "ticks": ""
           }
          },
          "colorscale": {
           "diverging": [
            [
             0,
             "#8e0152"
            ],
            [
             0.1,
             "#c51b7d"
            ],
            [
             0.2,
             "#de77ae"
            ],
            [
             0.3,
             "#f1b6da"
            ],
            [
             0.4,
             "#fde0ef"
            ],
            [
             0.5,
             "#f7f7f7"
            ],
            [
             0.6,
             "#e6f5d0"
            ],
            [
             0.7,
             "#b8e186"
            ],
            [
             0.8,
             "#7fbc41"
            ],
            [
             0.9,
             "#4d9221"
            ],
            [
             1,
             "#276419"
            ]
           ],
           "sequential": [
            [
             0,
             "#0d0887"
            ],
            [
             0.1111111111111111,
             "#46039f"
            ],
            [
             0.2222222222222222,
             "#7201a8"
            ],
            [
             0.3333333333333333,
             "#9c179e"
            ],
            [
             0.4444444444444444,
             "#bd3786"
            ],
            [
             0.5555555555555556,
             "#d8576b"
            ],
            [
             0.6666666666666666,
             "#ed7953"
            ],
            [
             0.7777777777777778,
             "#fb9f3a"
            ],
            [
             0.8888888888888888,
             "#fdca26"
            ],
            [
             1,
             "#f0f921"
            ]
           ],
           "sequentialminus": [
            [
             0,
             "#0d0887"
            ],
            [
             0.1111111111111111,
             "#46039f"
            ],
            [
             0.2222222222222222,
             "#7201a8"
            ],
            [
             0.3333333333333333,
             "#9c179e"
            ],
            [
             0.4444444444444444,
             "#bd3786"
            ],
            [
             0.5555555555555556,
             "#d8576b"
            ],
            [
             0.6666666666666666,
             "#ed7953"
            ],
            [
             0.7777777777777778,
             "#fb9f3a"
            ],
            [
             0.8888888888888888,
             "#fdca26"
            ],
            [
             1,
             "#f0f921"
            ]
           ]
          },
          "colorway": [
           "#636efa",
           "#EF553B",
           "#00cc96",
           "#ab63fa",
           "#FFA15A",
           "#19d3f3",
           "#FF6692",
           "#B6E880",
           "#FF97FF",
           "#FECB52"
          ],
          "font": {
           "color": "#2a3f5f"
          },
          "geo": {
           "bgcolor": "white",
           "lakecolor": "white",
           "landcolor": "#E5ECF6",
           "showlakes": true,
           "showland": true,
           "subunitcolor": "white"
          },
          "hoverlabel": {
           "align": "left"
          },
          "hovermode": "closest",
          "mapbox": {
           "style": "light"
          },
          "paper_bgcolor": "white",
          "plot_bgcolor": "#E5ECF6",
          "polar": {
           "angularaxis": {
            "gridcolor": "white",
            "linecolor": "white",
            "ticks": ""
           },
           "bgcolor": "#E5ECF6",
           "radialaxis": {
            "gridcolor": "white",
            "linecolor": "white",
            "ticks": ""
           }
          },
          "scene": {
           "xaxis": {
            "backgroundcolor": "#E5ECF6",
            "gridcolor": "white",
            "gridwidth": 2,
            "linecolor": "white",
            "showbackground": true,
            "ticks": "",
            "zerolinecolor": "white"
           },
           "yaxis": {
            "backgroundcolor": "#E5ECF6",
            "gridcolor": "white",
            "gridwidth": 2,
            "linecolor": "white",
            "showbackground": true,
            "ticks": "",
            "zerolinecolor": "white"
           },
           "zaxis": {
            "backgroundcolor": "#E5ECF6",
            "gridcolor": "white",
            "gridwidth": 2,
            "linecolor": "white",
            "showbackground": true,
            "ticks": "",
            "zerolinecolor": "white"
           }
          },
          "shapedefaults": {
           "line": {
            "color": "#2a3f5f"
           }
          },
          "ternary": {
           "aaxis": {
            "gridcolor": "white",
            "linecolor": "white",
            "ticks": ""
           },
           "baxis": {
            "gridcolor": "white",
            "linecolor": "white",
            "ticks": ""
           },
           "bgcolor": "#E5ECF6",
           "caxis": {
            "gridcolor": "white",
            "linecolor": "white",
            "ticks": ""
           }
          },
          "title": {
           "x": 0.05
          },
          "xaxis": {
           "automargin": true,
           "gridcolor": "white",
           "linecolor": "white",
           "ticks": "",
           "title": {
            "standoff": 15
           },
           "zerolinecolor": "white",
           "zerolinewidth": 2
          },
          "yaxis": {
           "automargin": true,
           "gridcolor": "white",
           "linecolor": "white",
           "ticks": "",
           "title": {
            "standoff": 15
           },
           "zerolinecolor": "white",
           "zerolinewidth": 2
          }
         }
        },
        "title": {
         "text": "Total Cases in States"
        },
        "width": 1000
       }
      }
     },
     "metadata": {}
    }
   ],
   "source": [
    "data = go.Data([go.Bar(x=states_cases['States'], y=states_cases['Total Cases'], orientation='v')])\n",
    "layout = go.Layout(title=\"Total Cases in States\", width=1000)\n",
    "fig = go.Figure(data=data, layout=layout)\n",
    "iplot(fig)"
   ]
  },
  {
   "cell_type": "code",
   "execution_count": 47,
   "metadata": {
    "tags": []
   },
   "outputs": [
    {
     "output_type": "display_data",
     "data": {
      "application/vnd.plotly.v1+json": {
       "config": {
        "linkText": "Export to plot.ly",
        "plotlyServerURL": "https://plot.ly",
        "showLink": false
       },
       "data": [
        {
         "marker": {
          "color": "#32b432"
         },
         "orientation": "v",
         "type": "bar",
         "x": [
          "Andaman and Nicobar Islands",
          "Andhra Pradesh",
          "Arunachal Pradesh",
          "Assam",
          "Bihar",
          "Chandigarh",
          "Chhattisgarh",
          "Dadra and Nagar Haveli and Daman and Diu",
          "Delhi",
          "Goa",
          "Gujarat",
          "Haryana",
          "Himachal Pradesh",
          "Jammu and Kashmir",
          "Jharkhand",
          "Karnataka",
          "Kerala",
          "Ladakh",
          "Lakshadweep",
          "Madhya Pradesh",
          "Maharashtra",
          "Manipur",
          "Meghalaya",
          "Mizoram",
          "Nagaland",
          "Odisha",
          "Puducherry",
          "Punjab",
          "Rajasthan",
          "Sikkim",
          "Tamil Nadu",
          "Telangana",
          "Tripura",
          "Uttarakhand",
          "Uttar Pradesh",
          "West Bengal"
         ],
         "y": [
          93,
          15412,
          138,
          10426,
          11498,
          417,
          3153,
          245,
          89968,
          1487,
          29162,
          15983,
          929,
          5979,
          2308,
          15409,
          4095,
          928,
          0,
          12876,
          140325,
          896,
          66,
          150,
          327,
          8750,
          739,
          5392,
          18103,
          81,
          89532,
          22482,
          1421,
          2786,
          23334,
          18581
         ]
        }
       ],
       "layout": {
        "template": {
         "data": {
          "bar": [
           {
            "error_x": {
             "color": "#2a3f5f"
            },
            "error_y": {
             "color": "#2a3f5f"
            },
            "marker": {
             "line": {
              "color": "#E5ECF6",
              "width": 0.5
             }
            },
            "type": "bar"
           }
          ],
          "barpolar": [
           {
            "marker": {
             "line": {
              "color": "#E5ECF6",
              "width": 0.5
             }
            },
            "type": "barpolar"
           }
          ],
          "carpet": [
           {
            "aaxis": {
             "endlinecolor": "#2a3f5f",
             "gridcolor": "white",
             "linecolor": "white",
             "minorgridcolor": "white",
             "startlinecolor": "#2a3f5f"
            },
            "baxis": {
             "endlinecolor": "#2a3f5f",
             "gridcolor": "white",
             "linecolor": "white",
             "minorgridcolor": "white",
             "startlinecolor": "#2a3f5f"
            },
            "type": "carpet"
           }
          ],
          "choropleth": [
           {
            "colorbar": {
             "outlinewidth": 0,
             "ticks": ""
            },
            "type": "choropleth"
           }
          ],
          "contour": [
           {
            "colorbar": {
             "outlinewidth": 0,
             "ticks": ""
            },
            "colorscale": [
             [
              0,
              "#0d0887"
             ],
             [
              0.1111111111111111,
              "#46039f"
             ],
             [
              0.2222222222222222,
              "#7201a8"
             ],
             [
              0.3333333333333333,
              "#9c179e"
             ],
             [
              0.4444444444444444,
              "#bd3786"
             ],
             [
              0.5555555555555556,
              "#d8576b"
             ],
             [
              0.6666666666666666,
              "#ed7953"
             ],
             [
              0.7777777777777778,
              "#fb9f3a"
             ],
             [
              0.8888888888888888,
              "#fdca26"
             ],
             [
              1,
              "#f0f921"
             ]
            ],
            "type": "contour"
           }
          ],
          "contourcarpet": [
           {
            "colorbar": {
             "outlinewidth": 0,
             "ticks": ""
            },
            "type": "contourcarpet"
           }
          ],
          "heatmap": [
           {
            "colorbar": {
             "outlinewidth": 0,
             "ticks": ""
            },
            "colorscale": [
             [
              0,
              "#0d0887"
             ],
             [
              0.1111111111111111,
              "#46039f"
             ],
             [
              0.2222222222222222,
              "#7201a8"
             ],
             [
              0.3333333333333333,
              "#9c179e"
             ],
             [
              0.4444444444444444,
              "#bd3786"
             ],
             [
              0.5555555555555556,
              "#d8576b"
             ],
             [
              0.6666666666666666,
              "#ed7953"
             ],
             [
              0.7777777777777778,
              "#fb9f3a"
             ],
             [
              0.8888888888888888,
              "#fdca26"
             ],
             [
              1,
              "#f0f921"
             ]
            ],
            "type": "heatmap"
           }
          ],
          "heatmapgl": [
           {
            "colorbar": {
             "outlinewidth": 0,
             "ticks": ""
            },
            "colorscale": [
             [
              0,
              "#0d0887"
             ],
             [
              0.1111111111111111,
              "#46039f"
             ],
             [
              0.2222222222222222,
              "#7201a8"
             ],
             [
              0.3333333333333333,
              "#9c179e"
             ],
             [
              0.4444444444444444,
              "#bd3786"
             ],
             [
              0.5555555555555556,
              "#d8576b"
             ],
             [
              0.6666666666666666,
              "#ed7953"
             ],
             [
              0.7777777777777778,
              "#fb9f3a"
             ],
             [
              0.8888888888888888,
              "#fdca26"
             ],
             [
              1,
              "#f0f921"
             ]
            ],
            "type": "heatmapgl"
           }
          ],
          "histogram": [
           {
            "marker": {
             "colorbar": {
              "outlinewidth": 0,
              "ticks": ""
             }
            },
            "type": "histogram"
           }
          ],
          "histogram2d": [
           {
            "colorbar": {
             "outlinewidth": 0,
             "ticks": ""
            },
            "colorscale": [
             [
              0,
              "#0d0887"
             ],
             [
              0.1111111111111111,
              "#46039f"
             ],
             [
              0.2222222222222222,
              "#7201a8"
             ],
             [
              0.3333333333333333,
              "#9c179e"
             ],
             [
              0.4444444444444444,
              "#bd3786"
             ],
             [
              0.5555555555555556,
              "#d8576b"
             ],
             [
              0.6666666666666666,
              "#ed7953"
             ],
             [
              0.7777777777777778,
              "#fb9f3a"
             ],
             [
              0.8888888888888888,
              "#fdca26"
             ],
             [
              1,
              "#f0f921"
             ]
            ],
            "type": "histogram2d"
           }
          ],
          "histogram2dcontour": [
           {
            "colorbar": {
             "outlinewidth": 0,
             "ticks": ""
            },
            "colorscale": [
             [
              0,
              "#0d0887"
             ],
             [
              0.1111111111111111,
              "#46039f"
             ],
             [
              0.2222222222222222,
              "#7201a8"
             ],
             [
              0.3333333333333333,
              "#9c179e"
             ],
             [
              0.4444444444444444,
              "#bd3786"
             ],
             [
              0.5555555555555556,
              "#d8576b"
             ],
             [
              0.6666666666666666,
              "#ed7953"
             ],
             [
              0.7777777777777778,
              "#fb9f3a"
             ],
             [
              0.8888888888888888,
              "#fdca26"
             ],
             [
              1,
              "#f0f921"
             ]
            ],
            "type": "histogram2dcontour"
           }
          ],
          "mesh3d": [
           {
            "colorbar": {
             "outlinewidth": 0,
             "ticks": ""
            },
            "type": "mesh3d"
           }
          ],
          "parcoords": [
           {
            "line": {
             "colorbar": {
              "outlinewidth": 0,
              "ticks": ""
             }
            },
            "type": "parcoords"
           }
          ],
          "pie": [
           {
            "automargin": true,
            "type": "pie"
           }
          ],
          "scatter": [
           {
            "marker": {
             "colorbar": {
              "outlinewidth": 0,
              "ticks": ""
             }
            },
            "type": "scatter"
           }
          ],
          "scatter3d": [
           {
            "line": {
             "colorbar": {
              "outlinewidth": 0,
              "ticks": ""
             }
            },
            "marker": {
             "colorbar": {
              "outlinewidth": 0,
              "ticks": ""
             }
            },
            "type": "scatter3d"
           }
          ],
          "scattercarpet": [
           {
            "marker": {
             "colorbar": {
              "outlinewidth": 0,
              "ticks": ""
             }
            },
            "type": "scattercarpet"
           }
          ],
          "scattergeo": [
           {
            "marker": {
             "colorbar": {
              "outlinewidth": 0,
              "ticks": ""
             }
            },
            "type": "scattergeo"
           }
          ],
          "scattergl": [
           {
            "marker": {
             "colorbar": {
              "outlinewidth": 0,
              "ticks": ""
             }
            },
            "type": "scattergl"
           }
          ],
          "scattermapbox": [
           {
            "marker": {
             "colorbar": {
              "outlinewidth": 0,
              "ticks": ""
             }
            },
            "type": "scattermapbox"
           }
          ],
          "scatterpolar": [
           {
            "marker": {
             "colorbar": {
              "outlinewidth": 0,
              "ticks": ""
             }
            },
            "type": "scatterpolar"
           }
          ],
          "scatterpolargl": [
           {
            "marker": {
             "colorbar": {
              "outlinewidth": 0,
              "ticks": ""
             }
            },
            "type": "scatterpolargl"
           }
          ],
          "scatterternary": [
           {
            "marker": {
             "colorbar": {
              "outlinewidth": 0,
              "ticks": ""
             }
            },
            "type": "scatterternary"
           }
          ],
          "surface": [
           {
            "colorbar": {
             "outlinewidth": 0,
             "ticks": ""
            },
            "colorscale": [
             [
              0,
              "#0d0887"
             ],
             [
              0.1111111111111111,
              "#46039f"
             ],
             [
              0.2222222222222222,
              "#7201a8"
             ],
             [
              0.3333333333333333,
              "#9c179e"
             ],
             [
              0.4444444444444444,
              "#bd3786"
             ],
             [
              0.5555555555555556,
              "#d8576b"
             ],
             [
              0.6666666666666666,
              "#ed7953"
             ],
             [
              0.7777777777777778,
              "#fb9f3a"
             ],
             [
              0.8888888888888888,
              "#fdca26"
             ],
             [
              1,
              "#f0f921"
             ]
            ],
            "type": "surface"
           }
          ],
          "table": [
           {
            "cells": {
             "fill": {
              "color": "#EBF0F8"
             },
             "line": {
              "color": "white"
             }
            },
            "header": {
             "fill": {
              "color": "#C8D4E3"
             },
             "line": {
              "color": "white"
             }
            },
            "type": "table"
           }
          ]
         },
         "layout": {
          "annotationdefaults": {
           "arrowcolor": "#2a3f5f",
           "arrowhead": 0,
           "arrowwidth": 1
          },
          "coloraxis": {
           "colorbar": {
            "outlinewidth": 0,
            "ticks": ""
           }
          },
          "colorscale": {
           "diverging": [
            [
             0,
             "#8e0152"
            ],
            [
             0.1,
             "#c51b7d"
            ],
            [
             0.2,
             "#de77ae"
            ],
            [
             0.3,
             "#f1b6da"
            ],
            [
             0.4,
             "#fde0ef"
            ],
            [
             0.5,
             "#f7f7f7"
            ],
            [
             0.6,
             "#e6f5d0"
            ],
            [
             0.7,
             "#b8e186"
            ],
            [
             0.8,
             "#7fbc41"
            ],
            [
             0.9,
             "#4d9221"
            ],
            [
             1,
             "#276419"
            ]
           ],
           "sequential": [
            [
             0,
             "#0d0887"
            ],
            [
             0.1111111111111111,
             "#46039f"
            ],
            [
             0.2222222222222222,
             "#7201a8"
            ],
            [
             0.3333333333333333,
             "#9c179e"
            ],
            [
             0.4444444444444444,
             "#bd3786"
            ],
            [
             0.5555555555555556,
             "#d8576b"
            ],
            [
             0.6666666666666666,
             "#ed7953"
            ],
            [
             0.7777777777777778,
             "#fb9f3a"
            ],
            [
             0.8888888888888888,
             "#fdca26"
            ],
            [
             1,
             "#f0f921"
            ]
           ],
           "sequentialminus": [
            [
             0,
             "#0d0887"
            ],
            [
             0.1111111111111111,
             "#46039f"
            ],
            [
             0.2222222222222222,
             "#7201a8"
            ],
            [
             0.3333333333333333,
             "#9c179e"
            ],
            [
             0.4444444444444444,
             "#bd3786"
            ],
            [
             0.5555555555555556,
             "#d8576b"
            ],
            [
             0.6666666666666666,
             "#ed7953"
            ],
            [
             0.7777777777777778,
             "#fb9f3a"
            ],
            [
             0.8888888888888888,
             "#fdca26"
            ],
            [
             1,
             "#f0f921"
            ]
           ]
          },
          "colorway": [
           "#636efa",
           "#EF553B",
           "#00cc96",
           "#ab63fa",
           "#FFA15A",
           "#19d3f3",
           "#FF6692",
           "#B6E880",
           "#FF97FF",
           "#FECB52"
          ],
          "font": {
           "color": "#2a3f5f"
          },
          "geo": {
           "bgcolor": "white",
           "lakecolor": "white",
           "landcolor": "#E5ECF6",
           "showlakes": true,
           "showland": true,
           "subunitcolor": "white"
          },
          "hoverlabel": {
           "align": "left"
          },
          "hovermode": "closest",
          "mapbox": {
           "style": "light"
          },
          "paper_bgcolor": "white",
          "plot_bgcolor": "#E5ECF6",
          "polar": {
           "angularaxis": {
            "gridcolor": "white",
            "linecolor": "white",
            "ticks": ""
           },
           "bgcolor": "#E5ECF6",
           "radialaxis": {
            "gridcolor": "white",
            "linecolor": "white",
            "ticks": ""
           }
          },
          "scene": {
           "xaxis": {
            "backgroundcolor": "#E5ECF6",
            "gridcolor": "white",
            "gridwidth": 2,
            "linecolor": "white",
            "showbackground": true,
            "ticks": "",
            "zerolinecolor": "white"
           },
           "yaxis": {
            "backgroundcolor": "#E5ECF6",
            "gridcolor": "white",
            "gridwidth": 2,
            "linecolor": "white",
            "showbackground": true,
            "ticks": "",
            "zerolinecolor": "white"
           },
           "zaxis": {
            "backgroundcolor": "#E5ECF6",
            "gridcolor": "white",
            "gridwidth": 2,
            "linecolor": "white",
            "showbackground": true,
            "ticks": "",
            "zerolinecolor": "white"
           }
          },
          "shapedefaults": {
           "line": {
            "color": "#2a3f5f"
           }
          },
          "ternary": {
           "aaxis": {
            "gridcolor": "white",
            "linecolor": "white",
            "ticks": ""
           },
           "baxis": {
            "gridcolor": "white",
            "linecolor": "white",
            "ticks": ""
           },
           "bgcolor": "#E5ECF6",
           "caxis": {
            "gridcolor": "white",
            "linecolor": "white",
            "ticks": ""
           }
          },
          "title": {
           "x": 0.05
          },
          "xaxis": {
           "automargin": true,
           "gridcolor": "white",
           "linecolor": "white",
           "ticks": "",
           "title": {
            "standoff": 15
           },
           "zerolinecolor": "white",
           "zerolinewidth": 2
          },
          "yaxis": {
           "automargin": true,
           "gridcolor": "white",
           "linecolor": "white",
           "ticks": "",
           "title": {
            "standoff": 15
           },
           "zerolinecolor": "white",
           "zerolinewidth": 2
          }
         }
        },
        "title": {
         "text": "Recoveries in States"
        },
        "width": 1000
       }
      }
     },
     "metadata": {}
    }
   ],
   "source": [
    "data = go.Data([go.Bar(x=states_cases['States'], y=states_cases['Recoveries'], orientation='v', marker={'color':'#32b432'})])\n",
    "layout = go.Layout(title=\"Recoveries in States\", width=1000)\n",
    "fig = go.Figure(data=data, layout=layout)\n",
    "iplot(fig)"
   ]
  },
  {
   "cell_type": "code",
   "execution_count": 46,
   "metadata": {},
   "outputs": [
    {
     "output_type": "display_data",
     "data": {
      "application/vnd.plotly.v1+json": {
       "config": {
        "linkText": "Export to plot.ly",
        "plotlyServerURL": "https://plot.ly",
        "showLink": false
       },
       "data": [
        {
         "marker": {
          "color": "#db3b3c"
         },
         "orientation": "v",
         "type": "bar",
         "x": [
          "Andaman and Nicobar Islands",
          "Andhra Pradesh",
          "Arunachal Pradesh",
          "Assam",
          "Bihar",
          "Chandigarh",
          "Chhattisgarh",
          "Dadra and Nagar Haveli and Daman and Diu",
          "Delhi",
          "Goa",
          "Gujarat",
          "Haryana",
          "Himachal Pradesh",
          "Jammu and Kashmir",
          "Jharkhand",
          "Karnataka",
          "Kerala",
          "Ladakh",
          "Lakshadweep",
          "Madhya Pradesh",
          "Maharashtra",
          "Manipur",
          "Meghalaya",
          "Mizoram",
          "Nagaland",
          "Odisha",
          "Puducherry",
          "Punjab",
          "Rajasthan",
          "Sikkim",
          "Tamil Nadu",
          "Telangana",
          "Tripura",
          "Uttarakhand",
          "Uttar Pradesh",
          "West Bengal"
         ],
         "y": [
          0,
          328,
          2,
          35,
          143,
          8,
          19,
          0,
          3371,
          14,
          2045,
          301,
          11,
          179,
          30,
          684,
          31,
          1,
          0,
          653,
          10289,
          0,
          2,
          0,
          0,
          64,
          18,
          199,
          510,
          0,
          1966,
          356,
          2,
          47,
          934,
          932
         ]
        }
       ],
       "layout": {
        "template": {
         "data": {
          "bar": [
           {
            "error_x": {
             "color": "#2a3f5f"
            },
            "error_y": {
             "color": "#2a3f5f"
            },
            "marker": {
             "line": {
              "color": "#E5ECF6",
              "width": 0.5
             }
            },
            "type": "bar"
           }
          ],
          "barpolar": [
           {
            "marker": {
             "line": {
              "color": "#E5ECF6",
              "width": 0.5
             }
            },
            "type": "barpolar"
           }
          ],
          "carpet": [
           {
            "aaxis": {
             "endlinecolor": "#2a3f5f",
             "gridcolor": "white",
             "linecolor": "white",
             "minorgridcolor": "white",
             "startlinecolor": "#2a3f5f"
            },
            "baxis": {
             "endlinecolor": "#2a3f5f",
             "gridcolor": "white",
             "linecolor": "white",
             "minorgridcolor": "white",
             "startlinecolor": "#2a3f5f"
            },
            "type": "carpet"
           }
          ],
          "choropleth": [
           {
            "colorbar": {
             "outlinewidth": 0,
             "ticks": ""
            },
            "type": "choropleth"
           }
          ],
          "contour": [
           {
            "colorbar": {
             "outlinewidth": 0,
             "ticks": ""
            },
            "colorscale": [
             [
              0,
              "#0d0887"
             ],
             [
              0.1111111111111111,
              "#46039f"
             ],
             [
              0.2222222222222222,
              "#7201a8"
             ],
             [
              0.3333333333333333,
              "#9c179e"
             ],
             [
              0.4444444444444444,
              "#bd3786"
             ],
             [
              0.5555555555555556,
              "#d8576b"
             ],
             [
              0.6666666666666666,
              "#ed7953"
             ],
             [
              0.7777777777777778,
              "#fb9f3a"
             ],
             [
              0.8888888888888888,
              "#fdca26"
             ],
             [
              1,
              "#f0f921"
             ]
            ],
            "type": "contour"
           }
          ],
          "contourcarpet": [
           {
            "colorbar": {
             "outlinewidth": 0,
             "ticks": ""
            },
            "type": "contourcarpet"
           }
          ],
          "heatmap": [
           {
            "colorbar": {
             "outlinewidth": 0,
             "ticks": ""
            },
            "colorscale": [
             [
              0,
              "#0d0887"
             ],
             [
              0.1111111111111111,
              "#46039f"
             ],
             [
              0.2222222222222222,
              "#7201a8"
             ],
             [
              0.3333333333333333,
              "#9c179e"
             ],
             [
              0.4444444444444444,
              "#bd3786"
             ],
             [
              0.5555555555555556,
              "#d8576b"
             ],
             [
              0.6666666666666666,
              "#ed7953"
             ],
             [
              0.7777777777777778,
              "#fb9f3a"
             ],
             [
              0.8888888888888888,
              "#fdca26"
             ],
             [
              1,
              "#f0f921"
             ]
            ],
            "type": "heatmap"
           }
          ],
          "heatmapgl": [
           {
            "colorbar": {
             "outlinewidth": 0,
             "ticks": ""
            },
            "colorscale": [
             [
              0,
              "#0d0887"
             ],
             [
              0.1111111111111111,
              "#46039f"
             ],
             [
              0.2222222222222222,
              "#7201a8"
             ],
             [
              0.3333333333333333,
              "#9c179e"
             ],
             [
              0.4444444444444444,
              "#bd3786"
             ],
             [
              0.5555555555555556,
              "#d8576b"
             ],
             [
              0.6666666666666666,
              "#ed7953"
             ],
             [
              0.7777777777777778,
              "#fb9f3a"
             ],
             [
              0.8888888888888888,
              "#fdca26"
             ],
             [
              1,
              "#f0f921"
             ]
            ],
            "type": "heatmapgl"
           }
          ],
          "histogram": [
           {
            "marker": {
             "colorbar": {
              "outlinewidth": 0,
              "ticks": ""
             }
            },
            "type": "histogram"
           }
          ],
          "histogram2d": [
           {
            "colorbar": {
             "outlinewidth": 0,
             "ticks": ""
            },
            "colorscale": [
             [
              0,
              "#0d0887"
             ],
             [
              0.1111111111111111,
              "#46039f"
             ],
             [
              0.2222222222222222,
              "#7201a8"
             ],
             [
              0.3333333333333333,
              "#9c179e"
             ],
             [
              0.4444444444444444,
              "#bd3786"
             ],
             [
              0.5555555555555556,
              "#d8576b"
             ],
             [
              0.6666666666666666,
              "#ed7953"
             ],
             [
              0.7777777777777778,
              "#fb9f3a"
             ],
             [
              0.8888888888888888,
              "#fdca26"
             ],
             [
              1,
              "#f0f921"
             ]
            ],
            "type": "histogram2d"
           }
          ],
          "histogram2dcontour": [
           {
            "colorbar": {
             "outlinewidth": 0,
             "ticks": ""
            },
            "colorscale": [
             [
              0,
              "#0d0887"
             ],
             [
              0.1111111111111111,
              "#46039f"
             ],
             [
              0.2222222222222222,
              "#7201a8"
             ],
             [
              0.3333333333333333,
              "#9c179e"
             ],
             [
              0.4444444444444444,
              "#bd3786"
             ],
             [
              0.5555555555555556,
              "#d8576b"
             ],
             [
              0.6666666666666666,
              "#ed7953"
             ],
             [
              0.7777777777777778,
              "#fb9f3a"
             ],
             [
              0.8888888888888888,
              "#fdca26"
             ],
             [
              1,
              "#f0f921"
             ]
            ],
            "type": "histogram2dcontour"
           }
          ],
          "mesh3d": [
           {
            "colorbar": {
             "outlinewidth": 0,
             "ticks": ""
            },
            "type": "mesh3d"
           }
          ],
          "parcoords": [
           {
            "line": {
             "colorbar": {
              "outlinewidth": 0,
              "ticks": ""
             }
            },
            "type": "parcoords"
           }
          ],
          "pie": [
           {
            "automargin": true,
            "type": "pie"
           }
          ],
          "scatter": [
           {
            "marker": {
             "colorbar": {
              "outlinewidth": 0,
              "ticks": ""
             }
            },
            "type": "scatter"
           }
          ],
          "scatter3d": [
           {
            "line": {
             "colorbar": {
              "outlinewidth": 0,
              "ticks": ""
             }
            },
            "marker": {
             "colorbar": {
              "outlinewidth": 0,
              "ticks": ""
             }
            },
            "type": "scatter3d"
           }
          ],
          "scattercarpet": [
           {
            "marker": {
             "colorbar": {
              "outlinewidth": 0,
              "ticks": ""
             }
            },
            "type": "scattercarpet"
           }
          ],
          "scattergeo": [
           {
            "marker": {
             "colorbar": {
              "outlinewidth": 0,
              "ticks": ""
             }
            },
            "type": "scattergeo"
           }
          ],
          "scattergl": [
           {
            "marker": {
             "colorbar": {
              "outlinewidth": 0,
              "ticks": ""
             }
            },
            "type": "scattergl"
           }
          ],
          "scattermapbox": [
           {
            "marker": {
             "colorbar": {
              "outlinewidth": 0,
              "ticks": ""
             }
            },
            "type": "scattermapbox"
           }
          ],
          "scatterpolar": [
           {
            "marker": {
             "colorbar": {
              "outlinewidth": 0,
              "ticks": ""
             }
            },
            "type": "scatterpolar"
           }
          ],
          "scatterpolargl": [
           {
            "marker": {
             "colorbar": {
              "outlinewidth": 0,
              "ticks": ""
             }
            },
            "type": "scatterpolargl"
           }
          ],
          "scatterternary": [
           {
            "marker": {
             "colorbar": {
              "outlinewidth": 0,
              "ticks": ""
             }
            },
            "type": "scatterternary"
           }
          ],
          "surface": [
           {
            "colorbar": {
             "outlinewidth": 0,
             "ticks": ""
            },
            "colorscale": [
             [
              0,
              "#0d0887"
             ],
             [
              0.1111111111111111,
              "#46039f"
             ],
             [
              0.2222222222222222,
              "#7201a8"
             ],
             [
              0.3333333333333333,
              "#9c179e"
             ],
             [
              0.4444444444444444,
              "#bd3786"
             ],
             [
              0.5555555555555556,
              "#d8576b"
             ],
             [
              0.6666666666666666,
              "#ed7953"
             ],
             [
              0.7777777777777778,
              "#fb9f3a"
             ],
             [
              0.8888888888888888,
              "#fdca26"
             ],
             [
              1,
              "#f0f921"
             ]
            ],
            "type": "surface"
           }
          ],
          "table": [
           {
            "cells": {
             "fill": {
              "color": "#EBF0F8"
             },
             "line": {
              "color": "white"
             }
            },
            "header": {
             "fill": {
              "color": "#C8D4E3"
             },
             "line": {
              "color": "white"
             }
            },
            "type": "table"
           }
          ]
         },
         "layout": {
          "annotationdefaults": {
           "arrowcolor": "#2a3f5f",
           "arrowhead": 0,
           "arrowwidth": 1
          },
          "coloraxis": {
           "colorbar": {
            "outlinewidth": 0,
            "ticks": ""
           }
          },
          "colorscale": {
           "diverging": [
            [
             0,
             "#8e0152"
            ],
            [
             0.1,
             "#c51b7d"
            ],
            [
             0.2,
             "#de77ae"
            ],
            [
             0.3,
             "#f1b6da"
            ],
            [
             0.4,
             "#fde0ef"
            ],
            [
             0.5,
             "#f7f7f7"
            ],
            [
             0.6,
             "#e6f5d0"
            ],
            [
             0.7,
             "#b8e186"
            ],
            [
             0.8,
             "#7fbc41"
            ],
            [
             0.9,
             "#4d9221"
            ],
            [
             1,
             "#276419"
            ]
           ],
           "sequential": [
            [
             0,
             "#0d0887"
            ],
            [
             0.1111111111111111,
             "#46039f"
            ],
            [
             0.2222222222222222,
             "#7201a8"
            ],
            [
             0.3333333333333333,
             "#9c179e"
            ],
            [
             0.4444444444444444,
             "#bd3786"
            ],
            [
             0.5555555555555556,
             "#d8576b"
            ],
            [
             0.6666666666666666,
             "#ed7953"
            ],
            [
             0.7777777777777778,
             "#fb9f3a"
            ],
            [
             0.8888888888888888,
             "#fdca26"
            ],
            [
             1,
             "#f0f921"
            ]
           ],
           "sequentialminus": [
            [
             0,
             "#0d0887"
            ],
            [
             0.1111111111111111,
             "#46039f"
            ],
            [
             0.2222222222222222,
             "#7201a8"
            ],
            [
             0.3333333333333333,
             "#9c179e"
            ],
            [
             0.4444444444444444,
             "#bd3786"
            ],
            [
             0.5555555555555556,
             "#d8576b"
            ],
            [
             0.6666666666666666,
             "#ed7953"
            ],
            [
             0.7777777777777778,
             "#fb9f3a"
            ],
            [
             0.8888888888888888,
             "#fdca26"
            ],
            [
             1,
             "#f0f921"
            ]
           ]
          },
          "colorway": [
           "#636efa",
           "#EF553B",
           "#00cc96",
           "#ab63fa",
           "#FFA15A",
           "#19d3f3",
           "#FF6692",
           "#B6E880",
           "#FF97FF",
           "#FECB52"
          ],
          "font": {
           "color": "#2a3f5f"
          },
          "geo": {
           "bgcolor": "white",
           "lakecolor": "white",
           "landcolor": "#E5ECF6",
           "showlakes": true,
           "showland": true,
           "subunitcolor": "white"
          },
          "hoverlabel": {
           "align": "left"
          },
          "hovermode": "closest",
          "mapbox": {
           "style": "light"
          },
          "paper_bgcolor": "white",
          "plot_bgcolor": "#E5ECF6",
          "polar": {
           "angularaxis": {
            "gridcolor": "white",
            "linecolor": "white",
            "ticks": ""
           },
           "bgcolor": "#E5ECF6",
           "radialaxis": {
            "gridcolor": "white",
            "linecolor": "white",
            "ticks": ""
           }
          },
          "scene": {
           "xaxis": {
            "backgroundcolor": "#E5ECF6",
            "gridcolor": "white",
            "gridwidth": 2,
            "linecolor": "white",
            "showbackground": true,
            "ticks": "",
            "zerolinecolor": "white"
           },
           "yaxis": {
            "backgroundcolor": "#E5ECF6",
            "gridcolor": "white",
            "gridwidth": 2,
            "linecolor": "white",
            "showbackground": true,
            "ticks": "",
            "zerolinecolor": "white"
           },
           "zaxis": {
            "backgroundcolor": "#E5ECF6",
            "gridcolor": "white",
            "gridwidth": 2,
            "linecolor": "white",
            "showbackground": true,
            "ticks": "",
            "zerolinecolor": "white"
           }
          },
          "shapedefaults": {
           "line": {
            "color": "#2a3f5f"
           }
          },
          "ternary": {
           "aaxis": {
            "gridcolor": "white",
            "linecolor": "white",
            "ticks": ""
           },
           "baxis": {
            "gridcolor": "white",
            "linecolor": "white",
            "ticks": ""
           },
           "bgcolor": "#E5ECF6",
           "caxis": {
            "gridcolor": "white",
            "linecolor": "white",
            "ticks": ""
           }
          },
          "title": {
           "x": 0.05
          },
          "xaxis": {
           "automargin": true,
           "gridcolor": "white",
           "linecolor": "white",
           "ticks": "",
           "title": {
            "standoff": 15
           },
           "zerolinecolor": "white",
           "zerolinewidth": 2
          },
          "yaxis": {
           "automargin": true,
           "gridcolor": "white",
           "linecolor": "white",
           "ticks": "",
           "title": {
            "standoff": 15
           },
           "zerolinecolor": "white",
           "zerolinewidth": 2
          }
         }
        },
        "title": {
         "text": "Deaths in States"
        },
        "width": 1000
       }
      }
     },
     "metadata": {}
    }
   ],
   "source": [
    "data = go.Data([go.Bar(x=states_cases['States'], y=states_cases['Deaths'], orientation='v', marker={'color':'#db3b3c'})])\n",
    "layout = go.Layout(title=\"Deaths in States\", width=1000)\n",
    "fig = go.Figure(data=data, layout=layout)\n",
    "iplot(fig)"
   ]
  },
  {
   "cell_type": "code",
   "execution_count": 15,
   "metadata": {},
   "outputs": [],
   "source": [
    "#if we want to generate a csv file\n",
    "#web_page.to_csv('covid19india.csv')"
   ]
  },
  {
   "cell_type": "code",
   "execution_count": 16,
   "metadata": {},
   "outputs": [],
   "source": [
    "cases = pd.read_csv('indiacases_datasets.csv')"
   ]
  },
  {
   "cell_type": "code",
   "execution_count": 17,
   "metadata": {},
   "outputs": [
    {
     "output_type": "execute_result",
     "data": {
      "text/plain": "         Date Name of State / UT  Latitude  Longitude  Total Confirmed cases  \\\n0  2020-01-30             Kerala   10.8505    76.2711                      1   \n1  2020-01-31             Kerala   10.8505    76.2711                      1   \n2  2020-02-01             Kerala   10.8505    76.2711                      2   \n3  2020-02-02             Kerala   10.8505    76.2711                      3   \n4  2020-02-03             Kerala   10.8505    76.2711                      3   \n\n   Death  Cured/Discharged/Migrated  New cases  New deaths  New recovered  \n0      0                          0          0           0              0  \n1      0                          0          0           0              0  \n2      0                          0          1           0              0  \n3      0                          0          1           0              0  \n4      0                          0          0           0              0  ",
      "text/html": "<div>\n<style scoped>\n    .dataframe tbody tr th:only-of-type {\n        vertical-align: middle;\n    }\n\n    .dataframe tbody tr th {\n        vertical-align: top;\n    }\n\n    .dataframe thead th {\n        text-align: right;\n    }\n</style>\n<table border=\"1\" class=\"dataframe\">\n  <thead>\n    <tr style=\"text-align: right;\">\n      <th></th>\n      <th>Date</th>\n      <th>Name of State / UT</th>\n      <th>Latitude</th>\n      <th>Longitude</th>\n      <th>Total Confirmed cases</th>\n      <th>Death</th>\n      <th>Cured/Discharged/Migrated</th>\n      <th>New cases</th>\n      <th>New deaths</th>\n      <th>New recovered</th>\n    </tr>\n  </thead>\n  <tbody>\n    <tr>\n      <th>0</th>\n      <td>2020-01-30</td>\n      <td>Kerala</td>\n      <td>10.8505</td>\n      <td>76.2711</td>\n      <td>1</td>\n      <td>0</td>\n      <td>0</td>\n      <td>0</td>\n      <td>0</td>\n      <td>0</td>\n    </tr>\n    <tr>\n      <th>1</th>\n      <td>2020-01-31</td>\n      <td>Kerala</td>\n      <td>10.8505</td>\n      <td>76.2711</td>\n      <td>1</td>\n      <td>0</td>\n      <td>0</td>\n      <td>0</td>\n      <td>0</td>\n      <td>0</td>\n    </tr>\n    <tr>\n      <th>2</th>\n      <td>2020-02-01</td>\n      <td>Kerala</td>\n      <td>10.8505</td>\n      <td>76.2711</td>\n      <td>2</td>\n      <td>0</td>\n      <td>0</td>\n      <td>1</td>\n      <td>0</td>\n      <td>0</td>\n    </tr>\n    <tr>\n      <th>3</th>\n      <td>2020-02-02</td>\n      <td>Kerala</td>\n      <td>10.8505</td>\n      <td>76.2711</td>\n      <td>3</td>\n      <td>0</td>\n      <td>0</td>\n      <td>1</td>\n      <td>0</td>\n      <td>0</td>\n    </tr>\n    <tr>\n      <th>4</th>\n      <td>2020-02-03</td>\n      <td>Kerala</td>\n      <td>10.8505</td>\n      <td>76.2711</td>\n      <td>3</td>\n      <td>0</td>\n      <td>0</td>\n      <td>0</td>\n      <td>0</td>\n      <td>0</td>\n    </tr>\n  </tbody>\n</table>\n</div>"
     },
     "metadata": {},
     "execution_count": 17
    }
   ],
   "source": [
    "cases.head()"
   ]
  },
  {
   "cell_type": "code",
   "execution_count": 18,
   "metadata": {},
   "outputs": [
    {
     "output_type": "execute_result",
     "data": {
      "text/plain": "         Date Name of State / UT  Total Confirmed cases  Death  \\\n0  2020-01-30             Kerala                      1      0   \n1  2020-01-31             Kerala                      1      0   \n2  2020-02-01             Kerala                      2      0   \n3  2020-02-02             Kerala                      3      0   \n4  2020-02-03             Kerala                      3      0   \n\n   Cured/Discharged/Migrated  \n0                          0  \n1                          0  \n2                          0  \n3                          0  \n4                          0  ",
      "text/html": "<div>\n<style scoped>\n    .dataframe tbody tr th:only-of-type {\n        vertical-align: middle;\n    }\n\n    .dataframe tbody tr th {\n        vertical-align: top;\n    }\n\n    .dataframe thead th {\n        text-align: right;\n    }\n</style>\n<table border=\"1\" class=\"dataframe\">\n  <thead>\n    <tr style=\"text-align: right;\">\n      <th></th>\n      <th>Date</th>\n      <th>Name of State / UT</th>\n      <th>Total Confirmed cases</th>\n      <th>Death</th>\n      <th>Cured/Discharged/Migrated</th>\n    </tr>\n  </thead>\n  <tbody>\n    <tr>\n      <th>0</th>\n      <td>2020-01-30</td>\n      <td>Kerala</td>\n      <td>1</td>\n      <td>0</td>\n      <td>0</td>\n    </tr>\n    <tr>\n      <th>1</th>\n      <td>2020-01-31</td>\n      <td>Kerala</td>\n      <td>1</td>\n      <td>0</td>\n      <td>0</td>\n    </tr>\n    <tr>\n      <th>2</th>\n      <td>2020-02-01</td>\n      <td>Kerala</td>\n      <td>2</td>\n      <td>0</td>\n      <td>0</td>\n    </tr>\n    <tr>\n      <th>3</th>\n      <td>2020-02-02</td>\n      <td>Kerala</td>\n      <td>3</td>\n      <td>0</td>\n      <td>0</td>\n    </tr>\n    <tr>\n      <th>4</th>\n      <td>2020-02-03</td>\n      <td>Kerala</td>\n      <td>3</td>\n      <td>0</td>\n      <td>0</td>\n    </tr>\n  </tbody>\n</table>\n</div>"
     },
     "metadata": {},
     "execution_count": 18
    }
   ],
   "source": [
    "cases.drop(['Latitude', 'Longitude', 'New cases', 'New deaths', 'New recovered'], axis=1, inplace=True)\n",
    "cases.head()"
   ]
  },
  {
   "cell_type": "code",
   "execution_count": 19,
   "metadata": {},
   "outputs": [
    {
     "output_type": "execute_result",
     "data": {
      "text/plain": "          Date          State  Total_Cases  Deaths  Recoveries\n0   2020-01-30         Kerala            1       0           0\n1   2020-01-31         Kerala            1       0           0\n2   2020-02-01         Kerala            2       0           0\n3   2020-02-02         Kerala            3       0           0\n4   2020-02-03         Kerala            3       0           0\n5   2020-02-04         Kerala            3       0           0\n6   2020-02-05         Kerala            3       0           0\n7   2020-02-06         Kerala            3       0           0\n8   2020-02-07         Kerala            3       0           0\n9   2020-02-08         Kerala            3       0           0\n10  2020-02-09         Kerala            3       0           0\n11  2020-02-10         Kerala            3       0           0\n12  2020-02-11         Kerala            3       0           0\n13  2020-02-12         Kerala            3       0           0\n14  2020-02-13         Kerala            3       0           0\n15  2020-02-14         Kerala            3       0           0\n16  2020-02-15         Kerala            3       0           0\n17  2020-02-16         Kerala            3       0           0\n18  2020-02-17         Kerala            3       0           0\n19  2020-02-18         Kerala            3       0           0\n20  2020-02-19         Kerala            3       0           0\n21  2020-02-20         Kerala            3       0           0\n22  2020-02-21         Kerala            3       0           0\n23  2020-02-22         Kerala            3       0           0\n24  2020-02-23         Kerala            3       0           0\n25  2020-02-24         Kerala            3       0           0\n26  2020-02-25         Kerala            3       0           0\n27  2020-02-26         Kerala            3       0           0\n28  2020-02-27         Kerala            3       0           0\n29  2020-02-28         Kerala            3       0           0\n30  2020-02-29         Kerala            3       0           0\n31  2020-03-01         Kerala            3       0           0\n32  2020-03-02          Delhi            1       0           0\n33  2020-03-02         Kerala            3       0           0\n34  2020-03-02      Telengana            1       0           0\n35  2020-03-03          Delhi            1       0           0\n36  2020-03-03         Kerala            3       0           3\n37  2020-03-03      Telengana            1       0           0\n38  2020-03-04          Delhi            1       0           0\n39  2020-03-04        Haryana           14       0           0\n40  2020-03-04         Kerala            3       0           3\n41  2020-03-04      Rajasthan            1       0           0\n42  2020-03-04      Telengana            1       0           0\n43  2020-03-04  Uttar Pradesh            6       0           0\n44  2020-03-05          Delhi            2       0           0\n45  2020-03-05        Haryana           14       0           0\n46  2020-03-05         Kerala            3       0           3\n47  2020-03-05      Rajasthan            1       0           0\n48  2020-03-05      Telengana            1       0           0\n49  2020-03-05  Uttar Pradesh            7       0           0",
      "text/html": "<div>\n<style scoped>\n    .dataframe tbody tr th:only-of-type {\n        vertical-align: middle;\n    }\n\n    .dataframe tbody tr th {\n        vertical-align: top;\n    }\n\n    .dataframe thead th {\n        text-align: right;\n    }\n</style>\n<table border=\"1\" class=\"dataframe\">\n  <thead>\n    <tr style=\"text-align: right;\">\n      <th></th>\n      <th>Date</th>\n      <th>State</th>\n      <th>Total_Cases</th>\n      <th>Deaths</th>\n      <th>Recoveries</th>\n    </tr>\n  </thead>\n  <tbody>\n    <tr>\n      <th>0</th>\n      <td>2020-01-30</td>\n      <td>Kerala</td>\n      <td>1</td>\n      <td>0</td>\n      <td>0</td>\n    </tr>\n    <tr>\n      <th>1</th>\n      <td>2020-01-31</td>\n      <td>Kerala</td>\n      <td>1</td>\n      <td>0</td>\n      <td>0</td>\n    </tr>\n    <tr>\n      <th>2</th>\n      <td>2020-02-01</td>\n      <td>Kerala</td>\n      <td>2</td>\n      <td>0</td>\n      <td>0</td>\n    </tr>\n    <tr>\n      <th>3</th>\n      <td>2020-02-02</td>\n      <td>Kerala</td>\n      <td>3</td>\n      <td>0</td>\n      <td>0</td>\n    </tr>\n    <tr>\n      <th>4</th>\n      <td>2020-02-03</td>\n      <td>Kerala</td>\n      <td>3</td>\n      <td>0</td>\n      <td>0</td>\n    </tr>\n    <tr>\n      <th>5</th>\n      <td>2020-02-04</td>\n      <td>Kerala</td>\n      <td>3</td>\n      <td>0</td>\n      <td>0</td>\n    </tr>\n    <tr>\n      <th>6</th>\n      <td>2020-02-05</td>\n      <td>Kerala</td>\n      <td>3</td>\n      <td>0</td>\n      <td>0</td>\n    </tr>\n    <tr>\n      <th>7</th>\n      <td>2020-02-06</td>\n      <td>Kerala</td>\n      <td>3</td>\n      <td>0</td>\n      <td>0</td>\n    </tr>\n    <tr>\n      <th>8</th>\n      <td>2020-02-07</td>\n      <td>Kerala</td>\n      <td>3</td>\n      <td>0</td>\n      <td>0</td>\n    </tr>\n    <tr>\n      <th>9</th>\n      <td>2020-02-08</td>\n      <td>Kerala</td>\n      <td>3</td>\n      <td>0</td>\n      <td>0</td>\n    </tr>\n    <tr>\n      <th>10</th>\n      <td>2020-02-09</td>\n      <td>Kerala</td>\n      <td>3</td>\n      <td>0</td>\n      <td>0</td>\n    </tr>\n    <tr>\n      <th>11</th>\n      <td>2020-02-10</td>\n      <td>Kerala</td>\n      <td>3</td>\n      <td>0</td>\n      <td>0</td>\n    </tr>\n    <tr>\n      <th>12</th>\n      <td>2020-02-11</td>\n      <td>Kerala</td>\n      <td>3</td>\n      <td>0</td>\n      <td>0</td>\n    </tr>\n    <tr>\n      <th>13</th>\n      <td>2020-02-12</td>\n      <td>Kerala</td>\n      <td>3</td>\n      <td>0</td>\n      <td>0</td>\n    </tr>\n    <tr>\n      <th>14</th>\n      <td>2020-02-13</td>\n      <td>Kerala</td>\n      <td>3</td>\n      <td>0</td>\n      <td>0</td>\n    </tr>\n    <tr>\n      <th>15</th>\n      <td>2020-02-14</td>\n      <td>Kerala</td>\n      <td>3</td>\n      <td>0</td>\n      <td>0</td>\n    </tr>\n    <tr>\n      <th>16</th>\n      <td>2020-02-15</td>\n      <td>Kerala</td>\n      <td>3</td>\n      <td>0</td>\n      <td>0</td>\n    </tr>\n    <tr>\n      <th>17</th>\n      <td>2020-02-16</td>\n      <td>Kerala</td>\n      <td>3</td>\n      <td>0</td>\n      <td>0</td>\n    </tr>\n    <tr>\n      <th>18</th>\n      <td>2020-02-17</td>\n      <td>Kerala</td>\n      <td>3</td>\n      <td>0</td>\n      <td>0</td>\n    </tr>\n    <tr>\n      <th>19</th>\n      <td>2020-02-18</td>\n      <td>Kerala</td>\n      <td>3</td>\n      <td>0</td>\n      <td>0</td>\n    </tr>\n    <tr>\n      <th>20</th>\n      <td>2020-02-19</td>\n      <td>Kerala</td>\n      <td>3</td>\n      <td>0</td>\n      <td>0</td>\n    </tr>\n    <tr>\n      <th>21</th>\n      <td>2020-02-20</td>\n      <td>Kerala</td>\n      <td>3</td>\n      <td>0</td>\n      <td>0</td>\n    </tr>\n    <tr>\n      <th>22</th>\n      <td>2020-02-21</td>\n      <td>Kerala</td>\n      <td>3</td>\n      <td>0</td>\n      <td>0</td>\n    </tr>\n    <tr>\n      <th>23</th>\n      <td>2020-02-22</td>\n      <td>Kerala</td>\n      <td>3</td>\n      <td>0</td>\n      <td>0</td>\n    </tr>\n    <tr>\n      <th>24</th>\n      <td>2020-02-23</td>\n      <td>Kerala</td>\n      <td>3</td>\n      <td>0</td>\n      <td>0</td>\n    </tr>\n    <tr>\n      <th>25</th>\n      <td>2020-02-24</td>\n      <td>Kerala</td>\n      <td>3</td>\n      <td>0</td>\n      <td>0</td>\n    </tr>\n    <tr>\n      <th>26</th>\n      <td>2020-02-25</td>\n      <td>Kerala</td>\n      <td>3</td>\n      <td>0</td>\n      <td>0</td>\n    </tr>\n    <tr>\n      <th>27</th>\n      <td>2020-02-26</td>\n      <td>Kerala</td>\n      <td>3</td>\n      <td>0</td>\n      <td>0</td>\n    </tr>\n    <tr>\n      <th>28</th>\n      <td>2020-02-27</td>\n      <td>Kerala</td>\n      <td>3</td>\n      <td>0</td>\n      <td>0</td>\n    </tr>\n    <tr>\n      <th>29</th>\n      <td>2020-02-28</td>\n      <td>Kerala</td>\n      <td>3</td>\n      <td>0</td>\n      <td>0</td>\n    </tr>\n    <tr>\n      <th>30</th>\n      <td>2020-02-29</td>\n      <td>Kerala</td>\n      <td>3</td>\n      <td>0</td>\n      <td>0</td>\n    </tr>\n    <tr>\n      <th>31</th>\n      <td>2020-03-01</td>\n      <td>Kerala</td>\n      <td>3</td>\n      <td>0</td>\n      <td>0</td>\n    </tr>\n    <tr>\n      <th>32</th>\n      <td>2020-03-02</td>\n      <td>Delhi</td>\n      <td>1</td>\n      <td>0</td>\n      <td>0</td>\n    </tr>\n    <tr>\n      <th>33</th>\n      <td>2020-03-02</td>\n      <td>Kerala</td>\n      <td>3</td>\n      <td>0</td>\n      <td>0</td>\n    </tr>\n    <tr>\n      <th>34</th>\n      <td>2020-03-02</td>\n      <td>Telengana</td>\n      <td>1</td>\n      <td>0</td>\n      <td>0</td>\n    </tr>\n    <tr>\n      <th>35</th>\n      <td>2020-03-03</td>\n      <td>Delhi</td>\n      <td>1</td>\n      <td>0</td>\n      <td>0</td>\n    </tr>\n    <tr>\n      <th>36</th>\n      <td>2020-03-03</td>\n      <td>Kerala</td>\n      <td>3</td>\n      <td>0</td>\n      <td>3</td>\n    </tr>\n    <tr>\n      <th>37</th>\n      <td>2020-03-03</td>\n      <td>Telengana</td>\n      <td>1</td>\n      <td>0</td>\n      <td>0</td>\n    </tr>\n    <tr>\n      <th>38</th>\n      <td>2020-03-04</td>\n      <td>Delhi</td>\n      <td>1</td>\n      <td>0</td>\n      <td>0</td>\n    </tr>\n    <tr>\n      <th>39</th>\n      <td>2020-03-04</td>\n      <td>Haryana</td>\n      <td>14</td>\n      <td>0</td>\n      <td>0</td>\n    </tr>\n    <tr>\n      <th>40</th>\n      <td>2020-03-04</td>\n      <td>Kerala</td>\n      <td>3</td>\n      <td>0</td>\n      <td>3</td>\n    </tr>\n    <tr>\n      <th>41</th>\n      <td>2020-03-04</td>\n      <td>Rajasthan</td>\n      <td>1</td>\n      <td>0</td>\n      <td>0</td>\n    </tr>\n    <tr>\n      <th>42</th>\n      <td>2020-03-04</td>\n      <td>Telengana</td>\n      <td>1</td>\n      <td>0</td>\n      <td>0</td>\n    </tr>\n    <tr>\n      <th>43</th>\n      <td>2020-03-04</td>\n      <td>Uttar Pradesh</td>\n      <td>6</td>\n      <td>0</td>\n      <td>0</td>\n    </tr>\n    <tr>\n      <th>44</th>\n      <td>2020-03-05</td>\n      <td>Delhi</td>\n      <td>2</td>\n      <td>0</td>\n      <td>0</td>\n    </tr>\n    <tr>\n      <th>45</th>\n      <td>2020-03-05</td>\n      <td>Haryana</td>\n      <td>14</td>\n      <td>0</td>\n      <td>0</td>\n    </tr>\n    <tr>\n      <th>46</th>\n      <td>2020-03-05</td>\n      <td>Kerala</td>\n      <td>3</td>\n      <td>0</td>\n      <td>3</td>\n    </tr>\n    <tr>\n      <th>47</th>\n      <td>2020-03-05</td>\n      <td>Rajasthan</td>\n      <td>1</td>\n      <td>0</td>\n      <td>0</td>\n    </tr>\n    <tr>\n      <th>48</th>\n      <td>2020-03-05</td>\n      <td>Telengana</td>\n      <td>1</td>\n      <td>0</td>\n      <td>0</td>\n    </tr>\n    <tr>\n      <th>49</th>\n      <td>2020-03-05</td>\n      <td>Uttar Pradesh</td>\n      <td>7</td>\n      <td>0</td>\n      <td>0</td>\n    </tr>\n  </tbody>\n</table>\n</div>"
     },
     "metadata": {},
     "execution_count": 19
    }
   ],
   "source": [
    "cases.columns = ['Date', 'State', 'Total_Cases', 'Deaths', 'Recoveries']\n",
    "cases.head(50)"
   ]
  },
  {
   "cell_type": "code",
   "execution_count": 47,
   "metadata": {},
   "outputs": [],
   "source": [
    "states=[]\n",
    "def df_s(*args):\n",
    "    for every_state in args:\n",
    "        df = pd.DataFrame(cases.loc[cases['State'].values==every_state])\n",
    "        states.append(df)\n",
    "    return states"
   ]
  },
  {
   "cell_type": "code",
   "execution_count": 48,
   "metadata": {},
   "outputs": [],
   "source": [
    "def plot_state(df):\n",
    "    for every_df in args: \n",
    "        Fig = go.Figure()\n",
    "        Fig.add_trace(go.Scatter(x=every_df['Date'], y=every_df['Total_Cases'], mode='lines', showlegend=True))\n",
    "        Fig.show()"
   ]
  },
  {
   "cell_type": "code",
   "execution_count": 49,
   "metadata": {},
   "outputs": [
    {
     "output_type": "execute_result",
     "data": {
      "text/plain": "[            Date   State  Total_Cases  Deaths  Recoveries\n 0     2020-01-30  Kerala            1       0           0\n 1     2020-01-31  Kerala            1       0           0\n 2     2020-02-01  Kerala            2       0           0\n 3     2020-02-02  Kerala            3       0           0\n 4     2020-02-03  Kerala            3       0           0\n ...          ...     ...          ...     ...         ...\n 3561  2020-07-03  Kerala         4753      25        2640\n 3596  2020-07-05  Kerala         5204      25        3048\n 3631  2020-07-07  Kerala         5622      27        3341\n 3666  2020-07-08  Kerala         5894      27        3452\n 3701  2020-07-09  Kerala         6195      27        3559\n \n [158 rows x 5 columns],\n             Date        State  Total_Cases  Deaths  Recoveries\n 76    2020-03-09  Maharashtra            2       0           0\n 88    2020-03-10  Maharashtra            5       0           0\n 100   2020-03-11  Maharashtra           10       0           0\n 113   2020-03-12  Maharashtra           11       0           0\n 126   2020-03-13  Maharashtra           11       0           0\n ...          ...          ...          ...     ...         ...\n 3564  2020-07-03  Maharashtra       186626    8178      101172\n 3599  2020-07-05  Maharashtra       200064    8671      108082\n 3634  2020-07-07  Maharashtra       211987    9026      115262\n 3669  2020-07-08  Maharashtra       217121    9250      118558\n 3704  2020-07-09  Maharashtra       223724    9448      123192\n \n [119 rows x 5 columns]]"
     },
     "metadata": {},
     "execution_count": 49
    }
   ],
   "source": [
    "state=[]\n",
    "state = df_s(\"Kerala\",\"Maharashtra\")\n",
    "state"
   ]
  },
  {
   "cell_type": "code",
   "execution_count": null,
   "metadata": {},
   "outputs": [],
   "source": []
  }
 ],
 "metadata": {
  "language_info": {
   "codemirror_mode": {
    "name": "ipython",
    "version": 3
   },
   "file_extension": ".py",
   "mimetype": "text/x-python",
   "name": "python",
   "nbconvert_exporter": "python",
   "pygments_lexer": "ipython3",
   "version": "3.7.6-final"
  },
  "orig_nbformat": 2,
  "kernelspec": {
   "name": "python_defaultSpec_1594746548663",
   "display_name": "Python 3.7.6 64-bit ('base': conda)"
  }
 },
 "nbformat": 4,
 "nbformat_minor": 2
}